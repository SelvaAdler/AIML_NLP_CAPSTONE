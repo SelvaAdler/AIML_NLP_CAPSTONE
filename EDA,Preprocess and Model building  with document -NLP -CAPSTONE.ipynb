{
 "cells": [
  {
   "cell_type": "markdown",
   "metadata": {},
   "source": [
    "# AIML Capstone Project - NLP - 1 - Automatic Ticket Assignment\n",
    "Status :- Interim Report - Draft for Team Review"
   ]
  },
  {
   "cell_type": "markdown",
   "metadata": {},
   "source": [
    "# In this capstone project, the goal is to build a classifier that can classify the tickets by analyzing text.\n",
    "\n",
    "Details about the data and dataset files are given in below link, https://drive.google.com/open?id=1OZNJm81JXucV3HmZroMq6qCT2m7ez7IJ\n",
    "\n",
    "Note : The above link is inaccessible @ Request Shyam's views for the same\n",
    "\n",
    "Pre-Processing, Data Visualization and EDA\n",
    "● Exploring the given Data files\n",
    "● Understanding the structure of data \n",
    "● Missing points in data \n",
    "● Finding inconsistencies in the data \n",
    "● Visualizing different patterns \n",
    "● Visualizing different text features \n",
    "● Dealing with missing values \n",
    "● Text preprocessing \n",
    "● Creating word vocabulary from the corpus of report text data \n",
    "● Creating tokens as required"
   ]
  },
  {
   "cell_type": "markdown",
   "metadata": {},
   "source": [
    "# Project Objectives\n",
    "The objective of the project is,\n",
    "\n",
    " Learn how to use different classification models.  Use transfer learning to use pre-built models.  Learn to set the optimizers, loss functions, epochs, learning rate, batch size, checkpointing, early stopping etc.  Read different research papers of given domain to obtain the knowledge of advanced models for the given problem."
   ]
  },
  {
   "cell_type": "markdown",
   "metadata": {},
   "source": [
    "# Project submissions and Evaluation Criteria\n",
    "Submit the project as given below.\n",
    "\n",
    " Report with Problem Statement, Related Work, Your Approach and comparison of results with other models written in Latex.\n",
    "\n",
    " Github link of where the model is hosted"
   ]
  },
  {
   "cell_type": "markdown",
   "metadata": {},
   "source": [
    "# Problem Statement\n",
    "An Incident is something that is unplanned interruption to an IT service or reduction in the quality of an IT service that affects the Users and the Business. The main goal of Incident Management process is to provide a quick fix / workarounds or solutions\n",
    "\n",
    "In most of the organizations, incidents are created by various Business and IT Users, End Users/ Vendors through Ticketting systems if available or manually assigning the incidents to the appropriate person or unit for fix and support.\n",
    "\n",
    "The assignment of incidents to appropriate IT groups through manual processes having many challenges like the effort/cost & time spent on this manual ticketing system is fairly high and the required fix turn around time mostly not within the expected timeline.\n",
    "\n",
    "All these above said points are due to inappropriate manual processing and allocation of incident Tickets to L3 support teams."
   ]
  },
  {
   "cell_type": "markdown",
   "metadata": {},
   "source": [
    "# Related Work"
   ]
  },
  {
   "cell_type": "markdown",
   "metadata": {},
   "source": [
    "Solution Approach\n",
    "As per our Review and Analysis on the given problem statment, we would like to provide solution as given below\n",
    "\n",
    "Pre-Processing Data\n",
    "### Manipulation or dropping of data in order to ensure enhance performance\n",
    "### Technics - Data Cleaning / Clencing / Data Integration / Data transformation & reduction\n",
    "\n",
    "### Ticket classification with machine learning solves this problem. \n",
    "### AI tools using 'NLP - Natural language processing' are able to learn, adapt, and determine actions to take, \n",
    "### without human input\n",
    "### So here NLP is being used to understrand Text content and define rules accordingly to solve the problem\n",
    "### For the given Problem statement, 'Ticket classification (Topic & Sentiment)' is the key to streamline \n",
    "### Unstructed data to structed Data\n",
    "### and setup the right data platform for the right fixes in quick turn around time in orderly manner"
   ]
  },
  {
   "cell_type": "markdown",
   "metadata": {
    "id": "P7gqsfEbRts0"
   },
   "source": [
    "# Imports"
   ]
  },
  {
   "cell_type": "code",
   "execution_count": 14,
   "metadata": {
    "executionInfo": {
     "elapsed": 766,
     "status": "ok",
     "timestamp": 1637422362101,
     "user": {
      "displayName": "shikha sharma",
      "photoUrl": "https://lh3.googleusercontent.com/a-/AOh14Gi7-MZ8BB7Qmx-tZ4fMVMWE32u_g_Wo7RIqAY8HaA=s64",
      "userId": "18236534953658718874"
     },
     "user_tz": -330
    },
    "id": "MdP9Kh_yPPQ-"
   },
   "outputs": [
    {
     "name": "stderr",
     "output_type": "stream",
     "text": [
      "WARNING: You are using pip version 22.0.3; however, version 22.0.4 is available.\n",
      "You should consider upgrading via the 'C:\\Users\\DELL\\anaconda6\\python.exe -m pip install --upgrade pip' command.\n"
     ]
    },
    {
     "name": "stdout",
     "output_type": "stream",
     "text": [
      "Requirement already satisfied: spacy in c:\\users\\dell\\anaconda6\\lib\\site-packages (3.2.2)\n",
      "Requirement already satisfied: spacy-loggers<2.0.0,>=1.0.0 in c:\\users\\dell\\anaconda6\\lib\\site-packages (from spacy) (1.0.1)\n",
      "Requirement already satisfied: setuptools in c:\\users\\dell\\anaconda6\\lib\\site-packages (from spacy) (58.0.4)\n",
      "Requirement already satisfied: preshed<3.1.0,>=3.0.2 in c:\\users\\dell\\anaconda6\\lib\\site-packages (from spacy) (3.0.6)\n",
      "Requirement already satisfied: srsly<3.0.0,>=2.4.1 in c:\\users\\dell\\anaconda6\\lib\\site-packages (from spacy) (2.4.2)\n",
      "Requirement already satisfied: cymem<2.1.0,>=2.0.2 in c:\\users\\dell\\anaconda6\\lib\\site-packages (from spacy) (2.0.6)\n",
      "Requirement already satisfied: tqdm<5.0.0,>=4.38.0 in c:\\users\\dell\\anaconda6\\lib\\site-packages (from spacy) (4.62.3)\n",
      "Requirement already satisfied: numpy>=1.15.0 in c:\\users\\dell\\anaconda6\\lib\\site-packages (from spacy) (1.20.3)\n",
      "Requirement already satisfied: requests<3.0.0,>=2.13.0 in c:\\users\\dell\\anaconda6\\lib\\site-packages (from spacy) (2.27.1)\n",
      "Requirement already satisfied: pathy>=0.3.5 in c:\\users\\dell\\anaconda6\\lib\\site-packages (from spacy) (0.6.1)\n",
      "Requirement already satisfied: packaging>=20.0 in c:\\users\\dell\\appdata\\roaming\\python\\python39\\site-packages (from spacy) (21.3)\n",
      "Requirement already satisfied: murmurhash<1.1.0,>=0.28.0 in c:\\users\\dell\\anaconda6\\lib\\site-packages (from spacy) (1.0.6)\n",
      "Requirement already satisfied: pydantic!=1.8,!=1.8.1,<1.9.0,>=1.7.4 in c:\\users\\dell\\anaconda6\\lib\\site-packages (from spacy) (1.8.2)\n",
      "Requirement already satisfied: wasabi<1.1.0,>=0.8.1 in c:\\users\\dell\\anaconda6\\lib\\site-packages (from spacy) (0.9.0)\n",
      "Requirement already satisfied: thinc<8.1.0,>=8.0.12 in c:\\users\\dell\\anaconda6\\lib\\site-packages (from spacy) (8.0.13)\n",
      "Requirement already satisfied: spacy-legacy<3.1.0,>=3.0.8 in c:\\users\\dell\\anaconda6\\lib\\site-packages (from spacy) (3.0.8)\n",
      "Requirement already satisfied: jinja2 in c:\\users\\dell\\appdata\\roaming\\python\\python39\\site-packages (from spacy) (3.0.3)\n",
      "Requirement already satisfied: catalogue<2.1.0,>=2.0.6 in c:\\users\\dell\\anaconda6\\lib\\site-packages (from spacy) (2.0.6)\n",
      "Requirement already satisfied: blis<0.8.0,>=0.4.0 in c:\\users\\dell\\anaconda6\\lib\\site-packages (from spacy) (0.7.5)\n",
      "Requirement already satisfied: langcodes<4.0.0,>=3.2.0 in c:\\users\\dell\\anaconda6\\lib\\site-packages (from spacy) (3.3.0)\n",
      "Requirement already satisfied: typer<0.5.0,>=0.3.0 in c:\\users\\dell\\anaconda6\\lib\\site-packages (from spacy) (0.4.0)\n",
      "Requirement already satisfied: pyparsing!=3.0.5,>=2.0.2 in c:\\users\\dell\\appdata\\roaming\\python\\python39\\site-packages (from packaging>=20.0->spacy) (3.0.7)\n",
      "Requirement already satisfied: smart-open<6.0.0,>=5.0.0 in c:\\users\\dell\\anaconda6\\lib\\site-packages (from pathy>=0.3.5->spacy) (5.2.1)\n",
      "Requirement already satisfied: typing-extensions>=3.7.4.3 in c:\\users\\dell\\appdata\\roaming\\python\\python39\\site-packages (from pydantic!=1.8,!=1.8.1,<1.9.0,>=1.7.4->spacy) (4.0.1)\n",
      "Requirement already satisfied: charset-normalizer~=2.0.0 in c:\\users\\dell\\anaconda6\\lib\\site-packages (from requests<3.0.0,>=2.13.0->spacy) (2.0.4)\n",
      "Requirement already satisfied: urllib3<1.27,>=1.21.1 in c:\\users\\dell\\anaconda6\\lib\\site-packages (from requests<3.0.0,>=2.13.0->spacy) (1.26.8)\n",
      "Requirement already satisfied: idna<4,>=2.5 in c:\\users\\dell\\anaconda6\\lib\\site-packages (from requests<3.0.0,>=2.13.0->spacy) (2.10)\n",
      "Requirement already satisfied: certifi>=2017.4.17 in c:\\users\\dell\\anaconda6\\lib\\site-packages (from requests<3.0.0,>=2.13.0->spacy) (2021.10.8)\n",
      "Requirement already satisfied: colorama in c:\\users\\dell\\appdata\\roaming\\python\\python39\\site-packages (from tqdm<5.0.0,>=4.38.0->spacy) (0.4.4)\n",
      "Requirement already satisfied: click<9.0.0,>=7.1.1 in c:\\users\\dell\\appdata\\roaming\\python\\python39\\site-packages (from typer<0.5.0,>=0.3.0->spacy) (8.0.3)\n",
      "Requirement already satisfied: MarkupSafe>=2.0 in c:\\users\\dell\\appdata\\roaming\\python\\python39\\site-packages (from jinja2->spacy) (2.0.1)\n"
     ]
    }
   ],
   "source": [
    "import pandas as pd\n",
    "import numpy as np\n",
    "!pip install spacy\n",
    "import spacy\n",
    "from spacy.lang.en.stop_words import STOP_WORDS as stop_words\n",
    "import os\n",
    "import regex as re\n",
    "import nltk\n",
    "#nltk.download('stopwords')\n",
    "from nltk.corpus import stopwords"
   ]
  },
  {
   "cell_type": "code",
   "execution_count": 15,
   "metadata": {
    "executionInfo": {
     "elapsed": 48,
     "status": "ok",
     "timestamp": 1637422363550,
     "user": {
      "displayName": "shikha sharma",
      "photoUrl": "https://lh3.googleusercontent.com/a-/AOh14Gi7-MZ8BB7Qmx-tZ4fMVMWE32u_g_Wo7RIqAY8HaA=s64",
      "userId": "18236534953658718874"
     },
     "user_tz": -330
    },
    "id": "XfnFHBQPlB2I"
   },
   "outputs": [
    {
     "name": "stdout",
     "output_type": "stream",
     "text": [
      "Requirement already satisfied: contractions in c:\\users\\dell\\anaconda6\\lib\\site-packages (0.1.66)\n",
      "Requirement already satisfied: textsearch>=0.0.21 in c:\\users\\dell\\anaconda6\\lib\\site-packages (from contractions) (0.0.21)\n",
      "Requirement already satisfied: anyascii in c:\\users\\dell\\anaconda6\\lib\\site-packages (from textsearch>=0.0.21->contractions) (0.3.0)\n",
      "Requirement already satisfied: pyahocorasick in c:\\users\\dell\\anaconda6\\lib\\site-packages (from textsearch>=0.0.21->contractions) (1.4.4)\n"
     ]
    },
    {
     "name": "stderr",
     "output_type": "stream",
     "text": [
      "WARNING: You are using pip version 22.0.3; however, version 22.0.4 is available.\n",
      "You should consider upgrading via the 'C:\\Users\\DELL\\anaconda6\\python.exe -m pip install --upgrade pip' command.\n"
     ]
    },
    {
     "name": "stdout",
     "output_type": "stream",
     "text": [
      "Requirement already satisfied: langdetect in c:\\users\\dell\\anaconda6\\lib\\site-packages (1.0.9)\n",
      "Requirement already satisfied: six in c:\\users\\dell\\appdata\\roaming\\python\\python39\\site-packages (from langdetect) (1.16.0)\n"
     ]
    },
    {
     "name": "stderr",
     "output_type": "stream",
     "text": [
      "WARNING: You are using pip version 22.0.3; however, version 22.0.4 is available.\n",
      "You should consider upgrading via the 'C:\\Users\\DELL\\anaconda6\\python.exe -m pip install --upgrade pip' command.\n"
     ]
    }
   ],
   "source": [
    "!pip install contractions\n",
    "import contractions\n",
    "import unicodedata\n",
    "!pip install langdetect\n",
    "from langdetect import detect\n",
    "import matplotlib.pyplot as plt # data visualization library\n",
    "%matplotlib inline\n",
    "import seaborn as sns"
   ]
  },
  {
   "cell_type": "code",
   "execution_count": 16,
   "metadata": {},
   "outputs": [],
   "source": [
    "import gensim\n",
    "import gensim.corpora as corpora\n",
    "#Remove stemming(snowball stemming) add lemmatistaion using simple_process from gensim \n",
    "from gensim.utils import simple_preprocess\n",
    "from gensim.models.ldamodel import LdaModel\n",
    "from gensim.models import CoherenceModel\n",
    "\n",
    "import nltk\n",
    "from sklearn.feature_extraction.text import CountVectorizer\n",
    "from sklearn.model_selection import train_test_split\n",
    "from sklearn.multiclass import OneVsRestClassifier\n",
    "from sklearn.linear_model import LogisticRegression\n",
    "from sklearn.metrics import accuracy_score, confusion_matrix, f1_score\n",
    "from sklearn.metrics import classification_report\n"
   ]
  },
  {
   "cell_type": "markdown",
   "metadata": {
    "id": "y8UqYaMKRzRz"
   },
   "source": [
    "# Reading the data into df"
   ]
  },
  {
   "cell_type": "code",
   "execution_count": 219,
   "metadata": {
    "executionInfo": {
     "elapsed": 462,
     "status": "ok",
     "timestamp": 1637422364002,
     "user": {
      "displayName": "shikha sharma",
      "photoUrl": "https://lh3.googleusercontent.com/a-/AOh14Gi7-MZ8BB7Qmx-tZ4fMVMWE32u_g_Wo7RIqAY8HaA=s64",
      "userId": "18236534953658718874"
     },
     "user_tz": -330
    },
    "id": "8XvXQXiJQZN4",
    "scrolled": true
   },
   "outputs": [
    {
     "data": {
      "text/html": [
       "<div>\n",
       "<style scoped>\n",
       "    .dataframe tbody tr th:only-of-type {\n",
       "        vertical-align: middle;\n",
       "    }\n",
       "\n",
       "    .dataframe tbody tr th {\n",
       "        vertical-align: top;\n",
       "    }\n",
       "\n",
       "    .dataframe thead th {\n",
       "        text-align: right;\n",
       "    }\n",
       "</style>\n",
       "<table border=\"1\" class=\"dataframe\">\n",
       "  <thead>\n",
       "    <tr style=\"text-align: right;\">\n",
       "      <th></th>\n",
       "      <th>Short description</th>\n",
       "      <th>Description</th>\n",
       "      <th>Caller</th>\n",
       "      <th>Assignment group</th>\n",
       "    </tr>\n",
       "  </thead>\n",
       "  <tbody>\n",
       "    <tr>\n",
       "      <th>0</th>\n",
       "      <td>login issue</td>\n",
       "      <td>-verified user details.(employee# &amp; manager na...</td>\n",
       "      <td>spxjnwir pjlcoqds</td>\n",
       "      <td>GRP_0</td>\n",
       "    </tr>\n",
       "    <tr>\n",
       "      <th>1</th>\n",
       "      <td>outlook</td>\n",
       "      <td>_x000D_\\n_x000D_\\nreceived from: hmjdrvpb.komu...</td>\n",
       "      <td>hmjdrvpb komuaywn</td>\n",
       "      <td>GRP_0</td>\n",
       "    </tr>\n",
       "    <tr>\n",
       "      <th>2</th>\n",
       "      <td>cant log in to vpn</td>\n",
       "      <td>_x000D_\\n_x000D_\\nreceived from: eylqgodm.ybqk...</td>\n",
       "      <td>eylqgodm ybqkwiam</td>\n",
       "      <td>GRP_0</td>\n",
       "    </tr>\n",
       "    <tr>\n",
       "      <th>3</th>\n",
       "      <td>unable to access hr_tool page</td>\n",
       "      <td>unable to access hr_tool page</td>\n",
       "      <td>xbkucsvz gcpydteq</td>\n",
       "      <td>GRP_0</td>\n",
       "    </tr>\n",
       "    <tr>\n",
       "      <th>4</th>\n",
       "      <td>skype error</td>\n",
       "      <td>skype error</td>\n",
       "      <td>owlgqjme qhcozdfx</td>\n",
       "      <td>GRP_0</td>\n",
       "    </tr>\n",
       "    <tr>\n",
       "      <th>...</th>\n",
       "      <td>...</td>\n",
       "      <td>...</td>\n",
       "      <td>...</td>\n",
       "      <td>...</td>\n",
       "    </tr>\n",
       "    <tr>\n",
       "      <th>8495</th>\n",
       "      <td>emails not coming in from zz mail</td>\n",
       "      <td>_x000D_\\n_x000D_\\nreceived from: avglmrts.vhqm...</td>\n",
       "      <td>avglmrts vhqmtiua</td>\n",
       "      <td>GRP_29</td>\n",
       "    </tr>\n",
       "    <tr>\n",
       "      <th>8496</th>\n",
       "      <td>telephony_software issue</td>\n",
       "      <td>telephony_software issue</td>\n",
       "      <td>rbozivdq gmlhrtvp</td>\n",
       "      <td>GRP_0</td>\n",
       "    </tr>\n",
       "    <tr>\n",
       "      <th>8497</th>\n",
       "      <td>vip2: windows password reset for tifpdchb pedx...</td>\n",
       "      <td>vip2: windows password reset for tifpdchb pedx...</td>\n",
       "      <td>oybwdsgx oxyhwrfz</td>\n",
       "      <td>GRP_0</td>\n",
       "    </tr>\n",
       "    <tr>\n",
       "      <th>8498</th>\n",
       "      <td>machine nÃ£o estÃ¡ funcionando</td>\n",
       "      <td>i am unable to access the machine utilities to...</td>\n",
       "      <td>ufawcgob aowhxjky</td>\n",
       "      <td>GRP_62</td>\n",
       "    </tr>\n",
       "    <tr>\n",
       "      <th>8499</th>\n",
       "      <td>an mehreren pc`s lassen sich verschiedene prgr...</td>\n",
       "      <td>an mehreren pc`s lassen sich verschiedene prgr...</td>\n",
       "      <td>kqvbrspl jyzoklfx</td>\n",
       "      <td>GRP_49</td>\n",
       "    </tr>\n",
       "  </tbody>\n",
       "</table>\n",
       "<p>8500 rows × 4 columns</p>\n",
       "</div>"
      ],
      "text/plain": [
       "                                      Short description  \\\n",
       "0                                           login issue   \n",
       "1                                               outlook   \n",
       "2                                    cant log in to vpn   \n",
       "3                         unable to access hr_tool page   \n",
       "4                                          skype error    \n",
       "...                                                 ...   \n",
       "8495                  emails not coming in from zz mail   \n",
       "8496                           telephony_software issue   \n",
       "8497  vip2: windows password reset for tifpdchb pedx...   \n",
       "8498                     machine nÃ£o estÃ¡ funcionando   \n",
       "8499  an mehreren pc`s lassen sich verschiedene prgr...   \n",
       "\n",
       "                                            Description             Caller  \\\n",
       "0     -verified user details.(employee# & manager na...  spxjnwir pjlcoqds   \n",
       "1     _x000D_\\n_x000D_\\nreceived from: hmjdrvpb.komu...  hmjdrvpb komuaywn   \n",
       "2     _x000D_\\n_x000D_\\nreceived from: eylqgodm.ybqk...  eylqgodm ybqkwiam   \n",
       "3                         unable to access hr_tool page  xbkucsvz gcpydteq   \n",
       "4                                          skype error   owlgqjme qhcozdfx   \n",
       "...                                                 ...                ...   \n",
       "8495  _x000D_\\n_x000D_\\nreceived from: avglmrts.vhqm...  avglmrts vhqmtiua   \n",
       "8496                           telephony_software issue  rbozivdq gmlhrtvp   \n",
       "8497  vip2: windows password reset for tifpdchb pedx...  oybwdsgx oxyhwrfz   \n",
       "8498  i am unable to access the machine utilities to...  ufawcgob aowhxjky   \n",
       "8499  an mehreren pc`s lassen sich verschiedene prgr...  kqvbrspl jyzoklfx   \n",
       "\n",
       "     Assignment group  \n",
       "0               GRP_0  \n",
       "1               GRP_0  \n",
       "2               GRP_0  \n",
       "3               GRP_0  \n",
       "4               GRP_0  \n",
       "...               ...  \n",
       "8495           GRP_29  \n",
       "8496            GRP_0  \n",
       "8497            GRP_0  \n",
       "8498           GRP_62  \n",
       "8499           GRP_49  \n",
       "\n",
       "[8500 rows x 4 columns]"
      ]
     },
     "execution_count": 219,
     "metadata": {},
     "output_type": "execute_result"
    }
   ],
   "source": [
    "#Reading the excel into data frame\n",
    "df = pd.read_excel('C:/Users/DELL/Downloads/Data file.xlsx')\n",
    "df"
   ]
  },
  {
   "cell_type": "markdown",
   "metadata": {},
   "source": [
    "# To Check unique Assignment Group"
   ]
  },
  {
   "cell_type": "code",
   "execution_count": 220,
   "metadata": {
    "colab": {
     "base_uri": "https://localhost:8080/"
    },
    "executionInfo": {
     "elapsed": 39,
     "status": "ok",
     "timestamp": 1637422364011,
     "user": {
      "displayName": "shikha sharma",
      "photoUrl": "https://lh3.googleusercontent.com/a-/AOh14Gi7-MZ8BB7Qmx-tZ4fMVMWE32u_g_Wo7RIqAY8HaA=s64",
      "userId": "18236534953658718874"
     },
     "user_tz": -330
    },
    "id": "yxs-ob6LcMfM",
    "outputId": "402597c8-21c1-4447-8781-8f177b1f3cb1"
   },
   "outputs": [
    {
     "data": {
      "text/plain": [
       "array(['GRP_0', 'GRP_1', 'GRP_3', 'GRP_4', 'GRP_5', 'GRP_6', 'GRP_7',\n",
       "       'GRP_8', 'GRP_9', 'GRP_10', 'GRP_11', 'GRP_12', 'GRP_13', 'GRP_14',\n",
       "       'GRP_15', 'GRP_16', 'GRP_17', 'GRP_18', 'GRP_19', 'GRP_2',\n",
       "       'GRP_20', 'GRP_21', 'GRP_22', 'GRP_23', 'GRP_24', 'GRP_25',\n",
       "       'GRP_26', 'GRP_27', 'GRP_28', 'GRP_29', 'GRP_30', 'GRP_31',\n",
       "       'GRP_33', 'GRP_34', 'GRP_35', 'GRP_36', 'GRP_37', 'GRP_38',\n",
       "       'GRP_39', 'GRP_40', 'GRP_41', 'GRP_42', 'GRP_43', 'GRP_44',\n",
       "       'GRP_45', 'GRP_46', 'GRP_47', 'GRP_48', 'GRP_49', 'GRP_50',\n",
       "       'GRP_51', 'GRP_52', 'GRP_53', 'GRP_54', 'GRP_55', 'GRP_56',\n",
       "       'GRP_57', 'GRP_58', 'GRP_59', 'GRP_60', 'GRP_61', 'GRP_32',\n",
       "       'GRP_62', 'GRP_63', 'GRP_64', 'GRP_65', 'GRP_66', 'GRP_67',\n",
       "       'GRP_68', 'GRP_69', 'GRP_70', 'GRP_71', 'GRP_72', 'GRP_73'],\n",
       "      dtype=object)"
      ]
     },
     "execution_count": 220,
     "metadata": {},
     "output_type": "execute_result"
    }
   ],
   "source": [
    "#checking number of assignment groups\n",
    "df['Assignment group'].unique()"
   ]
  },
  {
   "cell_type": "markdown",
   "metadata": {
    "id": "uT5XU5rWcT87"
   },
   "source": [
    "There are total 74 groups"
   ]
  },
  {
   "cell_type": "markdown",
   "metadata": {
    "id": "uT5XU5rWcT87"
   },
   "source": [
    "Assignment Group Percentage"
   ]
  },
  {
   "cell_type": "code",
   "execution_count": 221,
   "metadata": {
    "colab": {
     "base_uri": "https://localhost:8080/",
     "height": 204
    },
    "executionInfo": {
     "elapsed": 29,
     "status": "ok",
     "timestamp": 1637422364018,
     "user": {
      "displayName": "shikha sharma",
      "photoUrl": "https://lh3.googleusercontent.com/a-/AOh14Gi7-MZ8BB7Qmx-tZ4fMVMWE32u_g_Wo7RIqAY8HaA=s64",
      "userId": "18236534953658718874"
     },
     "user_tz": -330
    },
    "id": "JKb3WorLcXWA",
    "outputId": "165cc3e8-98ff-4ef4-c6d2-cde76264d8d5"
   },
   "outputs": [
    {
     "data": {
      "text/html": [
       "<div>\n",
       "<style scoped>\n",
       "    .dataframe tbody tr th:only-of-type {\n",
       "        vertical-align: middle;\n",
       "    }\n",
       "\n",
       "    .dataframe tbody tr th {\n",
       "        vertical-align: top;\n",
       "    }\n",
       "\n",
       "    .dataframe thead th {\n",
       "        text-align: right;\n",
       "    }\n",
       "</style>\n",
       "<table border=\"1\" class=\"dataframe\">\n",
       "  <thead>\n",
       "    <tr style=\"text-align: right;\">\n",
       "      <th></th>\n",
       "      <th>index</th>\n",
       "      <th>Assignment group</th>\n",
       "      <th>percentage</th>\n",
       "    </tr>\n",
       "  </thead>\n",
       "  <tbody>\n",
       "    <tr>\n",
       "      <th>0</th>\n",
       "      <td>GRP_0</td>\n",
       "      <td>3976</td>\n",
       "      <td>46.776471</td>\n",
       "    </tr>\n",
       "    <tr>\n",
       "      <th>1</th>\n",
       "      <td>GRP_8</td>\n",
       "      <td>661</td>\n",
       "      <td>7.776471</td>\n",
       "    </tr>\n",
       "    <tr>\n",
       "      <th>2</th>\n",
       "      <td>GRP_24</td>\n",
       "      <td>289</td>\n",
       "      <td>3.400000</td>\n",
       "    </tr>\n",
       "    <tr>\n",
       "      <th>3</th>\n",
       "      <td>GRP_12</td>\n",
       "      <td>257</td>\n",
       "      <td>3.023529</td>\n",
       "    </tr>\n",
       "    <tr>\n",
       "      <th>4</th>\n",
       "      <td>GRP_9</td>\n",
       "      <td>252</td>\n",
       "      <td>2.964706</td>\n",
       "    </tr>\n",
       "  </tbody>\n",
       "</table>\n",
       "</div>"
      ],
      "text/plain": [
       "    index  Assignment group  percentage\n",
       "0   GRP_0              3976   46.776471\n",
       "1   GRP_8               661    7.776471\n",
       "2  GRP_24               289    3.400000\n",
       "3  GRP_12               257    3.023529\n",
       "4   GRP_9               252    2.964706"
      ]
     },
     "execution_count": 221,
     "metadata": {},
     "output_type": "execute_result"
    }
   ],
   "source": [
    "df_inc = df['Assignment group'].value_counts().reset_index()\n",
    "df_inc['percentage'] = (df_inc['Assignment group']/df_inc['Assignment group'].sum())*100\n",
    "df_inc.head()"
   ]
  },
  {
   "cell_type": "markdown",
   "metadata": {},
   "source": [
    "## Data Visualization\n",
    "- Plot to visualize the percentage data distribution across different groups\n",
    "- Benefits - Reconize to rapidly. Visually representation help to identify storgly corelated parameters.\n",
    "- In this below processing - We identify that overall 46% of ticketing are tagged to \"GRP_0\"\n",
    "- Plus the comparison view of GRP_0 Vs other Groups "
   ]
  },
  {
   "cell_type": "code",
   "execution_count": 254,
   "metadata": {
    "colab": {
     "base_uri": "https://localhost:8080/",
     "height": 414
    },
    "executionInfo": {
     "elapsed": 4343,
     "status": "ok",
     "timestamp": 1637422368334,
     "user": {
      "displayName": "shikha sharma",
      "photoUrl": "https://lh3.googleusercontent.com/a-/AOh14Gi7-MZ8BB7Qmx-tZ4fMVMWE32u_g_Wo7RIqAY8HaA=s64",
      "userId": "18236534953658718874"
     },
     "user_tz": -330
    },
    "id": "JeI6Vlsr9Bdk",
    "outputId": "0c8d97e9-21fc-4e35-c58b-d7136d3e2e40"
   },
   "outputs": [
    {
     "data": {
      "image/png": "[encoded data removed]",
      "text/plain": [
       "<Figure size 1440x360 with 1 Axes>"
      ]
     },
     "metadata": {},
     "output_type": "display_data"
    }
   ],
   "source": [
    "# Plot to visualize the percentage data distribution across different groups\n",
    "sns.set(style=\"darkgrid\")\n",
    "plt.figure(figsize=(20,5))\n",
    "ax = sns.countplot(x=\"Assignment group\", data=df, order=df[\"Assignment group\"].value_counts().index)\n",
    "ax.set_xticklabels(ax.get_xticklabels(), rotation=90)\n",
    "for p in ax.patches:\n",
    "  ax.annotate(str(format(p.get_height()/len(df.index)*100, '.2f')+\"%\"), (p.get_x() + p.get_width() / 2., p.get_height()), ha = 'center', va = 'bottom', rotation=90, xytext = (0, 10), textcoords = 'offset points')\n",
    "#augmentation"
   ]
  },
  {
   "cell_type": "markdown",
   "metadata": {
    "id": "8bh5Izv0cjIl"
   },
   "source": [
    "Checking the most repeated top 10 groups"
   ]
  },
  {
   "cell_type": "code",
   "execution_count": 223,
   "metadata": {
    "colab": {
     "base_uri": "https://localhost:8080/",
     "height": 359
    },
    "executionInfo": {
     "elapsed": 446,
     "status": "ok",
     "timestamp": 1637422368337,
     "user": {
      "displayName": "shikha sharma",
      "photoUrl": "https://lh3.googleusercontent.com/a-/AOh14Gi7-MZ8BB7Qmx-tZ4fMVMWE32u_g_Wo7RIqAY8HaA=s64",
      "userId": "18236534953658718874"
     },
     "user_tz": -330
    },
    "id": "hIOLE0hKcsp5",
    "outputId": "9f767629-2c19-417c-a9f9-e8fa2aa5861a"
   },
   "outputs": [
    {
     "data": {
      "text/html": [
       "<div>\n",
       "<style scoped>\n",
       "    .dataframe tbody tr th:only-of-type {\n",
       "        vertical-align: middle;\n",
       "    }\n",
       "\n",
       "    .dataframe tbody tr th {\n",
       "        vertical-align: top;\n",
       "    }\n",
       "\n",
       "    .dataframe thead th {\n",
       "        text-align: right;\n",
       "    }\n",
       "</style>\n",
       "<table border=\"1\" class=\"dataframe\">\n",
       "  <thead>\n",
       "    <tr style=\"text-align: right;\">\n",
       "      <th></th>\n",
       "      <th>index</th>\n",
       "      <th>Assignment group</th>\n",
       "    </tr>\n",
       "  </thead>\n",
       "  <tbody>\n",
       "    <tr>\n",
       "      <th>0</th>\n",
       "      <td>GRP_0</td>\n",
       "      <td>3976</td>\n",
       "    </tr>\n",
       "    <tr>\n",
       "      <th>1</th>\n",
       "      <td>GRP_8</td>\n",
       "      <td>661</td>\n",
       "    </tr>\n",
       "    <tr>\n",
       "      <th>2</th>\n",
       "      <td>GRP_24</td>\n",
       "      <td>289</td>\n",
       "    </tr>\n",
       "    <tr>\n",
       "      <th>3</th>\n",
       "      <td>GRP_12</td>\n",
       "      <td>257</td>\n",
       "    </tr>\n",
       "    <tr>\n",
       "      <th>4</th>\n",
       "      <td>GRP_9</td>\n",
       "      <td>252</td>\n",
       "    </tr>\n",
       "    <tr>\n",
       "      <th>5</th>\n",
       "      <td>GRP_2</td>\n",
       "      <td>241</td>\n",
       "    </tr>\n",
       "    <tr>\n",
       "      <th>6</th>\n",
       "      <td>GRP_19</td>\n",
       "      <td>215</td>\n",
       "    </tr>\n",
       "    <tr>\n",
       "      <th>7</th>\n",
       "      <td>GRP_3</td>\n",
       "      <td>200</td>\n",
       "    </tr>\n",
       "    <tr>\n",
       "      <th>8</th>\n",
       "      <td>GRP_6</td>\n",
       "      <td>184</td>\n",
       "    </tr>\n",
       "    <tr>\n",
       "      <th>9</th>\n",
       "      <td>GRP_13</td>\n",
       "      <td>145</td>\n",
       "    </tr>\n",
       "  </tbody>\n",
       "</table>\n",
       "</div>"
      ],
      "text/plain": [
       "    index  Assignment group\n",
       "0   GRP_0              3976\n",
       "1   GRP_8               661\n",
       "2  GRP_24               289\n",
       "3  GRP_12               257\n",
       "4   GRP_9               252\n",
       "5   GRP_2               241\n",
       "6  GRP_19               215\n",
       "7   GRP_3               200\n",
       "8   GRP_6               184\n",
       "9  GRP_13               145"
      ]
     },
     "execution_count": 223,
     "metadata": {},
     "output_type": "execute_result"
    }
   ],
   "source": [
    "df_top_10 = df['Assignment group'].value_counts().nlargest(10).reset_index()\n",
    "df_top_10"
   ]
  },
  {
   "cell_type": "markdown",
   "metadata": {
    "id": "N4rRxKTSc1QX"
   },
   "source": [
    "Checking the last 10 assignment groups"
   ]
  },
  {
   "cell_type": "code",
   "execution_count": 224,
   "metadata": {
    "colab": {
     "base_uri": "https://localhost:8080/",
     "height": 359
    },
    "executionInfo": {
     "elapsed": 445,
     "status": "ok",
     "timestamp": 1637422368339,
     "user": {
      "displayName": "shikha sharma",
      "photoUrl": "https://lh3.googleusercontent.com/a-/AOh14Gi7-MZ8BB7Qmx-tZ4fMVMWE32u_g_Wo7RIqAY8HaA=s64",
      "userId": "18236534953658718874"
     },
     "user_tz": -330
    },
    "id": "jIyFMAa1c4bG",
    "outputId": "46af4245-8afd-4b51-ea86-23b8dcfe95f6"
   },
   "outputs": [
    {
     "data": {
      "text/html": [
       "<div>\n",
       "<style scoped>\n",
       "    .dataframe tbody tr th:only-of-type {\n",
       "        vertical-align: middle;\n",
       "    }\n",
       "\n",
       "    .dataframe tbody tr th {\n",
       "        vertical-align: top;\n",
       "    }\n",
       "\n",
       "    .dataframe thead th {\n",
       "        text-align: right;\n",
       "    }\n",
       "</style>\n",
       "<table border=\"1\" class=\"dataframe\">\n",
       "  <thead>\n",
       "    <tr style=\"text-align: right;\">\n",
       "      <th></th>\n",
       "      <th>index</th>\n",
       "      <th>Assignment group</th>\n",
       "    </tr>\n",
       "  </thead>\n",
       "  <tbody>\n",
       "    <tr>\n",
       "      <th>0</th>\n",
       "      <td>GRP_61</td>\n",
       "      <td>1</td>\n",
       "    </tr>\n",
       "    <tr>\n",
       "      <th>1</th>\n",
       "      <td>GRP_64</td>\n",
       "      <td>1</td>\n",
       "    </tr>\n",
       "    <tr>\n",
       "      <th>2</th>\n",
       "      <td>GRP_67</td>\n",
       "      <td>1</td>\n",
       "    </tr>\n",
       "    <tr>\n",
       "      <th>3</th>\n",
       "      <td>GRP_35</td>\n",
       "      <td>1</td>\n",
       "    </tr>\n",
       "    <tr>\n",
       "      <th>4</th>\n",
       "      <td>GRP_70</td>\n",
       "      <td>1</td>\n",
       "    </tr>\n",
       "    <tr>\n",
       "      <th>5</th>\n",
       "      <td>GRP_73</td>\n",
       "      <td>1</td>\n",
       "    </tr>\n",
       "    <tr>\n",
       "      <th>6</th>\n",
       "      <td>GRP_57</td>\n",
       "      <td>2</td>\n",
       "    </tr>\n",
       "    <tr>\n",
       "      <th>7</th>\n",
       "      <td>GRP_54</td>\n",
       "      <td>2</td>\n",
       "    </tr>\n",
       "    <tr>\n",
       "      <th>8</th>\n",
       "      <td>GRP_69</td>\n",
       "      <td>2</td>\n",
       "    </tr>\n",
       "    <tr>\n",
       "      <th>9</th>\n",
       "      <td>GRP_71</td>\n",
       "      <td>2</td>\n",
       "    </tr>\n",
       "  </tbody>\n",
       "</table>\n",
       "</div>"
      ],
      "text/plain": [
       "    index  Assignment group\n",
       "0  GRP_61                 1\n",
       "1  GRP_64                 1\n",
       "2  GRP_67                 1\n",
       "3  GRP_35                 1\n",
       "4  GRP_70                 1\n",
       "5  GRP_73                 1\n",
       "6  GRP_57                 2\n",
       "7  GRP_54                 2\n",
       "8  GRP_69                 2\n",
       "9  GRP_71                 2"
      ]
     },
     "execution_count": 224,
     "metadata": {},
     "output_type": "execute_result"
    }
   ],
   "source": [
    "df_bottom_10 = df['Assignment group'].value_counts().nsmallest(10).reset_index()\n",
    "df_bottom_10"
   ]
  },
  {
   "cell_type": "markdown",
   "metadata": {
    "id": "xJfnb-JRdJ0r"
   },
   "source": [
    "Checking the distirbution"
   ]
  },
  {
   "cell_type": "code",
   "execution_count": 256,
   "metadata": {
    "colab": {
     "base_uri": "https://localhost:8080/",
     "height": 142
    },
    "executionInfo": {
     "elapsed": 445,
     "status": "ok",
     "timestamp": 1637422368341,
     "user": {
      "displayName": "shikha sharma",
      "photoUrl": "https://lh3.googleusercontent.com/a-/AOh14Gi7-MZ8BB7Qmx-tZ4fMVMWE32u_g_Wo7RIqAY8HaA=s64",
      "userId": "18236534953658718874"
     },
     "user_tz": -330
    },
    "id": "dC3EVB4_dMHA",
    "outputId": "efb3a53a-821a-4297-a2ef-23bcd6e62fc9"
   },
   "outputs": [
    {
     "data": {
      "text/html": [
       "<div>\n",
       "<style scoped>\n",
       "    .dataframe tbody tr th:only-of-type {\n",
       "        vertical-align: middle;\n",
       "    }\n",
       "\n",
       "    .dataframe tbody tr th {\n",
       "        vertical-align: top;\n",
       "    }\n",
       "\n",
       "    .dataframe thead th {\n",
       "        text-align: right;\n",
       "    }\n",
       "</style>\n",
       "<table border=\"1\" class=\"dataframe\">\n",
       "  <thead>\n",
       "    <tr style=\"text-align: right;\">\n",
       "      <th></th>\n",
       "      <th>Description</th>\n",
       "      <th>Ticket Count</th>\n",
       "    </tr>\n",
       "  </thead>\n",
       "  <tbody>\n",
       "    <tr>\n",
       "      <th>0</th>\n",
       "      <td>1-50 ticket</td>\n",
       "      <td>44</td>\n",
       "    </tr>\n",
       "    <tr>\n",
       "      <th>1</th>\n",
       "      <td>51-100 ticket</td>\n",
       "      <td>9</td>\n",
       "    </tr>\n",
       "    <tr>\n",
       "      <th>2</th>\n",
       "      <td>&gt;100 ticket</td>\n",
       "      <td>15</td>\n",
       "    </tr>\n",
       "  </tbody>\n",
       "</table>\n",
       "</div>"
      ],
      "text/plain": [
       "      Description Ticket Count\n",
       "0     1-50 ticket           44\n",
       "1   51-100 ticket            9\n",
       "2     >100 ticket           15"
      ]
     },
     "execution_count": 256,
     "metadata": {},
     "output_type": "execute_result"
    }
   ],
   "source": [
    "df_bins = pd.DataFrame(columns=['Description','Ticket Count'])\n",
    "_1_50_ticket = {'Description':' 1-50 ticket',\n",
    "              'Ticket Count':len(df_inc[(df_inc['Assignment group'] > 1)& (df_inc['Assignment group'] < 51)])}\n",
    "_51_100_ticket = {'Description':' 51-100 ticket',\n",
    "              'Ticket Count':len(df_inc[(df_inc['Assignment group'] > 50)& (df_inc['Assignment group'] < 101)])}\n",
    "_100_ticket = {'Description':' >100 ticket',\n",
    "              'Ticket Count':len(df_inc[(df_inc['Assignment group'] > 100)])}\n",
    "#append row to the dataframe\n",
    "df_bins = df_bins.append([_1_50_ticket,_51_100_ticket,_100_ticket], ignore_index=True)\n",
    "\n",
    "df_bins\n"
   ]
  },
  {
   "cell_type": "code",
   "execution_count": null,
   "metadata": {},
   "outputs": [],
   "source": []
  },
  {
   "cell_type": "code",
   "execution_count": 257,
   "metadata": {
    "colab": {
     "base_uri": "https://localhost:8080/",
     "height": 486
    },
    "executionInfo": {
     "elapsed": 445,
     "status": "ok",
     "timestamp": 1637422368342,
     "user": {
      "displayName": "shikha sharma",
      "photoUrl": "https://lh3.googleusercontent.com/a-/AOh14Gi7-MZ8BB7Qmx-tZ4fMVMWE32u_g_Wo7RIqAY8HaA=s64",
      "userId": "18236534953658718874"
     },
     "user_tz": -330
    },
    "id": "tCTgBve24Yx5",
    "outputId": "e429b5bd-4ed6-48ac-e675-1dabcc56ebd2"
   },
   "outputs": [
    {
     "data": {
      "image/png": "[encoded data removed]",
      "text/plain": [
       "<Figure size 720x576 with 1 Axes>"
      ]
     },
     "metadata": {},
     "output_type": "display_data"
    }
   ],
   "source": [
    "plt.figure(figsize=(10, 8))\n",
    "plt.pie(df_bins['Ticket Count'],labels=df_bins['Description'],autopct='%1.1f%%', startangle=15);\n",
    "plt.title('Assignment Groups Distribution')\n",
    "plt.axis('equal');"
   ]
  },
  {
   "cell_type": "code",
   "execution_count": 258,
   "metadata": {
    "colab": {
     "base_uri": "https://localhost:8080/"
    },
    "executionInfo": {
     "elapsed": 444,
     "status": "ok",
     "timestamp": 1637422368343,
     "user": {
      "displayName": "shikha sharma",
      "photoUrl": "https://lh3.googleusercontent.com/a-/AOh14Gi7-MZ8BB7Qmx-tZ4fMVMWE32u_g_Wo7RIqAY8HaA=s64",
      "userId": "18236534953658718874"
     },
     "user_tz": -330
    },
    "id": "ApdOqLvfUVFH",
    "outputId": "90391c89-8349-4b6e-9970-16d64e022ac2"
   },
   "outputs": [
    {
     "data": {
      "text/plain": [
       "Short description    8\n",
       "Description          0\n",
       "Caller               0\n",
       "Assignment group     0\n",
       "language             0\n",
       "dtype: int64"
      ]
     },
     "execution_count": 258,
     "metadata": {},
     "output_type": "execute_result"
    }
   ],
   "source": [
    "#checking the null values\n",
    "df.isnull().sum()"
   ]
  },
  {
   "cell_type": "markdown",
   "metadata": {},
   "source": [
    "### Pre-Processing Data \n",
    "- Applying plot to show Percentage of group assignments interms of given ticket buckets mapped to the Group "
   ]
  },
  {
   "cell_type": "markdown",
   "metadata": {},
   "source": [
    "## Dealing with missing values"
   ]
  },
  {
   "cell_type": "code",
   "execution_count": 259,
   "metadata": {
    "colab": {
     "base_uri": "https://localhost:8080/",
     "height": 80
    },
    "executionInfo": {
     "elapsed": 432,
     "status": "ok",
     "timestamp": 1637422368343,
     "user": {
      "displayName": "shikha sharma",
      "photoUrl": "https://lh3.googleusercontent.com/a-/AOh14Gi7-MZ8BB7Qmx-tZ4fMVMWE32u_g_Wo7RIqAY8HaA=s64",
      "userId": "18236534953658718874"
     },
     "user_tz": -330
    },
    "id": "WT190YxxPHcN",
    "outputId": "1ed04f10-f81c-4a6c-fee2-404076a9d413"
   },
   "outputs": [
    {
     "data": {
      "text/html": [
       "<div>\n",
       "<style scoped>\n",
       "    .dataframe tbody tr th:only-of-type {\n",
       "        vertical-align: middle;\n",
       "    }\n",
       "\n",
       "    .dataframe tbody tr th {\n",
       "        vertical-align: top;\n",
       "    }\n",
       "\n",
       "    .dataframe thead th {\n",
       "        text-align: right;\n",
       "    }\n",
       "</style>\n",
       "<table border=\"1\" class=\"dataframe\">\n",
       "  <thead>\n",
       "    <tr style=\"text-align: right;\">\n",
       "      <th></th>\n",
       "      <th>Short description</th>\n",
       "      <th>Description</th>\n",
       "      <th>Caller</th>\n",
       "      <th>Assignment group</th>\n",
       "      <th>language</th>\n",
       "    </tr>\n",
       "  </thead>\n",
       "  <tbody>\n",
       "  </tbody>\n",
       "</table>\n",
       "</div>"
      ],
      "text/plain": [
       "Empty DataFrame\n",
       "Columns: [Short description, Description, Caller, Assignment group, language]\n",
       "Index: []"
      ]
     },
     "execution_count": 259,
     "metadata": {},
     "output_type": "execute_result"
    }
   ],
   "source": [
    "#Checking the value of null\n",
    "df[df['Description'].isnull()]"
   ]
  },
  {
   "cell_type": "code",
   "execution_count": 260,
   "metadata": {
    "executionInfo": {
     "elapsed": 432,
     "status": "ok",
     "timestamp": 1637422368344,
     "user": {
      "displayName": "shikha sharma",
      "photoUrl": "https://lh3.googleusercontent.com/a-/AOh14Gi7-MZ8BB7Qmx-tZ4fMVMWE32u_g_Wo7RIqAY8HaA=s64",
      "userId": "18236534953658718874"
     },
     "user_tz": -330
    },
    "id": "AuMZ3vbML-_S"
   },
   "outputs": [],
   "source": [
    "#Replacing the null value with the short description value\n",
    "df=df.replace({'Description':np.NaN},df[df['Short description']=='i am locked out of skype']['Short description'].to_string().split(maxsplit=1)[1])"
   ]
  },
  {
   "cell_type": "code",
   "execution_count": 261,
   "metadata": {
    "colab": {
     "base_uri": "https://localhost:8080/"
    },
    "executionInfo": {
     "elapsed": 433,
     "status": "ok",
     "timestamp": 1637422368346,
     "user": {
      "displayName": "shikha sharma",
      "photoUrl": "https://lh3.googleusercontent.com/a-/AOh14Gi7-MZ8BB7Qmx-tZ4fMVMWE32u_g_Wo7RIqAY8HaA=s64",
      "userId": "18236534953658718874"
     },
     "user_tz": -330
    },
    "id": "BfYVguY9I1Mq",
    "outputId": "c9d9c4f1-cd40-441e-bcb8-e18496fe854d"
   },
   "outputs": [
    {
     "data": {
      "text/plain": [
       "Short description    i am locked out of skype\n",
       "Description          i am locked out of skype\n",
       "Caller                      viyglzfo ajtfzpkb\n",
       "Assignment group                        GRP_0\n",
       "language                                   en\n",
       "Name: 4395, dtype: object"
      ]
     },
     "execution_count": 261,
     "metadata": {},
     "output_type": "execute_result"
    }
   ],
   "source": [
    "#Checking if the value is actually replaced or not\n",
    "df.iloc[4395]"
   ]
  },
  {
   "cell_type": "code",
   "execution_count": 262,
   "metadata": {
    "colab": {
     "base_uri": "https://localhost:8080/"
    },
    "executionInfo": {
     "elapsed": 448,
     "status": "ok",
     "timestamp": 1637422368366,
     "user": {
      "displayName": "shikha sharma",
      "photoUrl": "https://lh3.googleusercontent.com/a-/AOh14Gi7-MZ8BB7Qmx-tZ4fMVMWE32u_g_Wo7RIqAY8HaA=s64",
      "userId": "18236534953658718874"
     },
     "user_tz": -330
    },
    "id": "8DZSXXqSPfBa",
    "outputId": "904d53f4-fe0a-4bf7-ef45-da86bc04d5db"
   },
   "outputs": [
    {
     "data": {
      "text/plain": [
       "Short description    8\n",
       "Description          0\n",
       "Caller               0\n",
       "Assignment group     0\n",
       "language             0\n",
       "dtype: int64"
      ]
     },
     "execution_count": 262,
     "metadata": {},
     "output_type": "execute_result"
    }
   ],
   "source": [
    "#Checking for the null values\n",
    "df.isnull().sum()"
   ]
  },
  {
   "cell_type": "markdown",
   "metadata": {
    "id": "UTSvpHWjPnzj"
   },
   "source": [
    "Since we are mostly concerend with the description letting the short description null values be for  a moment"
   ]
  },
  {
   "cell_type": "code",
   "execution_count": 263,
   "metadata": {
    "executionInfo": {
     "elapsed": 441,
     "status": "ok",
     "timestamp": 1637422368367,
     "user": {
      "displayName": "shikha sharma",
      "photoUrl": "https://lh3.googleusercontent.com/a-/AOh14Gi7-MZ8BB7Qmx-tZ4fMVMWE32u_g_Wo7RIqAY8HaA=s64",
      "userId": "18236534953658718874"
     },
     "user_tz": -330
    },
    "id": "jdNZz_goI3T6"
   },
   "outputs": [],
   "source": [
    "feature_df = df.filter(['Description','Assignment group'], axis=1)"
   ]
  },
  {
   "cell_type": "markdown",
   "metadata": {},
   "source": [
    "## Text preprocessing\n",
    "- A method to clean text data and make it ready for feed data to the model\n",
    "- it contains noise and punctuation in various text case\n",
    "- Here we wanted to count number of words given in dataset\n",
    "- Groupwise Data count is been displayed in the below cells"
   ]
  },
  {
   "cell_type": "code",
   "execution_count": 264,
   "metadata": {
    "colab": {
     "base_uri": "https://localhost:8080/",
     "height": 204
    },
    "executionInfo": {
     "elapsed": 455,
     "status": "ok",
     "timestamp": 1637422368382,
     "user": {
      "displayName": "shikha sharma",
      "photoUrl": "https://lh3.googleusercontent.com/a-/AOh14Gi7-MZ8BB7Qmx-tZ4fMVMWE32u_g_Wo7RIqAY8HaA=s64",
      "userId": "18236534953658718874"
     },
     "user_tz": -330
    },
    "id": "em2LcZJ3SP5L",
    "outputId": "da619e68-ac4e-47cd-871a-43610d4300a7"
   },
   "outputs": [
    {
     "data": {
      "text/html": [
       "<div>\n",
       "<style scoped>\n",
       "    .dataframe tbody tr th:only-of-type {\n",
       "        vertical-align: middle;\n",
       "    }\n",
       "\n",
       "    .dataframe tbody tr th {\n",
       "        vertical-align: top;\n",
       "    }\n",
       "\n",
       "    .dataframe thead th {\n",
       "        text-align: right;\n",
       "    }\n",
       "</style>\n",
       "<table border=\"1\" class=\"dataframe\">\n",
       "  <thead>\n",
       "    <tr style=\"text-align: right;\">\n",
       "      <th></th>\n",
       "      <th>Description</th>\n",
       "      <th>Assignment group</th>\n",
       "      <th>word_count</th>\n",
       "    </tr>\n",
       "  </thead>\n",
       "  <tbody>\n",
       "    <tr>\n",
       "      <th>685</th>\n",
       "      <td>what type of outage:  ___x__network     _____c...</td>\n",
       "      <td>GRP_8</td>\n",
       "      <td>152</td>\n",
       "    </tr>\n",
       "    <tr>\n",
       "      <th>1628</th>\n",
       "      <td>erp password reset SID_34</td>\n",
       "      <td>GRP_0</td>\n",
       "      <td>4</td>\n",
       "    </tr>\n",
       "    <tr>\n",
       "      <th>1438</th>\n",
       "      <td>install office2010 \\ ewel8323894 \\qidgvtwa qvb...</td>\n",
       "      <td>GRP_24</td>\n",
       "      <td>6</td>\n",
       "    </tr>\n",
       "    <tr>\n",
       "      <th>4727</th>\n",
       "      <td>received from: monitoring_tool@company.com_x00...</td>\n",
       "      <td>GRP_9</td>\n",
       "      <td>12</td>\n",
       "    </tr>\n",
       "    <tr>\n",
       "      <th>1551</th>\n",
       "      <td>reset the password for xaykwtrf amlswjfr on er...</td>\n",
       "      <td>GRP_0</td>\n",
       "      <td>12</td>\n",
       "    </tr>\n",
       "    <tr>\n",
       "      <th>1424</th>\n",
       "      <td>_x000D_\\n_x000D_\\nreceived from: dshferby.hout...</td>\n",
       "      <td>GRP_0</td>\n",
       "      <td>6</td>\n",
       "    </tr>\n",
       "    <tr>\n",
       "      <th>4296</th>\n",
       "      <td>vpn query</td>\n",
       "      <td>GRP_34</td>\n",
       "      <td>2</td>\n",
       "    </tr>\n",
       "    <tr>\n",
       "      <th>4117</th>\n",
       "      <td>_x000D_\\n_x000D_\\nreceived from: nsoikcyf.jhyb...</td>\n",
       "      <td>GRP_0</td>\n",
       "      <td>20</td>\n",
       "    </tr>\n",
       "    <tr>\n",
       "      <th>8361</th>\n",
       "      <td>hello helpdesk, _x000D_\\n_x000D_\\ncan you help...</td>\n",
       "      <td>GRP_0</td>\n",
       "      <td>20</td>\n",
       "    </tr>\n",
       "    <tr>\n",
       "      <th>2426</th>\n",
       "      <td>outlook is not updating.</td>\n",
       "      <td>GRP_0</td>\n",
       "      <td>4</td>\n",
       "    </tr>\n",
       "    <tr>\n",
       "      <th>7953</th>\n",
       "      <td>enterprise scanner not working</td>\n",
       "      <td>GRP_0</td>\n",
       "      <td>4</td>\n",
       "    </tr>\n",
       "    <tr>\n",
       "      <th>7065</th>\n",
       "      <td>erp  ecs tracking is not working resp. compute...</td>\n",
       "      <td>GRP_49</td>\n",
       "      <td>45</td>\n",
       "    </tr>\n",
       "    <tr>\n",
       "      <th>3889</th>\n",
       "      <td>unable to login to erp SID_34 account</td>\n",
       "      <td>GRP_0</td>\n",
       "      <td>7</td>\n",
       "    </tr>\n",
       "    <tr>\n",
       "      <th>7019</th>\n",
       "      <td>emails of australia team not polling into tele...</td>\n",
       "      <td>GRP_7</td>\n",
       "      <td>41</td>\n",
       "    </tr>\n",
       "    <tr>\n",
       "      <th>7439</th>\n",
       "      <td>_x000D_\\n_x000D_\\nreceived from: windy.shi@com...</td>\n",
       "      <td>GRP_6</td>\n",
       "      <td>18</td>\n",
       "    </tr>\n",
       "  </tbody>\n",
       "</table>\n",
       "</div>"
      ],
      "text/plain": [
       "                                            Description Assignment group  \\\n",
       "685   what type of outage:  ___x__network     _____c...            GRP_8   \n",
       "1628                          erp password reset SID_34            GRP_0   \n",
       "1438  install office2010 \\ ewel8323894 \\qidgvtwa qvb...           GRP_24   \n",
       "4727  received from: monitoring_tool@company.com_x00...            GRP_9   \n",
       "1551  reset the password for xaykwtrf amlswjfr on er...            GRP_0   \n",
       "1424  _x000D_\\n_x000D_\\nreceived from: dshferby.hout...            GRP_0   \n",
       "4296                                         vpn query            GRP_34   \n",
       "4117  _x000D_\\n_x000D_\\nreceived from: nsoikcyf.jhyb...            GRP_0   \n",
       "8361  hello helpdesk, _x000D_\\n_x000D_\\ncan you help...            GRP_0   \n",
       "2426                           outlook is not updating.            GRP_0   \n",
       "7953                    enterprise scanner not working             GRP_0   \n",
       "7065  erp  ecs tracking is not working resp. compute...           GRP_49   \n",
       "3889             unable to login to erp SID_34 account             GRP_0   \n",
       "7019  emails of australia team not polling into tele...            GRP_7   \n",
       "7439  _x000D_\\n_x000D_\\nreceived from: windy.shi@com...            GRP_6   \n",
       "\n",
       "      word_count  \n",
       "685          152  \n",
       "1628           4  \n",
       "1438           6  \n",
       "4727          12  \n",
       "1551          12  \n",
       "1424           6  \n",
       "4296           2  \n",
       "4117          20  \n",
       "8361          20  \n",
       "2426           4  \n",
       "7953           4  \n",
       "7065          45  \n",
       "3889           7  \n",
       "7019          41  \n",
       "7439          18  "
      ]
     },
     "execution_count": 264,
     "metadata": {},
     "output_type": "execute_result"
    }
   ],
   "source": [
    "#caluclating the word count\n",
    "feature_df['word_count']=df['Description'].apply(lambda x:len(str(x).split()))\n",
    "#printing 5 sample values\n",
    "feature_df.sample(15)"
   ]
  },
  {
   "cell_type": "code",
   "execution_count": 265,
   "metadata": {
    "colab": {
     "base_uri": "https://localhost:8080/",
     "height": 80
    },
    "executionInfo": {
     "elapsed": 465,
     "status": "ok",
     "timestamp": 1637422368393,
     "user": {
      "displayName": "shikha sharma",
      "photoUrl": "https://lh3.googleusercontent.com/a-/AOh14Gi7-MZ8BB7Qmx-tZ4fMVMWE32u_g_Wo7RIqAY8HaA=s64",
      "userId": "18236534953658718874"
     },
     "user_tz": -330
    },
    "id": "uwuRn4ZRTh7b",
    "outputId": "833d5072-501d-4c1d-d056-0c8a970a8a36"
   },
   "outputs": [
    {
     "data": {
      "text/html": [
       "<div>\n",
       "<style scoped>\n",
       "    .dataframe tbody tr th:only-of-type {\n",
       "        vertical-align: middle;\n",
       "    }\n",
       "\n",
       "    .dataframe tbody tr th {\n",
       "        vertical-align: top;\n",
       "    }\n",
       "\n",
       "    .dataframe thead th {\n",
       "        text-align: right;\n",
       "    }\n",
       "</style>\n",
       "<table border=\"1\" class=\"dataframe\">\n",
       "  <thead>\n",
       "    <tr style=\"text-align: right;\">\n",
       "      <th></th>\n",
       "      <th>Description</th>\n",
       "      <th>Assignment group</th>\n",
       "      <th>word_count</th>\n",
       "    </tr>\n",
       "  </thead>\n",
       "  <tbody>\n",
       "    <tr>\n",
       "      <th>7345</th>\n",
       "      <td>we are seeing activity indicating the host at ...</td>\n",
       "      <td>GRP_2</td>\n",
       "      <td>1657</td>\n",
       "    </tr>\n",
       "  </tbody>\n",
       "</table>\n",
       "</div>"
      ],
      "text/plain": [
       "                                            Description Assignment group  \\\n",
       "7345  we are seeing activity indicating the host at ...            GRP_2   \n",
       "\n",
       "      word_count  \n",
       "7345        1657  "
      ]
     },
     "execution_count": 265,
     "metadata": {},
     "output_type": "execute_result"
    }
   ],
   "source": [
    "# Displaying the row with Maximum word counts\n",
    "feature_df[feature_df['word_count']==feature_df['word_count'].max()]\n"
   ]
  },
  {
   "cell_type": "code",
   "execution_count": 266,
   "metadata": {
    "colab": {
     "base_uri": "https://localhost:8080/",
     "height": 111
    },
    "executionInfo": {
     "elapsed": 468,
     "status": "ok",
     "timestamp": 1637422368397,
     "user": {
      "displayName": "shikha sharma",
      "photoUrl": "https://lh3.googleusercontent.com/a-/AOh14Gi7-MZ8BB7Qmx-tZ4fMVMWE32u_g_Wo7RIqAY8HaA=s64",
      "userId": "18236534953658718874"
     },
     "user_tz": -330
    },
    "id": "MAgDMB2kToDv",
    "outputId": "3187212c-c530-4dcd-dc23-4f77dd888fb5"
   },
   "outputs": [
    {
     "data": {
      "text/html": [
       "<div>\n",
       "<style scoped>\n",
       "    .dataframe tbody tr th:only-of-type {\n",
       "        vertical-align: middle;\n",
       "    }\n",
       "\n",
       "    .dataframe tbody tr th {\n",
       "        vertical-align: top;\n",
       "    }\n",
       "\n",
       "    .dataframe thead th {\n",
       "        text-align: right;\n",
       "    }\n",
       "</style>\n",
       "<table border=\"1\" class=\"dataframe\">\n",
       "  <thead>\n",
       "    <tr style=\"text-align: right;\">\n",
       "      <th></th>\n",
       "      <th>Description</th>\n",
       "      <th>Assignment group</th>\n",
       "      <th>word_count</th>\n",
       "    </tr>\n",
       "  </thead>\n",
       "  <tbody>\n",
       "    <tr>\n",
       "      <th>276</th>\n",
       "      <td>outlookæ”¶åˆ°ç®±ä¸­folderå˜ä¸ºæ¯å¤©ä¸€ä¸ªfol...</td>\n",
       "      <td>GRP_30</td>\n",
       "      <td>1</td>\n",
       "    </tr>\n",
       "    <tr>\n",
       "      <th>415</th>\n",
       "      <td>complete</td>\n",
       "      <td>GRP_17</td>\n",
       "      <td>1</td>\n",
       "    </tr>\n",
       "    <tr>\n",
       "      <th>416</th>\n",
       "      <td>completed</td>\n",
       "      <td>GRP_0</td>\n",
       "      <td>1</td>\n",
       "    </tr>\n",
       "    <tr>\n",
       "      <th>608</th>\n",
       "      <td>funktionsstÃ¶rung</td>\n",
       "      <td>GRP_33</td>\n",
       "      <td>1</td>\n",
       "    </tr>\n",
       "    <tr>\n",
       "      <th>618</th>\n",
       "      <td>æ‰“å¼€outlookæ—¶ï¼Œæ˜¾ç¤ºoutlook.ostæ–‡ä»¶é”™è...</td>\n",
       "      <td>GRP_0</td>\n",
       "      <td>1</td>\n",
       "    </tr>\n",
       "    <tr>\n",
       "      <th>...</th>\n",
       "      <td>...</td>\n",
       "      <td>...</td>\n",
       "      <td>...</td>\n",
       "    </tr>\n",
       "    <tr>\n",
       "      <th>8059</th>\n",
       "      <td>the</td>\n",
       "      <td>GRP_17</td>\n",
       "      <td>1</td>\n",
       "    </tr>\n",
       "    <tr>\n",
       "      <th>8092</th>\n",
       "      <td>the</td>\n",
       "      <td>GRP_17</td>\n",
       "      <td>1</td>\n",
       "    </tr>\n",
       "    <tr>\n",
       "      <th>8093</th>\n",
       "      <td>the</td>\n",
       "      <td>GRP_17</td>\n",
       "      <td>1</td>\n",
       "    </tr>\n",
       "    <tr>\n",
       "      <th>8168</th>\n",
       "      <td>the</td>\n",
       "      <td>GRP_17</td>\n",
       "      <td>1</td>\n",
       "    </tr>\n",
       "    <tr>\n",
       "      <th>8266</th>\n",
       "      <td>è¿›è¡Œé‡‡è´­æ—¶æ˜¾ç¤º\"æ‰¾ä¸åˆ°å‘˜å·¥111115483...</td>\n",
       "      <td>GRP_30</td>\n",
       "      <td>1</td>\n",
       "    </tr>\n",
       "  </tbody>\n",
       "</table>\n",
       "<p>98 rows × 3 columns</p>\n",
       "</div>"
      ],
      "text/plain": [
       "                                            Description Assignment group  \\\n",
       "276   outlookæ”¶åˆ°ç®±ä¸­folderå˜ä¸ºæ¯å¤©ä¸€ä¸ªfol...           GRP_30   \n",
       "415                                            complete           GRP_17   \n",
       "416                                           completed            GRP_0   \n",
       "608                                   funktionsstÃ¶rung           GRP_33   \n",
       "618   æ‰“å¼€outlookæ—¶ï¼Œæ˜¾ç¤ºoutlook.ostæ–‡ä»¶é”™è...            GRP_0   \n",
       "...                                                 ...              ...   \n",
       "8059                                                the           GRP_17   \n",
       "8092                                                the           GRP_17   \n",
       "8093                                                the           GRP_17   \n",
       "8168                                                the           GRP_17   \n",
       "8266  è¿›è¡Œé‡‡è´­æ—¶æ˜¾ç¤º\"æ‰¾ä¸åˆ°å‘˜å·¥111115483...           GRP_30   \n",
       "\n",
       "      word_count  \n",
       "276            1  \n",
       "415            1  \n",
       "416            1  \n",
       "608            1  \n",
       "618            1  \n",
       "...          ...  \n",
       "8059           1  \n",
       "8092           1  \n",
       "8093           1  \n",
       "8168           1  \n",
       "8266           1  \n",
       "\n",
       "[98 rows x 3 columns]"
      ]
     },
     "execution_count": 266,
     "metadata": {},
     "output_type": "execute_result"
    }
   ],
   "source": [
    "# Dispalying rows with minimum word count\n",
    "feature_df[feature_df['word_count']==feature_df['word_count'].min()]"
   ]
  },
  {
   "cell_type": "code",
   "execution_count": 267,
   "metadata": {
    "executionInfo": {
     "elapsed": 493,
     "status": "ok",
     "timestamp": 1637422368437,
     "user": {
      "displayName": "shikha sharma",
      "photoUrl": "https://lh3.googleusercontent.com/a-/AOh14Gi7-MZ8BB7Qmx-tZ4fMVMWE32u_g_Wo7RIqAY8HaA=s64",
      "userId": "18236534953658718874"
     },
     "user_tz": -330
    },
    "id": "wNB9SSeolkPx"
   },
   "outputs": [],
   "source": [
    "#Method to caluclate no of characters available in sentence\n",
    "def char_counts(x):\n",
    "  s=x.split()\n",
    "  x=''.join(s)\n",
    "  return len(x)\n"
   ]
  },
  {
   "cell_type": "code",
   "execution_count": 268,
   "metadata": {
    "colab": {
     "base_uri": "https://localhost:8080/",
     "height": 204
    },
    "executionInfo": {
     "elapsed": 493,
     "status": "ok",
     "timestamp": 1637422368438,
     "user": {
      "displayName": "shikha sharma",
      "photoUrl": "https://lh3.googleusercontent.com/a-/AOh14Gi7-MZ8BB7Qmx-tZ4fMVMWE32u_g_Wo7RIqAY8HaA=s64",
      "userId": "18236534953658718874"
     },
     "user_tz": -330
    },
    "id": "tJ-c4TnwozwE",
    "outputId": "c9805d8f-25b2-458c-9b3a-47b725d9aa31"
   },
   "outputs": [
    {
     "data": {
      "text/html": [
       "<div>\n",
       "<style scoped>\n",
       "    .dataframe tbody tr th:only-of-type {\n",
       "        vertical-align: middle;\n",
       "    }\n",
       "\n",
       "    .dataframe tbody tr th {\n",
       "        vertical-align: top;\n",
       "    }\n",
       "\n",
       "    .dataframe thead th {\n",
       "        text-align: right;\n",
       "    }\n",
       "</style>\n",
       "<table border=\"1\" class=\"dataframe\">\n",
       "  <thead>\n",
       "    <tr style=\"text-align: right;\">\n",
       "      <th></th>\n",
       "      <th>Description</th>\n",
       "      <th>Assignment group</th>\n",
       "      <th>word_count</th>\n",
       "      <th>char_counts</th>\n",
       "    </tr>\n",
       "  </thead>\n",
       "  <tbody>\n",
       "    <tr>\n",
       "      <th>2167</th>\n",
       "      <td>hello, could you please check why 2 delivery n...</td>\n",
       "      <td>GRP_18</td>\n",
       "      <td>75</td>\n",
       "      <td>350</td>\n",
       "    </tr>\n",
       "    <tr>\n",
       "      <th>6489</th>\n",
       "      <td>_x000D_\\n_x000D_\\nreceived from: nbdljruw.axcr...</td>\n",
       "      <td>GRP_0</td>\n",
       "      <td>46</td>\n",
       "      <td>346</td>\n",
       "    </tr>\n",
       "    <tr>\n",
       "      <th>6181</th>\n",
       "      <td>outlook is not opening</td>\n",
       "      <td>GRP_27</td>\n",
       "      <td>4</td>\n",
       "      <td>19</td>\n",
       "    </tr>\n",
       "    <tr>\n",
       "      <th>191</th>\n",
       "      <td>user is not able to see all text in mails on h...</td>\n",
       "      <td>GRP_0</td>\n",
       "      <td>13</td>\n",
       "      <td>43</td>\n",
       "    </tr>\n",
       "    <tr>\n",
       "      <th>4701</th>\n",
       "      <td>local availability and pricing information mis...</td>\n",
       "      <td>GRP_20</td>\n",
       "      <td>12</td>\n",
       "      <td>87</td>\n",
       "    </tr>\n",
       "  </tbody>\n",
       "</table>\n",
       "</div>"
      ],
      "text/plain": [
       "                                            Description Assignment group  \\\n",
       "2167  hello, could you please check why 2 delivery n...           GRP_18   \n",
       "6489  _x000D_\\n_x000D_\\nreceived from: nbdljruw.axcr...            GRP_0   \n",
       "6181                             outlook is not opening           GRP_27   \n",
       "191   user is not able to see all text in mails on h...            GRP_0   \n",
       "4701  local availability and pricing information mis...           GRP_20   \n",
       "\n",
       "      word_count  char_counts  \n",
       "2167          75          350  \n",
       "6489          46          346  \n",
       "6181           4           19  \n",
       "191           13           43  \n",
       "4701          12           87  "
      ]
     },
     "execution_count": 268,
     "metadata": {},
     "output_type": "execute_result"
    }
   ],
   "source": [
    "feature_df['char_counts']=df['Description'].apply(lambda x: char_counts(str(x)))\n",
    "#printing 5 random samples\n",
    "feature_df.sample(5)"
   ]
  },
  {
   "cell_type": "code",
   "execution_count": 269,
   "metadata": {
    "colab": {
     "base_uri": "https://localhost:8080/"
    },
    "executionInfo": {
     "elapsed": 494,
     "status": "ok",
     "timestamp": 1637422368440,
     "user": {
      "displayName": "shikha sharma",
      "photoUrl": "https://lh3.googleusercontent.com/a-/AOh14Gi7-MZ8BB7Qmx-tZ4fMVMWE32u_g_Wo7RIqAY8HaA=s64",
      "userId": "18236534953658718874"
     },
     "user_tz": -330
    },
    "id": "lI5-PYvn8DIg",
    "outputId": "4ae24055-cc76-405d-b9af-0c053097e255"
   },
   "outputs": [
    {
     "data": {
      "text/plain": [
       "1"
      ]
     },
     "execution_count": 269,
     "metadata": {},
     "output_type": "execute_result"
    }
   ],
   "source": [
    "#Checking the minimum character count\n",
    "feature_df['char_counts'].min()"
   ]
  },
  {
   "cell_type": "code",
   "execution_count": 270,
   "metadata": {
    "colab": {
     "base_uri": "https://localhost:8080/"
    },
    "executionInfo": {
     "elapsed": 490,
     "status": "ok",
     "timestamp": 1637422368441,
     "user": {
      "displayName": "shikha sharma",
      "photoUrl": "https://lh3.googleusercontent.com/a-/AOh14Gi7-MZ8BB7Qmx-tZ4fMVMWE32u_g_Wo7RIqAY8HaA=s64",
      "userId": "18236534953658718874"
     },
     "user_tz": -330
    },
    "id": "4MmawBZE8JSm",
    "outputId": "ca9e12f5-6564-4a67-8aee-fb7181da347b"
   },
   "outputs": [
    {
     "data": {
      "text/plain": [
       "12785"
      ]
     },
     "execution_count": 270,
     "metadata": {},
     "output_type": "execute_result"
    }
   ],
   "source": [
    "#Checking the maximum character count\n",
    "feature_df['char_counts'].max()"
   ]
  },
  {
   "cell_type": "code",
   "execution_count": 271,
   "metadata": {
    "colab": {
     "base_uri": "https://localhost:8080/",
     "height": 204
    },
    "executionInfo": {
     "elapsed": 473,
     "status": "ok",
     "timestamp": 1637422368444,
     "user": {
      "displayName": "shikha sharma",
      "photoUrl": "https://lh3.googleusercontent.com/a-/AOh14Gi7-MZ8BB7Qmx-tZ4fMVMWE32u_g_Wo7RIqAY8HaA=s64",
      "userId": "18236534953658718874"
     },
     "user_tz": -330
    },
    "id": "Xsj1g2MVqCJQ",
    "outputId": "32a0542f-9d1f-4f30-b136-097b46895898"
   },
   "outputs": [
    {
     "data": {
      "text/html": [
       "<div>\n",
       "<style scoped>\n",
       "    .dataframe tbody tr th:only-of-type {\n",
       "        vertical-align: middle;\n",
       "    }\n",
       "\n",
       "    .dataframe tbody tr th {\n",
       "        vertical-align: top;\n",
       "    }\n",
       "\n",
       "    .dataframe thead th {\n",
       "        text-align: right;\n",
       "    }\n",
       "</style>\n",
       "<table border=\"1\" class=\"dataframe\">\n",
       "  <thead>\n",
       "    <tr style=\"text-align: right;\">\n",
       "      <th></th>\n",
       "      <th>Description</th>\n",
       "      <th>Assignment group</th>\n",
       "      <th>word_count</th>\n",
       "      <th>char_counts</th>\n",
       "      <th>Avg_word_Count</th>\n",
       "    </tr>\n",
       "  </thead>\n",
       "  <tbody>\n",
       "    <tr>\n",
       "      <th>3766</th>\n",
       "      <td>\\n\\nreceived from: umdyvbxo.qwzstijr@gmail.com...</td>\n",
       "      <td>GRP_0</td>\n",
       "      <td>81</td>\n",
       "      <td>504</td>\n",
       "      <td>0.160714</td>\n",
       "    </tr>\n",
       "    <tr>\n",
       "      <th>7729</th>\n",
       "      <td>received from: monitoring_tool@company.com_x00...</td>\n",
       "      <td>GRP_8</td>\n",
       "      <td>12</td>\n",
       "      <td>135</td>\n",
       "      <td>0.088889</td>\n",
       "    </tr>\n",
       "    <tr>\n",
       "      <th>1790</th>\n",
       "      <td>\\n\\nreceived from: agjzikpf.nhfrbxek@gmail.com...</td>\n",
       "      <td>GRP_0</td>\n",
       "      <td>138</td>\n",
       "      <td>913</td>\n",
       "      <td>0.151150</td>\n",
       "    </tr>\n",
       "    <tr>\n",
       "      <th>8281</th>\n",
       "      <td>HostName_1238 ( south_amerirtca, br -plm dsc f...</td>\n",
       "      <td>GRP_14</td>\n",
       "      <td>24</td>\n",
       "      <td>142</td>\n",
       "      <td>0.169014</td>\n",
       "    </tr>\n",
       "    <tr>\n",
       "      <th>6117</th>\n",
       "      <td>received from: monitoring_tool@company.com_x00...</td>\n",
       "      <td>GRP_8</td>\n",
       "      <td>12</td>\n",
       "      <td>106</td>\n",
       "      <td>0.113208</td>\n",
       "    </tr>\n",
       "  </tbody>\n",
       "</table>\n",
       "</div>"
      ],
      "text/plain": [
       "                                            Description Assignment group  \\\n",
       "3766  \\n\\nreceived from: umdyvbxo.qwzstijr@gmail.com...            GRP_0   \n",
       "7729  received from: monitoring_tool@company.com_x00...            GRP_8   \n",
       "1790  \\n\\nreceived from: agjzikpf.nhfrbxek@gmail.com...            GRP_0   \n",
       "8281  HostName_1238 ( south_amerirtca, br -plm dsc f...           GRP_14   \n",
       "6117  received from: monitoring_tool@company.com_x00...            GRP_8   \n",
       "\n",
       "      word_count  char_counts  Avg_word_Count  \n",
       "3766          81          504        0.160714  \n",
       "7729          12          135        0.088889  \n",
       "1790         138          913        0.151150  \n",
       "8281          24          142        0.169014  \n",
       "6117          12          106        0.113208  "
      ]
     },
     "execution_count": 271,
     "metadata": {},
     "output_type": "execute_result"
    }
   ],
   "source": [
    "#Caluclating the average word count\n",
    "feature_df['Avg_word_Count']=feature_df['word_count']/feature_df['char_counts']\n",
    "#printing 5 random samples\n",
    "feature_df.sample(5)"
   ]
  },
  {
   "cell_type": "code",
   "execution_count": 272,
   "metadata": {
    "colab": {
     "base_uri": "https://localhost:8080/"
    },
    "executionInfo": {
     "elapsed": 471,
     "status": "ok",
     "timestamp": 1637422368444,
     "user": {
      "displayName": "shikha sharma",
      "photoUrl": "https://lh3.googleusercontent.com/a-/AOh14Gi7-MZ8BB7Qmx-tZ4fMVMWE32u_g_Wo7RIqAY8HaA=s64",
      "userId": "18236534953658718874"
     },
     "user_tz": -330
    },
    "id": "-mFur3bM7w_N",
    "outputId": "fdb8e699-f2be-4da7-940b-919a95b042f4"
   },
   "outputs": [
    {
     "name": "stdout",
     "output_type": "stream",
     "text": [
      "Minimum avg word count 0.009900990099009901\n",
      "Maximum avg word count 1.0\n"
     ]
    }
   ],
   "source": [
    "#Checking the minimum avg word count\n",
    "print(\"Minimum avg word count\",feature_df['Avg_word_Count'].min())\n",
    "print(\"Maximum avg word count\",feature_df['Avg_word_Count'].max())"
   ]
  },
  {
   "cell_type": "markdown",
   "metadata": {},
   "source": [
    "## Text preprocessing\n",
    "- Stopwords :- In NLP Stopwords are commonly used words in language helps to eliminate unimportant words \n",
    "- Allowing application to focus on important word. Stopwords are any word in stop list which are filterout after NLP\n",
    "- Benefits of eliminating stopwords :- Potentially help improvement of preformance by considering only meaning full data. \n",
    "- Data size drecreases which helps model processing performance\n",
    "- So here we are using 'nltk - Natural Language Tool Kit' libraray to process English text.\n",
    "- Lemmatization - Is the process of grouping together different inflected forms of words so they can be analyzed as signle items.\n",
    "- Lemmatization brings context to the word.\n",
    "- Here we using libraray WordnetLemmatizer for Stop words - Text Pre-Processing"
   ]
  },
  {
   "cell_type": "code",
   "execution_count": 273,
   "metadata": {},
   "outputs": [],
   "source": [
    "import json\n",
    "import re\n",
    "import string\n",
    "import nltk\n",
    "#from nltk.corpus import stopwords\n",
    "from nltk.stem import WordNetLemmatizer,SnowballStemmer\n",
    "from string import punctuation\n",
    "#from wordcloud import WordCloud\n",
    "#from wordcloud import WordCloud, STOPWORDS"
   ]
  },
  {
   "cell_type": "code",
   "execution_count": 274,
   "metadata": {
    "colab": {
     "base_uri": "https://localhost:8080/"
    },
    "executionInfo": {
     "elapsed": 464,
     "status": "ok",
     "timestamp": 1637422368446,
     "user": {
      "displayName": "shikha sharma",
      "photoUrl": "https://lh3.googleusercontent.com/a-/AOh14Gi7-MZ8BB7Qmx-tZ4fMVMWE32u_g_Wo7RIqAY8HaA=s64",
      "userId": "18236534953658718874"
     },
     "user_tz": -330
    },
    "id": "gJqiQl5hqj8g",
    "outputId": "ac34a52d-24f7-430a-cc12-73d40bf06c10"
   },
   "outputs": [
    {
     "name": "stdout",
     "output_type": "stream",
     "text": [
      "{'whose', '’m', 'sometime', 'under', 'always', 'two', 'even', 'say', 'whatever', 'this', 'being', 'then', 'behind', 'with', 'before', 'any', 'further', 'yours', 'were', 'have', 'until', 'onto', 'namely', 'had', 'again', 'that', 'part', 'together', 'thus', 'wherever', 'beside', 'of', 'four', 'thereafter', 'within', 'enough', 'at', 'anyway', 'everyone', 'here', 'few', 'been', 'wherein', 'an', 'too', 'some', 'much', 'ten', 'she', 'several', 'former', 'get', 'myself', 'sometimes', 'may', 'someone', 'next', 'or', 'therefore', 'toward', 'whither', 're', 'name', 'three', 'nobody', 'whereupon', 'go', 'anyhow', 'than', 'last', 'along', 'somehow', 'fifty', 'into', 'will', 'up', 'to', 'please', 'seeming', 'nowhere', 'hundred', 'amongst', '’d', 'among', 'can', 'i', 'done', 'over', 'seems', 'more', 'are', \"n't\", 'about', 'various', 'your', \"'m\", 'almost', 'back', 'call', 'six', 'latter', 'see', 'keep', 'many', 'if', 'anywhere', 'during', 'we', 'one', 'across', 'rather', 'seemed', 'very', 'either', 'well', 'only', 'meanwhile', 'now', 'does', 'but', 'latterly', 'their', 'which', 'our', 'top', 'for', 'how', 'however', 'everything', 'since', 'still', 'these', 'what', 'yourself', 'ever', 'alone', 'whom', 'moreover', 'put', 'everywhere', 'beyond', 'else', 'herself', 'has', 'it', 'they', 'full', 'whence', 'why', 'he', 'afterwards', 'beforehand', '’ve', '‘d', 'something', 'twenty', 'became', 'upon', 'am', 'though', 'elsewhere', 'give', 'fifteen', 'quite', 'cannot', 'bottom', 'n’t', 'his', 'do', '‘m', 'therein', 'might', 'on', 'make', 'really', 'no', 'because', 'thence', 'nothing', 'hereafter', 'there', 'both', 'each', 'per', 'except', 'made', 'once', 'is', 'hereupon', 'formerly', 'doing', 'five', 'whether', 'through', 'indeed', 'also', 'so', 'such', 'while', '‘ve', 'hence', 'side', 'just', 'eleven', \"'ll\", 'thereupon', 'whenever', 'hers', 'himself', 'move', 'regarding', 'from', 'hereby', 'third', \"'s\", 'out', '‘s', 'ca', 'thereby', 'herein', 'unless', 'did', 'yourselves', 'less', '’s', 'take', 'another', 'using', 'was', 'against', 'every', 'somewhere', 'must', 'nor', 'when', 'whereas', 'becomes', 'become', 'often', 'a', 'first', 'between', 'and', 'off', 'him', 'as', 'mine', 'be', 'others', 'below', 'perhaps', 'those', '’ll', 'nine', 'n‘t', '‘re', 'towards', 'yet', 'after', 'empty', 'throughout', 'serious', 'already', 'who', \"'d\", '‘ll', 'ourselves', 'around', 'me', 'neither', 'mostly', 'us', 'all', 'own', 'amount', 'forty', 'least', 'them', 'besides', 'themselves', '’re', 'anyone', 'twelve', 'other', 'the', 'show', 'front', 'whereafter', 'most', 'same', 'her', 'you', 'would', 'in', 'without', 'used', 'should', 'seem', 'never', 'noone', 'otherwise', 'none', 'down', \"'re\", 'whoever', 'by', 'its', 'ours', 'thru', 'due', \"'ve\", 'although', 'sixty', 'via', 'where', 'whole', 'could', 'not', 'eight', 'nevertheless', 'above', 'itself', 'anything', 'becoming', 'my', 'whereby'}\n"
     ]
    },
    {
     "data": {
      "text/plain": [
       "326"
      ]
     },
     "execution_count": 274,
     "metadata": {},
     "output_type": "execute_result"
    }
   ],
   "source": [
    "print(stop_words)\n",
    "len(stop_words)"
   ]
  },
  {
   "cell_type": "code",
   "execution_count": 275,
   "metadata": {
    "colab": {
     "base_uri": "https://localhost:8080/",
     "height": 204
    },
    "executionInfo": {
     "elapsed": 449,
     "status": "ok",
     "timestamp": 1637422368446,
     "user": {
      "displayName": "shikha sharma",
      "photoUrl": "https://lh3.googleusercontent.com/a-/AOh14Gi7-MZ8BB7Qmx-tZ4fMVMWE32u_g_Wo7RIqAY8HaA=s64",
      "userId": "18236534953658718874"
     },
     "user_tz": -330
    },
    "id": "QFPxyVzkr4Cc",
    "outputId": "4fc861a6-05f6-4fd7-8d19-135aa1e3297d"
   },
   "outputs": [
    {
     "data": {
      "text/html": [
       "<div>\n",
       "<style scoped>\n",
       "    .dataframe tbody tr th:only-of-type {\n",
       "        vertical-align: middle;\n",
       "    }\n",
       "\n",
       "    .dataframe tbody tr th {\n",
       "        vertical-align: top;\n",
       "    }\n",
       "\n",
       "    .dataframe thead th {\n",
       "        text-align: right;\n",
       "    }\n",
       "</style>\n",
       "<table border=\"1\" class=\"dataframe\">\n",
       "  <thead>\n",
       "    <tr style=\"text-align: right;\">\n",
       "      <th></th>\n",
       "      <th>Description</th>\n",
       "      <th>Assignment group</th>\n",
       "      <th>word_count</th>\n",
       "      <th>char_counts</th>\n",
       "      <th>Avg_word_Count</th>\n",
       "      <th>stop_words_count</th>\n",
       "    </tr>\n",
       "  </thead>\n",
       "  <tbody>\n",
       "    <tr>\n",
       "      <th>5904</th>\n",
       "      <td>the HostName_80 connection lost at 9:05 am ,  ...</td>\n",
       "      <td>GRP_4</td>\n",
       "      <td>22</td>\n",
       "      <td>97</td>\n",
       "      <td>0.226804</td>\n",
       "      <td>9</td>\n",
       "    </tr>\n",
       "    <tr>\n",
       "      <th>1192</th>\n",
       "      <td>intermittent audio issue on computer</td>\n",
       "      <td>GRP_0</td>\n",
       "      <td>5</td>\n",
       "      <td>32</td>\n",
       "      <td>0.156250</td>\n",
       "      <td>1</td>\n",
       "    </tr>\n",
       "    <tr>\n",
       "      <th>4249</th>\n",
       "      <td>distributor_tool login issue</td>\n",
       "      <td>GRP_0</td>\n",
       "      <td>3</td>\n",
       "      <td>26</td>\n",
       "      <td>0.115385</td>\n",
       "      <td>0</td>\n",
       "    </tr>\n",
       "    <tr>\n",
       "      <th>85</th>\n",
       "      <td>received from: monitoring_tool@company.com_x00...</td>\n",
       "      <td>GRP_6</td>\n",
       "      <td>12</td>\n",
       "      <td>117</td>\n",
       "      <td>0.102564</td>\n",
       "      <td>1</td>\n",
       "    </tr>\n",
       "    <tr>\n",
       "      <th>6007</th>\n",
       "      <td>search_serverrfcserver2_x000D_\\n  search_serve...</td>\n",
       "      <td>GRP_14</td>\n",
       "      <td>4</td>\n",
       "      <td>109</td>\n",
       "      <td>0.036697</td>\n",
       "      <td>0</td>\n",
       "    </tr>\n",
       "  </tbody>\n",
       "</table>\n",
       "</div>"
      ],
      "text/plain": [
       "                                            Description Assignment group  \\\n",
       "5904  the HostName_80 connection lost at 9:05 am ,  ...            GRP_4   \n",
       "1192              intermittent audio issue on computer             GRP_0   \n",
       "4249                       distributor_tool login issue            GRP_0   \n",
       "85    received from: monitoring_tool@company.com_x00...            GRP_6   \n",
       "6007  search_serverrfcserver2_x000D_\\n  search_serve...           GRP_14   \n",
       "\n",
       "      word_count  char_counts  Avg_word_Count  stop_words_count  \n",
       "5904          22           97        0.226804                 9  \n",
       "1192           5           32        0.156250                 1  \n",
       "4249           3           26        0.115385                 0  \n",
       "85            12          117        0.102564                 1  \n",
       "6007           4          109        0.036697                 0  "
      ]
     },
     "execution_count": 275,
     "metadata": {},
     "output_type": "execute_result"
    }
   ],
   "source": [
    "#caluclating the number of stop words in description column\n",
    "feature_df['stop_words_count']=df['Description'].apply(lambda x:len([t for t in x.split() if t in stop_words]))\n",
    "#printing the sample values\n",
    "feature_df.sample(5)"
   ]
  },
  {
   "cell_type": "code",
   "execution_count": 276,
   "metadata": {
    "colab": {
     "base_uri": "https://localhost:8080/"
    },
    "executionInfo": {
     "elapsed": 449,
     "status": "ok",
     "timestamp": 1637422368447,
     "user": {
      "displayName": "shikha sharma",
      "photoUrl": "https://lh3.googleusercontent.com/a-/AOh14Gi7-MZ8BB7Qmx-tZ4fMVMWE32u_g_Wo7RIqAY8HaA=s64",
      "userId": "18236534953658718874"
     },
     "user_tz": -330
    },
    "id": "4dQOMWef8dhP",
    "outputId": "853de552-c834-4601-8f29-55019dc7a790"
   },
   "outputs": [
    {
     "name": "stdout",
     "output_type": "stream",
     "text": [
      "Minimum number of stop words present 0\n",
      "Maximum number of stop words present 352\n"
     ]
    }
   ],
   "source": [
    "#caluclating the minimum number of stop words count\n",
    "print(\"Minimum number of stop words present\",feature_df['stop_words_count'].min())\n",
    "#caluclating the maximum number of stop words count\n",
    "print(\"Maximum number of stop words present\", feature_df['stop_words_count'].max())"
   ]
  },
  {
   "cell_type": "code",
   "execution_count": 277,
   "metadata": {
    "colab": {
     "base_uri": "https://localhost:8080/",
     "height": 204
    },
    "executionInfo": {
     "elapsed": 444,
     "status": "ok",
     "timestamp": 1637422368447,
     "user": {
      "displayName": "shikha sharma",
      "photoUrl": "https://lh3.googleusercontent.com/a-/AOh14Gi7-MZ8BB7Qmx-tZ4fMVMWE32u_g_Wo7RIqAY8HaA=s64",
      "userId": "18236534953658718874"
     },
     "user_tz": -330
    },
    "id": "dDPhF-j5-9ad",
    "outputId": "843ba4e0-cf4a-4ff3-b9f9-0e44387bb296"
   },
   "outputs": [
    {
     "data": {
      "text/html": [
       "<div>\n",
       "<style scoped>\n",
       "    .dataframe tbody tr th:only-of-type {\n",
       "        vertical-align: middle;\n",
       "    }\n",
       "\n",
       "    .dataframe tbody tr th {\n",
       "        vertical-align: top;\n",
       "    }\n",
       "\n",
       "    .dataframe thead th {\n",
       "        text-align: right;\n",
       "    }\n",
       "</style>\n",
       "<table border=\"1\" class=\"dataframe\">\n",
       "  <thead>\n",
       "    <tr style=\"text-align: right;\">\n",
       "      <th></th>\n",
       "      <th>Description</th>\n",
       "      <th>Assignment group</th>\n",
       "      <th>word_count</th>\n",
       "      <th>char_counts</th>\n",
       "      <th>Avg_word_Count</th>\n",
       "      <th>stop_words_count</th>\n",
       "      <th>Digits_count</th>\n",
       "    </tr>\n",
       "  </thead>\n",
       "  <tbody>\n",
       "    <tr>\n",
       "      <th>5172</th>\n",
       "      <td>_x000D_\\n_x000D_\\nreceived from: zenjimdghtybo...</td>\n",
       "      <td>GRP_0</td>\n",
       "      <td>23</td>\n",
       "      <td>229</td>\n",
       "      <td>0.100437</td>\n",
       "      <td>3</td>\n",
       "      <td>0</td>\n",
       "    </tr>\n",
       "    <tr>\n",
       "      <th>533</th>\n",
       "      <td>garthyhtuy was out of office for a long time, ...</td>\n",
       "      <td>GRP_0</td>\n",
       "      <td>27</td>\n",
       "      <td>107</td>\n",
       "      <td>0.252336</td>\n",
       "      <td>16</td>\n",
       "      <td>0</td>\n",
       "    </tr>\n",
       "    <tr>\n",
       "      <th>1495</th>\n",
       "      <td>outlook not updating ; crashing intermittently</td>\n",
       "      <td>GRP_0</td>\n",
       "      <td>6</td>\n",
       "      <td>41</td>\n",
       "      <td>0.146341</td>\n",
       "      <td>1</td>\n",
       "      <td>0</td>\n",
       "    </tr>\n",
       "    <tr>\n",
       "      <th>7570</th>\n",
       "      <td>windows account locked in ad</td>\n",
       "      <td>GRP_0</td>\n",
       "      <td>5</td>\n",
       "      <td>24</td>\n",
       "      <td>0.208333</td>\n",
       "      <td>1</td>\n",
       "      <td>0</td>\n",
       "    </tr>\n",
       "    <tr>\n",
       "      <th>6843</th>\n",
       "      <td>employee id-210667827</td>\n",
       "      <td>GRP_0</td>\n",
       "      <td>2</td>\n",
       "      <td>20</td>\n",
       "      <td>0.100000</td>\n",
       "      <td>0</td>\n",
       "      <td>0</td>\n",
       "    </tr>\n",
       "  </tbody>\n",
       "</table>\n",
       "</div>"
      ],
      "text/plain": [
       "                                            Description Assignment group  \\\n",
       "5172  _x000D_\\n_x000D_\\nreceived from: zenjimdghtybo...            GRP_0   \n",
       "533   garthyhtuy was out of office for a long time, ...            GRP_0   \n",
       "1495     outlook not updating ; crashing intermittently            GRP_0   \n",
       "7570                       windows account locked in ad            GRP_0   \n",
       "6843                              employee id-210667827            GRP_0   \n",
       "\n",
       "      word_count  char_counts  Avg_word_Count  stop_words_count  Digits_count  \n",
       "5172          23          229        0.100437                 3             0  \n",
       "533           27          107        0.252336                16             0  \n",
       "1495           6           41        0.146341                 1             0  \n",
       "7570           5           24        0.208333                 1             0  \n",
       "6843           2           20        0.100000                 0             0  "
      ]
     },
     "execution_count": 277,
     "metadata": {},
     "output_type": "execute_result"
    }
   ],
   "source": [
    "#caluclating the number of digits count in description column\n",
    "feature_df['Digits_count']=df['Description'].apply(lambda x:len([t for t in x.split() if t.isdigit()]))\n",
    "#Printing the sample rows\n",
    "feature_df.sample(5)"
   ]
  },
  {
   "cell_type": "code",
   "execution_count": 278,
   "metadata": {},
   "outputs": [],
   "source": [
    "s = feature_df['Digits_count'].groupby(feature_df['Assignment group']).value_counts()"
   ]
  },
  {
   "cell_type": "code",
   "execution_count": 279,
   "metadata": {
    "colab": {
     "base_uri": "https://localhost:8080/"
    },
    "executionInfo": {
     "elapsed": 444,
     "status": "ok",
     "timestamp": 1637422368449,
     "user": {
      "displayName": "shikha sharma",
      "photoUrl": "https://lh3.googleusercontent.com/a-/AOh14Gi7-MZ8BB7Qmx-tZ4fMVMWE32u_g_Wo7RIqAY8HaA=s64",
      "userId": "18236534953658718874"
     },
     "user_tz": -330
    },
    "id": "1z9tLmoC__1Z",
    "outputId": "75e2fc34-7be0-48e7-d110-27a4e4301dad"
   },
   "outputs": [
    {
     "name": "stdout",
     "output_type": "stream",
     "text": [
      "Maximum number of digits present 444\n",
      "Minimum number of digits present 0\n"
     ]
    }
   ],
   "source": [
    "#Checking the maximum count\n",
    "print(\"Maximum number of digits present\",feature_df['Digits_count'].max())\n",
    "#Checking the minimum count\n",
    "print(\"Minimum number of digits present\",feature_df['Digits_count'].min())\n"
   ]
  },
  {
   "cell_type": "code",
   "execution_count": 280,
   "metadata": {
    "colab": {
     "base_uri": "https://localhost:8080/",
     "height": 204
    },
    "executionInfo": {
     "elapsed": 1152,
     "status": "ok",
     "timestamp": 1637422369163,
     "user": {
      "displayName": "shikha sharma",
      "photoUrl": "https://lh3.googleusercontent.com/a-/AOh14Gi7-MZ8BB7Qmx-tZ4fMVMWE32u_g_Wo7RIqAY8HaA=s64",
      "userId": "18236534953658718874"
     },
     "user_tz": -330
    },
    "id": "9kABnno9AkTj",
    "outputId": "2e73c3c7-1d4d-4c5a-884b-be6f6462839d"
   },
   "outputs": [
    {
     "data": {
      "text/html": [
       "<div>\n",
       "<style scoped>\n",
       "    .dataframe tbody tr th:only-of-type {\n",
       "        vertical-align: middle;\n",
       "    }\n",
       "\n",
       "    .dataframe tbody tr th {\n",
       "        vertical-align: top;\n",
       "    }\n",
       "\n",
       "    .dataframe thead th {\n",
       "        text-align: right;\n",
       "    }\n",
       "</style>\n",
       "<table border=\"1\" class=\"dataframe\">\n",
       "  <thead>\n",
       "    <tr style=\"text-align: right;\">\n",
       "      <th></th>\n",
       "      <th>Description</th>\n",
       "      <th>Assignment group</th>\n",
       "      <th>word_count</th>\n",
       "      <th>char_counts</th>\n",
       "      <th>Avg_word_Count</th>\n",
       "      <th>stop_words_count</th>\n",
       "      <th>Digits_count</th>\n",
       "      <th>Upper_Case_count</th>\n",
       "    </tr>\n",
       "  </thead>\n",
       "  <tbody>\n",
       "    <tr>\n",
       "      <th>6533</th>\n",
       "      <td>_x000D_\\n_x000D_\\nreceived from: gjtyswkb.dpva...</td>\n",
       "      <td>GRP_6</td>\n",
       "      <td>30</td>\n",
       "      <td>198</td>\n",
       "      <td>0.151515</td>\n",
       "      <td>8</td>\n",
       "      <td>0</td>\n",
       "      <td>0</td>\n",
       "    </tr>\n",
       "    <tr>\n",
       "      <th>478</th>\n",
       "      <td>\\n\\nreceived from: avurmegj.pxgmjynu@gmail.com...</td>\n",
       "      <td>GRP_12</td>\n",
       "      <td>16</td>\n",
       "      <td>105</td>\n",
       "      <td>0.152381</td>\n",
       "      <td>7</td>\n",
       "      <td>0</td>\n",
       "      <td>0</td>\n",
       "    </tr>\n",
       "    <tr>\n",
       "      <th>3512</th>\n",
       "      <td>HostName_986:  application \"plm scheduled task...</td>\n",
       "      <td>GRP_14</td>\n",
       "      <td>14</td>\n",
       "      <td>88</td>\n",
       "      <td>0.159091</td>\n",
       "      <td>4</td>\n",
       "      <td>0</td>\n",
       "      <td>0</td>\n",
       "    </tr>\n",
       "    <tr>\n",
       "      <th>3797</th>\n",
       "      <td>outlook does not open</td>\n",
       "      <td>GRP_0</td>\n",
       "      <td>4</td>\n",
       "      <td>18</td>\n",
       "      <td>0.222222</td>\n",
       "      <td>2</td>\n",
       "      <td>0</td>\n",
       "      <td>0</td>\n",
       "    </tr>\n",
       "    <tr>\n",
       "      <th>651</th>\n",
       "      <td>call came and got disconnected</td>\n",
       "      <td>GRP_0</td>\n",
       "      <td>5</td>\n",
       "      <td>26</td>\n",
       "      <td>0.192308</td>\n",
       "      <td>2</td>\n",
       "      <td>0</td>\n",
       "      <td>0</td>\n",
       "    </tr>\n",
       "  </tbody>\n",
       "</table>\n",
       "</div>"
      ],
      "text/plain": [
       "                                            Description Assignment group  \\\n",
       "6533  _x000D_\\n_x000D_\\nreceived from: gjtyswkb.dpva...            GRP_6   \n",
       "478   \\n\\nreceived from: avurmegj.pxgmjynu@gmail.com...           GRP_12   \n",
       "3512  HostName_986:  application \"plm scheduled task...           GRP_14   \n",
       "3797                              outlook does not open            GRP_0   \n",
       "651                      call came and got disconnected            GRP_0   \n",
       "\n",
       "      word_count  char_counts  Avg_word_Count  stop_words_count  Digits_count  \\\n",
       "6533          30          198        0.151515                 8             0   \n",
       "478           16          105        0.152381                 7             0   \n",
       "3512          14           88        0.159091                 4             0   \n",
       "3797           4           18        0.222222                 2             0   \n",
       "651            5           26        0.192308                 2             0   \n",
       "\n",
       "      Upper_Case_count  \n",
       "6533                 0  \n",
       "478                  0  \n",
       "3512                 0  \n",
       "3797                 0  \n",
       "651                  0  "
      ]
     },
     "execution_count": 280,
     "metadata": {},
     "output_type": "execute_result"
    }
   ],
   "source": [
    "#caluclating the number of uppercase count in description column\n",
    "feature_df['Upper_Case_count']=df['Description'].apply(lambda x:len([t for t in x.split() if t.isupper()]))\n",
    "#printing the sample\n",
    "feature_df.sample(5)"
   ]
  },
  {
   "cell_type": "code",
   "execution_count": 281,
   "metadata": {
    "colab": {
     "base_uri": "https://localhost:8080/"
    },
    "executionInfo": {
     "elapsed": 37,
     "status": "ok",
     "timestamp": 1637422369164,
     "user": {
      "displayName": "shikha sharma",
      "photoUrl": "https://lh3.googleusercontent.com/a-/AOh14Gi7-MZ8BB7Qmx-tZ4fMVMWE32u_g_Wo7RIqAY8HaA=s64",
      "userId": "18236534953658718874"
     },
     "user_tz": -330
    },
    "id": "DTE7mh8ICAzh",
    "outputId": "3fd248bc-a38c-44eb-c800-4b13b0af8ca3"
   },
   "outputs": [
    {
     "name": "stdout",
     "output_type": "stream",
     "text": [
      "Maximum number of Upper case letters present 10\n",
      "Minimum number of Upper case letters present 0\n"
     ]
    }
   ],
   "source": [
    "#Checking the maximum count\n",
    "print(\"Maximum number of Upper case letters present\",feature_df['Upper_Case_count'].max())\n",
    "#Checking the minimum count\n",
    "print(\"Minimum number of Upper case letters present\",feature_df['Upper_Case_count'].min())"
   ]
  },
  {
   "cell_type": "markdown",
   "metadata": {
    "id": "1pYFO7rPHZTw"
   },
   "source": [
    "# Cleaning and PreProcessing"
   ]
  },
  {
   "cell_type": "code",
   "execution_count": 282,
   "metadata": {},
   "outputs": [
    {
     "data": {
      "text/html": [
       "<div>\n",
       "<style scoped>\n",
       "    .dataframe tbody tr th:only-of-type {\n",
       "        vertical-align: middle;\n",
       "    }\n",
       "\n",
       "    .dataframe tbody tr th {\n",
       "        vertical-align: top;\n",
       "    }\n",
       "\n",
       "    .dataframe thead th {\n",
       "        text-align: right;\n",
       "    }\n",
       "</style>\n",
       "<table border=\"1\" class=\"dataframe\">\n",
       "  <thead>\n",
       "    <tr style=\"text-align: right;\">\n",
       "      <th></th>\n",
       "      <th>Short description</th>\n",
       "      <th>Description</th>\n",
       "      <th>Caller</th>\n",
       "      <th>Assignment group</th>\n",
       "      <th>language</th>\n",
       "    </tr>\n",
       "  </thead>\n",
       "  <tbody>\n",
       "    <tr>\n",
       "      <th>2306</th>\n",
       "      <td>issue with engineering_tooled software</td>\n",
       "      <td>_x000D_\\n_x000D_\\nreceived from: ntuhoafg.bzwe...</td>\n",
       "      <td>ntuhoafg bzwefjvk</td>\n",
       "      <td>GRP_25</td>\n",
       "      <td>en</td>\n",
       "    </tr>\n",
       "    <tr>\n",
       "      <th>8470</th>\n",
       "      <td>please review your recent ticketing_tool ticke...</td>\n",
       "      <td>from: mikhghytr wafglhdrhjop \\nsent: thursday,...</td>\n",
       "      <td>azxhejvq fyemlavd</td>\n",
       "      <td>GRP_16</td>\n",
       "      <td>en</td>\n",
       "    </tr>\n",
       "    <tr>\n",
       "      <th>5199</th>\n",
       "      <td>please reset my password for supply_chain_soft...</td>\n",
       "      <td>please reset my password for supply_chain_soft...</td>\n",
       "      <td>ockwafib wftboqry</td>\n",
       "      <td>GRP_0</td>\n",
       "      <td>en</td>\n",
       "    </tr>\n",
       "    <tr>\n",
       "      <th>7715</th>\n",
       "      <td>ak - crm in outlook not working</td>\n",
       "      <td>\\n\\nreceived from: wdpzfqgi.zndgqcux@gmail.com...</td>\n",
       "      <td>wdpzfqgi zndgqcux</td>\n",
       "      <td>GRP_0</td>\n",
       "      <td>en</td>\n",
       "    </tr>\n",
       "    <tr>\n",
       "      <th>6613</th>\n",
       "      <td>job SID_30arc1 failed in job_scheduler at: 08/...</td>\n",
       "      <td>received from: monitoring_tool@company.com_x00...</td>\n",
       "      <td>bpctwhsn kzqsbmtp</td>\n",
       "      <td>GRP_8</td>\n",
       "      <td>en</td>\n",
       "    </tr>\n",
       "  </tbody>\n",
       "</table>\n",
       "</div>"
      ],
      "text/plain": [
       "                                      Short description  \\\n",
       "2306             issue with engineering_tooled software   \n",
       "8470  please review your recent ticketing_tool ticke...   \n",
       "5199  please reset my password for supply_chain_soft...   \n",
       "7715                    ak - crm in outlook not working   \n",
       "6613  job SID_30arc1 failed in job_scheduler at: 08/...   \n",
       "\n",
       "                                            Description             Caller  \\\n",
       "2306  _x000D_\\n_x000D_\\nreceived from: ntuhoafg.bzwe...  ntuhoafg bzwefjvk   \n",
       "8470  from: mikhghytr wafglhdrhjop \\nsent: thursday,...  azxhejvq fyemlavd   \n",
       "5199  please reset my password for supply_chain_soft...  ockwafib wftboqry   \n",
       "7715  \\n\\nreceived from: wdpzfqgi.zndgqcux@gmail.com...  wdpzfqgi zndgqcux   \n",
       "6613  received from: monitoring_tool@company.com_x00...  bpctwhsn kzqsbmtp   \n",
       "\n",
       "     Assignment group language  \n",
       "2306           GRP_25       en  \n",
       "8470           GRP_16       en  \n",
       "5199            GRP_0       en  \n",
       "7715            GRP_0       en  \n",
       "6613            GRP_8       en  "
      ]
     },
     "execution_count": 282,
     "metadata": {},
     "output_type": "execute_result"
    }
   ],
   "source": [
    "df.sample(5)"
   ]
  },
  {
   "cell_type": "markdown",
   "metadata": {
    "id": "B2Ea3tAwNxB2"
   },
   "source": [
    "\n",
    "\n",
    "1.   The objective of the problem is to categorise the issues based on description and assign them to various groups. Since the short description is extracted from the description only, we can remove the column.\n",
    "2.  The objective is also to analyse the description and assign tickets\n"
   ]
  },
  {
   "cell_type": "code",
   "execution_count": 283,
   "metadata": {
    "executionInfo": {
     "elapsed": 85239,
     "status": "ok",
     "timestamp": 1637422454382,
     "user": {
      "displayName": "shikha sharma",
      "photoUrl": "https://lh3.googleusercontent.com/a-/AOh14Gi7-MZ8BB7Qmx-tZ4fMVMWE32u_g_Wo7RIqAY8HaA=s64",
      "userId": "18236534953658718874"
     },
     "user_tz": -330
    },
    "id": "_ilffAtfRVTf"
   },
   "outputs": [],
   "source": [
    "def fn_lan_detect(df):                                        \n",
    "   try:                                                          \n",
    "     0 \n",
    "     return detect(df)                                      \n",
    "   except:                                                       \n",
    "      return 'no'                                                  \n",
    "\n",
    "df['language'] = df['Description'].apply(fn_lan_detect)"
   ]
  },
  {
   "cell_type": "code",
   "execution_count": 284,
   "metadata": {
    "colab": {
     "base_uri": "https://localhost:8080/"
    },
    "executionInfo": {
     "elapsed": 78,
     "status": "ok",
     "timestamp": 1637422454412,
     "user": {
      "displayName": "shikha sharma",
      "photoUrl": "https://lh3.googleusercontent.com/a-/AOh14Gi7-MZ8BB7Qmx-tZ4fMVMWE32u_g_Wo7RIqAY8HaA=s64",
      "userId": "18236534953658718874"
     },
     "user_tz": -330
    },
    "id": "cdS4A-VKTZrP",
    "outputId": "17911e27-d007-4ce1-a85a-846fb7456463"
   },
   "outputs": [
    {
     "data": {
      "text/plain": [
       "en    7002\n",
       "de     406\n",
       "af     261\n",
       "it     149\n",
       "fr     113\n",
       "sv      78\n",
       "da      71\n",
       "no      69\n",
       "ca      61\n",
       "nl      60\n",
       "es      58\n",
       "pl      33\n",
       "pt      29\n",
       "ro      20\n",
       "so      13\n",
       "sl      11\n",
       "tl      11\n",
       "sq      10\n",
       "cy      10\n",
       "fi       6\n",
       "hr       6\n",
       "tr       6\n",
       "et       5\n",
       "id       4\n",
       "sk       3\n",
       "lt       3\n",
       "cs       1\n",
       "lv       1\n",
       "Name: language, dtype: int64"
      ]
     },
     "execution_count": 284,
     "metadata": {},
     "output_type": "execute_result"
    }
   ],
   "source": [
    "df['language'].value_counts()"
   ]
  },
  {
   "cell_type": "markdown",
   "metadata": {},
   "source": [
    "## Text Pre-Processing\n",
    "- As part of Text Pre-Processing Analysis we found there are quite few Non English Text.\n",
    "- So post our reviews we wanted to keep this Non-English data as part of data set for robust model generation.\n",
    "- So its been agreed to use Translators to convert Non English Text to English and get it processed for Data model feed\n",
    "- Googletrans & Translator Libraries been used and convered Non English to meaningful English words.\n",
    "- Below is the Non English Translated Text"
   ]
  },
  {
   "cell_type": "code",
   "execution_count": 285,
   "metadata": {
    "colab": {
     "base_uri": "https://localhost:8080/"
    },
    "executionInfo": {
     "elapsed": 67,
     "status": "ok",
     "timestamp": 1637422454412,
     "user": {
      "displayName": "shikha sharma",
      "photoUrl": "https://lh3.googleusercontent.com/a-/AOh14Gi7-MZ8BB7Qmx-tZ4fMVMWE32u_g_Wo7RIqAY8HaA=s64",
      "userId": "18236534953658718874"
     },
     "user_tz": -330
    },
    "id": "AZz4CxpDULP5",
    "outputId": "09c7c446-45c3-4fb2-ab0b-a0829119a708"
   },
   "outputs": [
    {
     "name": "stdout",
     "output_type": "stream",
     "text": [
      "{'af': 'afrikaans', 'sq': 'albanian', 'am': 'amharic', 'ar': 'arabic', 'hy': 'armenian', 'az': 'azerbaijani', 'eu': 'basque', 'be': 'belarusian', 'bn': 'bengali', 'bs': 'bosnian', 'bg': 'bulgarian', 'ca': 'catalan', 'ceb': 'cebuano', 'ny': 'chichewa', 'zh-cn': 'chinese (simplified)', 'zh-tw': 'chinese (traditional)', 'co': 'corsican', 'hr': 'croatian', 'cs': 'czech', 'da': 'danish', 'nl': 'dutch', 'en': 'english', 'eo': 'esperanto', 'et': 'estonian', 'tl': 'filipino', 'fi': 'finnish', 'fr': 'french', 'fy': 'frisian', 'gl': 'galician', 'ka': 'georgian', 'de': 'german', 'el': 'greek', 'gu': 'gujarati', 'ht': 'haitian creole', 'ha': 'hausa', 'haw': 'hawaiian', 'iw': 'hebrew', 'he': 'hebrew', 'hi': 'hindi', 'hmn': 'hmong', 'hu': 'hungarian', 'is': 'icelandic', 'ig': 'igbo', 'id': 'indonesian', 'ga': 'irish', 'it': 'italian', 'ja': 'japanese', 'jw': 'javanese', 'kn': 'kannada', 'kk': 'kazakh', 'km': 'khmer', 'ko': 'korean', 'ku': 'kurdish (kurmanji)', 'ky': 'kyrgyz', 'lo': 'lao', 'la': 'latin', 'lv': 'latvian', 'lt': 'lithuanian', 'lb': 'luxembourgish', 'mk': 'macedonian', 'mg': 'malagasy', 'ms': 'malay', 'ml': 'malayalam', 'mt': 'maltese', 'mi': 'maori', 'mr': 'marathi', 'mn': 'mongolian', 'my': 'myanmar (burmese)', 'ne': 'nepali', 'no': 'norwegian', 'or': 'odia', 'ps': 'pashto', 'fa': 'persian', 'pl': 'polish', 'pt': 'portuguese', 'pa': 'punjabi', 'ro': 'romanian', 'ru': 'russian', 'sm': 'samoan', 'gd': 'scots gaelic', 'sr': 'serbian', 'st': 'sesotho', 'sn': 'shona', 'sd': 'sindhi', 'si': 'sinhala', 'sk': 'slovak', 'sl': 'slovenian', 'so': 'somali', 'es': 'spanish', 'su': 'sundanese', 'sw': 'swahili', 'sv': 'swedish', 'tg': 'tajik', 'ta': 'tamil', 'te': 'telugu', 'th': 'thai', 'tr': 'turkish', 'uk': 'ukrainian', 'ur': 'urdu', 'ug': 'uyghur', 'uz': 'uzbek', 'vi': 'vietnamese', 'cy': 'welsh', 'xh': 'xhosa', 'yi': 'yiddish', 'yo': 'yoruba', 'zu': 'zulu'}\n"
     ]
    }
   ],
   "source": [
    "import googletrans\n",
    "from googletrans import Translator\n",
    "print(googletrans.LANGUAGES)"
   ]
  },
  {
   "cell_type": "code",
   "execution_count": 286,
   "metadata": {},
   "outputs": [],
   "source": [
    "#pip install googletrans"
   ]
  },
  {
   "cell_type": "raw",
   "metadata": {},
   "source": [
    "Transating the other language text"
   ]
  },
  {
   "cell_type": "code",
   "execution_count": 287,
   "metadata": {},
   "outputs": [],
   "source": [
    "#df['RawDescription'] = df['Short description'].str.cat(df['Description'], sep=' ', na_rep=' ')\n",
    "df['RawDescription'] = df['Description']\n",
    "#df.head()"
   ]
  },
  {
   "cell_type": "code",
   "execution_count": 288,
   "metadata": {
    "executionInfo": {
     "elapsed": 58,
     "status": "ok",
     "timestamp": 1637422454413,
     "user": {
      "displayName": "shikha sharma",
      "photoUrl": "https://lh3.googleusercontent.com/a-/AOh14Gi7-MZ8BB7Qmx-tZ4fMVMWE32u_g_Wo7RIqAY8HaA=s64",
      "userId": "18236534953658718874"
     },
     "user_tz": -330
    },
    "id": "Fb87uzltUQK_"
   },
   "outputs": [],
   "source": [
    "# Function to translate the text to english.\n",
    "def fn_translate(df,lang):\n",
    "  try:\n",
    "    if lang == 'en':\n",
    "        return df\n",
    "    else:\n",
    "        return translator.translate(df).text\n",
    "  except:\n",
    "    return df\n",
    "    \n",
    "    \n",
    "df['English_Description'] = df.apply(lambda x: fn_translate(x['RawDescription'], x['language']), axis=1)"
   ]
  },
  {
   "cell_type": "code",
   "execution_count": 289,
   "metadata": {
    "colab": {
     "base_uri": "https://localhost:8080/",
     "height": 204
    },
    "executionInfo": {
     "elapsed": 81,
     "status": "ok",
     "timestamp": 1637422454436,
     "user": {
      "displayName": "shikha sharma",
      "photoUrl": "https://lh3.googleusercontent.com/a-/AOh14Gi7-MZ8BB7Qmx-tZ4fMVMWE32u_g_Wo7RIqAY8HaA=s64",
      "userId": "18236534953658718874"
     },
     "user_tz": -330
    },
    "id": "wB3yntrDGSJA",
    "outputId": "356f8469-875b-452e-b9e3-92bb18e63f77"
   },
   "outputs": [
    {
     "data": {
      "text/html": [
       "<div>\n",
       "<style scoped>\n",
       "    .dataframe tbody tr th:only-of-type {\n",
       "        vertical-align: middle;\n",
       "    }\n",
       "\n",
       "    .dataframe tbody tr th {\n",
       "        vertical-align: top;\n",
       "    }\n",
       "\n",
       "    .dataframe thead th {\n",
       "        text-align: right;\n",
       "    }\n",
       "</style>\n",
       "<table border=\"1\" class=\"dataframe\">\n",
       "  <thead>\n",
       "    <tr style=\"text-align: right;\">\n",
       "      <th></th>\n",
       "      <th>Short description</th>\n",
       "      <th>Description</th>\n",
       "      <th>Caller</th>\n",
       "      <th>Assignment group</th>\n",
       "      <th>language</th>\n",
       "      <th>RawDescription</th>\n",
       "      <th>English_Description</th>\n",
       "    </tr>\n",
       "  </thead>\n",
       "  <tbody>\n",
       "    <tr>\n",
       "      <th>5988</th>\n",
       "      <td>prtgghj4k and SID_67 password reset</td>\n",
       "      <td>unable to login to prtgghj4k and SID_67 systems</td>\n",
       "      <td>qpkbiwzl urypnjvq</td>\n",
       "      <td>GRP_0</td>\n",
       "      <td>en</td>\n",
       "      <td>unable to login to prtgghj4k and SID_67 systems</td>\n",
       "      <td>unable to login to prtgghj4k and SID_67 systems</td>\n",
       "    </tr>\n",
       "    <tr>\n",
       "      <th>3866</th>\n",
       "      <td>job Job_2406b failed in job_scheduler at: 09/2...</td>\n",
       "      <td>received from: monitoring_tool@company.com_x00...</td>\n",
       "      <td>bpctwhsn kzqsbmtp</td>\n",
       "      <td>GRP_8</td>\n",
       "      <td>en</td>\n",
       "      <td>received from: monitoring_tool@company.com_x00...</td>\n",
       "      <td>received from: monitoring_tool@company.com_x00...</td>\n",
       "    </tr>\n",
       "    <tr>\n",
       "      <th>2427</th>\n",
       "      <td>job Job_2645 failed in job_scheduler at: 10/04...</td>\n",
       "      <td>received from: monitoring_tool@company.com_x00...</td>\n",
       "      <td>bpctwhsn kzqsbmtp</td>\n",
       "      <td>GRP_6</td>\n",
       "      <td>en</td>\n",
       "      <td>received from: monitoring_tool@company.com_x00...</td>\n",
       "      <td>received from: monitoring_tool@company.com_x00...</td>\n",
       "    </tr>\n",
       "    <tr>\n",
       "      <th>3419</th>\n",
       "      <td>office reinstall</td>\n",
       "      <td>office reinstall</td>\n",
       "      <td>ejvkzobl yijgokrn</td>\n",
       "      <td>GRP_0</td>\n",
       "      <td>en</td>\n",
       "      <td>office reinstall</td>\n",
       "      <td>office reinstall</td>\n",
       "    </tr>\n",
       "    <tr>\n",
       "      <th>910</th>\n",
       "      <td>job Job_1378 failed in job_scheduler at: 83.69...</td>\n",
       "      <td>received from: monitoring_tool@company.com_x00...</td>\n",
       "      <td>bpctwhsn kzqsbmtp</td>\n",
       "      <td>GRP_9</td>\n",
       "      <td>en</td>\n",
       "      <td>received from: monitoring_tool@company.com_x00...</td>\n",
       "      <td>received from: monitoring_tool@company.com_x00...</td>\n",
       "    </tr>\n",
       "  </tbody>\n",
       "</table>\n",
       "</div>"
      ],
      "text/plain": [
       "                                      Short description  \\\n",
       "5988                prtgghj4k and SID_67 password reset   \n",
       "3866  job Job_2406b failed in job_scheduler at: 09/2...   \n",
       "2427  job Job_2645 failed in job_scheduler at: 10/04...   \n",
       "3419                                   office reinstall   \n",
       "910   job Job_1378 failed in job_scheduler at: 83.69...   \n",
       "\n",
       "                                            Description             Caller  \\\n",
       "5988    unable to login to prtgghj4k and SID_67 systems  qpkbiwzl urypnjvq   \n",
       "3866  received from: monitoring_tool@company.com_x00...  bpctwhsn kzqsbmtp   \n",
       "2427  received from: monitoring_tool@company.com_x00...  bpctwhsn kzqsbmtp   \n",
       "3419                                   office reinstall  ejvkzobl yijgokrn   \n",
       "910   received from: monitoring_tool@company.com_x00...  bpctwhsn kzqsbmtp   \n",
       "\n",
       "     Assignment group language  \\\n",
       "5988            GRP_0       en   \n",
       "3866            GRP_8       en   \n",
       "2427            GRP_6       en   \n",
       "3419            GRP_0       en   \n",
       "910             GRP_9       en   \n",
       "\n",
       "                                         RawDescription  \\\n",
       "5988    unable to login to prtgghj4k and SID_67 systems   \n",
       "3866  received from: monitoring_tool@company.com_x00...   \n",
       "2427  received from: monitoring_tool@company.com_x00...   \n",
       "3419                                   office reinstall   \n",
       "910   received from: monitoring_tool@company.com_x00...   \n",
       "\n",
       "                                    English_Description  \n",
       "5988    unable to login to prtgghj4k and SID_67 systems  \n",
       "3866  received from: monitoring_tool@company.com_x00...  \n",
       "2427  received from: monitoring_tool@company.com_x00...  \n",
       "3419                                   office reinstall  \n",
       "910   received from: monitoring_tool@company.com_x00...  "
      ]
     },
     "execution_count": 289,
     "metadata": {},
     "output_type": "execute_result"
    }
   ],
   "source": [
    "df.sample(5)"
   ]
  },
  {
   "cell_type": "code",
   "execution_count": 290,
   "metadata": {},
   "outputs": [],
   "source": [
    "#df.to_csv('check_translatea.csv', index=False, encoding='utf_8_sig')"
   ]
  },
  {
   "cell_type": "code",
   "execution_count": 291,
   "metadata": {},
   "outputs": [],
   "source": [
    "df_t = df[(df['English_Description'].str.contains('received from: monitoring_tool@company.com') == True)]"
   ]
  },
  {
   "cell_type": "code",
   "execution_count": 292,
   "metadata": {},
   "outputs": [
    {
     "data": {
      "text/plain": [
       "(961, 7)"
      ]
     },
     "execution_count": 292,
     "metadata": {},
     "output_type": "execute_result"
    }
   ],
   "source": [
    "df_t.shape"
   ]
  },
  {
   "cell_type": "code",
   "execution_count": 293,
   "metadata": {},
   "outputs": [],
   "source": [
    "df_e = df[(df['English_Description'].str.contains('event') == True)]"
   ]
  },
  {
   "cell_type": "code",
   "execution_count": 294,
   "metadata": {},
   "outputs": [
    {
     "data": {
      "text/plain": [
       "(89, 7)"
      ]
     },
     "execution_count": 294,
     "metadata": {},
     "output_type": "execute_result"
    }
   ],
   "source": [
    "df_e.shape"
   ]
  },
  {
   "cell_type": "code",
   "execution_count": 295,
   "metadata": {},
   "outputs": [
    {
     "data": {
      "text/html": [
       "<div>\n",
       "<style scoped>\n",
       "    .dataframe tbody tr th:only-of-type {\n",
       "        vertical-align: middle;\n",
       "    }\n",
       "\n",
       "    .dataframe tbody tr th {\n",
       "        vertical-align: top;\n",
       "    }\n",
       "\n",
       "    .dataframe thead th {\n",
       "        text-align: right;\n",
       "    }\n",
       "</style>\n",
       "<table border=\"1\" class=\"dataframe\">\n",
       "  <thead>\n",
       "    <tr style=\"text-align: right;\">\n",
       "      <th></th>\n",
       "      <th>Short description</th>\n",
       "      <th>Description</th>\n",
       "      <th>Caller</th>\n",
       "      <th>Assignment group</th>\n",
       "      <th>language</th>\n",
       "      <th>RawDescription</th>\n",
       "      <th>English_Description</th>\n",
       "    </tr>\n",
       "  </thead>\n",
       "  <tbody>\n",
       "    <tr>\n",
       "      <th>6</th>\n",
       "      <td>event: critical:HostName_221.company.com the v...</td>\n",
       "      <td>event: critical:HostName_221.company.com the v...</td>\n",
       "      <td>jyoqwxhz clhxsoqy</td>\n",
       "      <td>GRP_1</td>\n",
       "      <td>en</td>\n",
       "      <td>event: critical:HostName_221.company.com the v...</td>\n",
       "      <td>event: critical:HostName_221.company.com the v...</td>\n",
       "    </tr>\n",
       "    <tr>\n",
       "      <th>84</th>\n",
       "      <td>engineering tool drawing originals in pdf form...</td>\n",
       "      <td>hello it service,_x000D_\\ni need to monitor th...</td>\n",
       "      <td>vlymsnej whlqxcst</td>\n",
       "      <td>GRP_11</td>\n",
       "      <td>en</td>\n",
       "      <td>hello it service,_x000D_\\ni need to monitor th...</td>\n",
       "      <td>hello it service,_x000D_\\ni need to monitor th...</td>\n",
       "    </tr>\n",
       "    <tr>\n",
       "      <th>341</th>\n",
       "      <td>security incidents - ( #in33071122 ) :[ipbl]: ...</td>\n",
       "      <td>source ip :\\nsystem name :lmsl9516338\\nuser  n...</td>\n",
       "      <td>gzhapcld fdigznbk</td>\n",
       "      <td>GRP_3</td>\n",
       "      <td>en</td>\n",
       "      <td>source ip :\\nsystem name :lmsl9516338\\nuser  n...</td>\n",
       "      <td>source ip :\\nsystem name :lmsl9516338\\nuser  n...</td>\n",
       "    </tr>\n",
       "    <tr>\n",
       "      <th>537</th>\n",
       "      <td>us time change</td>\n",
       "      <td>\\n\\nreceived from: xabkyoug.wdkyiqfx@gmail.com...</td>\n",
       "      <td>xabkyoug wdkyiqfx</td>\n",
       "      <td>GRP_0</td>\n",
       "      <td>en</td>\n",
       "      <td>\\n\\nreceived from: xabkyoug.wdkyiqfx@gmail.com...</td>\n",
       "      <td>\\n\\nreceived from: xabkyoug.wdkyiqfx@gmail.com...</td>\n",
       "    </tr>\n",
       "    <tr>\n",
       "      <th>874</th>\n",
       "      <td>bex analyzer report not working</td>\n",
       "      <td>i open bex analyzer and connect to SID_37_x000...</td>\n",
       "      <td>wgothrzl iokdftgn</td>\n",
       "      <td>GRP_0</td>\n",
       "      <td>en</td>\n",
       "      <td>i open bex analyzer and connect to SID_37_x000...</td>\n",
       "      <td>i open bex analyzer and connect to SID_37_x000...</td>\n",
       "    </tr>\n",
       "    <tr>\n",
       "      <th>...</th>\n",
       "      <td>...</td>\n",
       "      <td>...</td>\n",
       "      <td>...</td>\n",
       "      <td>...</td>\n",
       "      <td>...</td>\n",
       "      <td>...</td>\n",
       "      <td>...</td>\n",
       "    </tr>\n",
       "    <tr>\n",
       "      <th>7997</th>\n",
       "      <td>security incidents - ( sw #in33544563 ) : poss...</td>\n",
       "      <td>source ip : 45.25.35.0499\\nsystem name : lpal9...</td>\n",
       "      <td>ugyothfz ugrmkdhx</td>\n",
       "      <td>GRP_2</td>\n",
       "      <td>en</td>\n",
       "      <td>source ip : 45.25.35.0499\\nsystem name : lpal9...</td>\n",
       "      <td>source ip : 45.25.35.0499\\nsystem name : lpal9...</td>\n",
       "    </tr>\n",
       "    <tr>\n",
       "      <th>8002</th>\n",
       "      <td>security incidents - ( sw #in33544563 ) : poss...</td>\n",
       "      <td>source ip : 45.25.35.0499_x000D_\\nsystem name ...</td>\n",
       "      <td>ugyothfz ugrmkdhx</td>\n",
       "      <td>GRP_62</td>\n",
       "      <td>en</td>\n",
       "      <td>source ip : 45.25.35.0499_x000D_\\nsystem name ...</td>\n",
       "      <td>source ip : 45.25.35.0499_x000D_\\nsystem name ...</td>\n",
       "    </tr>\n",
       "    <tr>\n",
       "      <th>8096</th>\n",
       "      <td>lean event</td>\n",
       "      <td>_x000D_\\n_x000D_\\nreceived from: ikerxqwz.prky...</td>\n",
       "      <td>ikerxqwz prkyuitl</td>\n",
       "      <td>GRP_0</td>\n",
       "      <td>en</td>\n",
       "      <td>_x000D_\\n_x000D_\\nreceived from: ikerxqwz.prky...</td>\n",
       "      <td>_x000D_\\n_x000D_\\nreceived from: ikerxqwz.prky...</td>\n",
       "    </tr>\n",
       "    <tr>\n",
       "      <th>8336</th>\n",
       "      <td>hello.  please see the highlighted field below...</td>\n",
       "      <td>from: rushethryli h jacfgtykson [mailto:ckflmq...</td>\n",
       "      <td>ckflmqoj fojkrlmw</td>\n",
       "      <td>GRP_29</td>\n",
       "      <td>en</td>\n",
       "      <td>from: rushethryli h jacfgtykson [mailto:ckflmq...</td>\n",
       "      <td>from: rushethryli h jacfgtykson [mailto:ckflmq...</td>\n",
       "    </tr>\n",
       "    <tr>\n",
       "      <th>8404</th>\n",
       "      <td>skype</td>\n",
       "      <td>_x000D_\\n_x000D_\\nreceived from: lpoebzsc.grkn...</td>\n",
       "      <td>lpoebzsc grknswyo</td>\n",
       "      <td>GRP_0</td>\n",
       "      <td>en</td>\n",
       "      <td>_x000D_\\n_x000D_\\nreceived from: lpoebzsc.grkn...</td>\n",
       "      <td>_x000D_\\n_x000D_\\nreceived from: lpoebzsc.grkn...</td>\n",
       "    </tr>\n",
       "  </tbody>\n",
       "</table>\n",
       "<p>89 rows × 7 columns</p>\n",
       "</div>"
      ],
      "text/plain": [
       "                                      Short description  \\\n",
       "6     event: critical:HostName_221.company.com the v...   \n",
       "84    engineering tool drawing originals in pdf form...   \n",
       "341   security incidents - ( #in33071122 ) :[ipbl]: ...   \n",
       "537                                      us time change   \n",
       "874                     bex analyzer report not working   \n",
       "...                                                 ...   \n",
       "7997  security incidents - ( sw #in33544563 ) : poss...   \n",
       "8002  security incidents - ( sw #in33544563 ) : poss...   \n",
       "8096                                         lean event   \n",
       "8336  hello.  please see the highlighted field below...   \n",
       "8404                                              skype   \n",
       "\n",
       "                                            Description             Caller  \\\n",
       "6     event: critical:HostName_221.company.com the v...  jyoqwxhz clhxsoqy   \n",
       "84    hello it service,_x000D_\\ni need to monitor th...  vlymsnej whlqxcst   \n",
       "341   source ip :\\nsystem name :lmsl9516338\\nuser  n...  gzhapcld fdigznbk   \n",
       "537   \\n\\nreceived from: xabkyoug.wdkyiqfx@gmail.com...  xabkyoug wdkyiqfx   \n",
       "874   i open bex analyzer and connect to SID_37_x000...  wgothrzl iokdftgn   \n",
       "...                                                 ...                ...   \n",
       "7997  source ip : 45.25.35.0499\\nsystem name : lpal9...  ugyothfz ugrmkdhx   \n",
       "8002  source ip : 45.25.35.0499_x000D_\\nsystem name ...  ugyothfz ugrmkdhx   \n",
       "8096  _x000D_\\n_x000D_\\nreceived from: ikerxqwz.prky...  ikerxqwz prkyuitl   \n",
       "8336  from: rushethryli h jacfgtykson [mailto:ckflmq...  ckflmqoj fojkrlmw   \n",
       "8404  _x000D_\\n_x000D_\\nreceived from: lpoebzsc.grkn...  lpoebzsc grknswyo   \n",
       "\n",
       "     Assignment group language  \\\n",
       "6               GRP_1       en   \n",
       "84             GRP_11       en   \n",
       "341             GRP_3       en   \n",
       "537             GRP_0       en   \n",
       "874             GRP_0       en   \n",
       "...               ...      ...   \n",
       "7997            GRP_2       en   \n",
       "8002           GRP_62       en   \n",
       "8096            GRP_0       en   \n",
       "8336           GRP_29       en   \n",
       "8404            GRP_0       en   \n",
       "\n",
       "                                         RawDescription  \\\n",
       "6     event: critical:HostName_221.company.com the v...   \n",
       "84    hello it service,_x000D_\\ni need to monitor th...   \n",
       "341   source ip :\\nsystem name :lmsl9516338\\nuser  n...   \n",
       "537   \\n\\nreceived from: xabkyoug.wdkyiqfx@gmail.com...   \n",
       "874   i open bex analyzer and connect to SID_37_x000...   \n",
       "...                                                 ...   \n",
       "7997  source ip : 45.25.35.0499\\nsystem name : lpal9...   \n",
       "8002  source ip : 45.25.35.0499_x000D_\\nsystem name ...   \n",
       "8096  _x000D_\\n_x000D_\\nreceived from: ikerxqwz.prky...   \n",
       "8336  from: rushethryli h jacfgtykson [mailto:ckflmq...   \n",
       "8404  _x000D_\\n_x000D_\\nreceived from: lpoebzsc.grkn...   \n",
       "\n",
       "                                    English_Description  \n",
       "6     event: critical:HostName_221.company.com the v...  \n",
       "84    hello it service,_x000D_\\ni need to monitor th...  \n",
       "341   source ip :\\nsystem name :lmsl9516338\\nuser  n...  \n",
       "537   \\n\\nreceived from: xabkyoug.wdkyiqfx@gmail.com...  \n",
       "874   i open bex analyzer and connect to SID_37_x000...  \n",
       "...                                                 ...  \n",
       "7997  source ip : 45.25.35.0499\\nsystem name : lpal9...  \n",
       "8002  source ip : 45.25.35.0499_x000D_\\nsystem name ...  \n",
       "8096  _x000D_\\n_x000D_\\nreceived from: ikerxqwz.prky...  \n",
       "8336  from: rushethryli h jacfgtykson [mailto:ckflmq...  \n",
       "8404  _x000D_\\n_x000D_\\nreceived from: lpoebzsc.grkn...  \n",
       "\n",
       "[89 rows x 7 columns]"
      ]
     },
     "execution_count": 295,
     "metadata": {},
     "output_type": "execute_result"
    }
   ],
   "source": [
    "df_e"
   ]
  },
  {
   "cell_type": "code",
   "execution_count": 296,
   "metadata": {},
   "outputs": [],
   "source": [
    "s = df_t['Caller'].groupby(df_t['Assignment group']).value_counts()"
   ]
  },
  {
   "cell_type": "code",
   "execution_count": 297,
   "metadata": {},
   "outputs": [
    {
     "data": {
      "text/plain": [
       "Assignment group  Caller           \n",
       "GRP_1             bpctwhsn kzqsbmtp      6\n",
       "                  ZkBogxib QsEJzdZO      1\n",
       "GRP_10            bpctwhsn kzqsbmtp     60\n",
       "                  ZkBogxib QsEJzdZO      2\n",
       "GRP_12            bpctwhsn kzqsbmtp      8\n",
       "GRP_13            bpctwhsn kzqsbmtp      4\n",
       "GRP_14            ZkBogxib QsEJzdZO      2\n",
       "                  bpctwhsn kzqsbmtp      1\n",
       "GRP_18            bpctwhsn kzqsbmtp      3\n",
       "GRP_29            ZkBogxib QsEJzdZO      2\n",
       "                  bpctwhsn kzqsbmtp      1\n",
       "GRP_44            bpctwhsn kzqsbmtp      1\n",
       "GRP_45            bpctwhsn kzqsbmtp      7\n",
       "GRP_47            ZkBogxib QsEJzdZO      8\n",
       "                  bpctwhsn kzqsbmtp      2\n",
       "GRP_5             bpctwhsn kzqsbmtp     96\n",
       "                  ZkBogxib QsEJzdZO     16\n",
       "GRP_57            bpctwhsn kzqsbmtp      1\n",
       "GRP_6             bpctwhsn kzqsbmtp     89\n",
       "                  ZkBogxib QsEJzdZO     35\n",
       "GRP_60            bpctwhsn kzqsbmtp     16\n",
       "GRP_8             bpctwhsn kzqsbmtp    362\n",
       "                  ZkBogxib QsEJzdZO     54\n",
       "GRP_9             bpctwhsn kzqsbmtp    153\n",
       "                  ZkBogxib QsEJzdZO     31\n",
       "Name: Caller, dtype: int64"
      ]
     },
     "execution_count": 297,
     "metadata": {},
     "output_type": "execute_result"
    }
   ],
   "source": [
    "s"
   ]
  },
  {
   "cell_type": "code",
   "execution_count": 298,
   "metadata": {},
   "outputs": [],
   "source": [
    "df = df[(df['English_Description'].str.contains('received from: monitoring_tool@company.com') == False)]"
   ]
  },
  {
   "cell_type": "code",
   "execution_count": 299,
   "metadata": {},
   "outputs": [],
   "source": [
    "df = df[(df['English_Description'].str.contains('event') == False)]"
   ]
  },
  {
   "cell_type": "code",
   "execution_count": 300,
   "metadata": {},
   "outputs": [],
   "source": [
    "#df = df.replace(to_replace = \"'\", value=\"\")"
   ]
  },
  {
   "cell_type": "code",
   "execution_count": 301,
   "metadata": {},
   "outputs": [],
   "source": [
    "#dfk = df_bk['English_Description'].replace(to_replace = \"'\", value=\"\")"
   ]
  },
  {
   "cell_type": "code",
   "execution_count": 302,
   "metadata": {},
   "outputs": [],
   "source": [
    "#dfk1 = df[df['English_Description'].str.contains(\"laptop'\") == True]"
   ]
  },
  {
   "cell_type": "code",
   "execution_count": 303,
   "metadata": {},
   "outputs": [],
   "source": [
    "#a_string = df[(df['English_Description'].str.contains(\"'\") == True)]\n",
    "#stripped_string = a_string.strip(\"'\") \n",
    "\n",
    "#print(stripped_string)  #Output: ab\"cd\n",
    "\n",
    "#replaced_string = a_string.replace(\"'\",\"\")  \n",
    "#print(replaced_string) #Output: abcd\n",
    "#a_string.sample(5)\n",
    "#a_string.shape"
   ]
  },
  {
   "cell_type": "code",
   "execution_count": 304,
   "metadata": {},
   "outputs": [],
   "source": [
    "#a_string.to_csv('string.csv', index=False, encoding='utf_8_sig')"
   ]
  },
  {
   "cell_type": "code",
   "execution_count": 305,
   "metadata": {},
   "outputs": [],
   "source": [
    "#replaced_string.head"
   ]
  },
  {
   "cell_type": "code",
   "execution_count": 306,
   "metadata": {},
   "outputs": [],
   "source": [
    "#dfk1 = replaced_string[replaced_string['English_Description'].str.contains(\"laptop'\") == True]"
   ]
  },
  {
   "cell_type": "code",
   "execution_count": 307,
   "metadata": {},
   "outputs": [],
   "source": [
    "#dfk1"
   ]
  },
  {
   "cell_type": "code",
   "execution_count": 308,
   "metadata": {},
   "outputs": [],
   "source": [
    "#dfk2 = dfk1.replace(to_replace = \"'\", value=\"\")\n",
    "#dfk2"
   ]
  },
  {
   "cell_type": "code",
   "execution_count": 309,
   "metadata": {},
   "outputs": [
    {
     "name": "stdout",
     "output_type": "stream",
     "text": [
      "<class 'pandas.core.frame.DataFrame'>\n",
      "Int64Index: 7450 entries, 0 to 8499\n",
      "Data columns (total 7 columns):\n",
      " #   Column               Non-Null Count  Dtype \n",
      "---  ------               --------------  ----- \n",
      " 0   Short description    7442 non-null   object\n",
      " 1   Description          7450 non-null   object\n",
      " 2   Caller               7450 non-null   object\n",
      " 3   Assignment group     7450 non-null   object\n",
      " 4   language             7450 non-null   object\n",
      " 5   RawDescription       7450 non-null   object\n",
      " 6   English_Description  7450 non-null   object\n",
      "dtypes: object(7)\n",
      "memory usage: 465.6+ KB\n"
     ]
    }
   ],
   "source": [
    "#df = df[(df['English_Description'].str.contains(\"'\") == False)]\n",
    "df.info()"
   ]
  },
  {
   "cell_type": "code",
   "execution_count": null,
   "metadata": {},
   "outputs": [],
   "source": []
  },
  {
   "cell_type": "code",
   "execution_count": 310,
   "metadata": {},
   "outputs": [],
   "source": [
    "df['RawWordCount'] = [len(desc.split(' ')) for desc in df['English_Description']]\n",
    "df.head()\n",
    "wordCount_before = df['RawWordCount'].sum()"
   ]
  },
  {
   "cell_type": "code",
   "execution_count": 311,
   "metadata": {},
   "outputs": [
    {
     "name": "stdout",
     "output_type": "stream",
     "text": [
      "Total Corpus Word Count:  201389\n"
     ]
    }
   ],
   "source": [
    "print(\"Total Corpus Word Count: \", wordCount_before)"
   ]
  },
  {
   "cell_type": "code",
   "execution_count": 312,
   "metadata": {},
   "outputs": [],
   "source": [
    "def removeString(data, regex):\n",
    "    return data.str.lower().str.replace(regex.lower(), ' ')\n",
    "\n",
    "def cleanDataset(dataset, columnsToClean, regexList):\n",
    "    for column in columnsToClean:\n",
    "        for regex in regexList:\n",
    "            dataset[column] = removeString(dataset[column], regex)\n",
    "    return dataset\n",
    "# TBD : remove Disclaimer\n",
    "\n",
    "def getRegexList():\n",
    "    '''\n",
    "    Adding regex list as per the given data set to flush off the unnecessary text\n",
    "    \n",
    "    '''\n",
    "    regexList = []\n",
    "    regexList += ['From:(.*)\\r\\n']  # from line\n",
    "    regexList += ['Sent:(.*)\\r\\n']  # sent to line\n",
    "    regexList += ['received from:(.*)\\r\\n']  # received data line\n",
    "    regexList += ['received']  # received data line\n",
    "    regexList += ['To:(.*)\\r\\n']  # to line\n",
    "    regexList += ['CC:(.*)\\r\\n']  # cc line\n",
    "    regexList += ['(.*)infection']  # footer\n",
    "    regexList += ['\\[cid:(.*)]']  # images cid\n",
    "    regexList += ['https?:[^\\]\\n\\r]+']  # https & http\n",
    "    regexList += ['Subject:']\n",
    "    regexList += ['[\\w\\d\\-\\_\\.]+@[\\w\\d\\-\\_\\.]+']  # emails are not required\n",
    "    regexList += ['[0-9][\\-0–90-9 ]+']  # phones are not required\n",
    "    regexList += ['[0-9]']  # numbers not needed\n",
    "    regexList += ['[^a-zA-z 0-9]+']  # anything that is not a letter\n",
    "    regexList += ['[\\r\\n]']  # \\r\\n\n",
    "    regexList += [' [a-zA-Z] ']  # single letters makes no sense\n",
    "    regexList += [' [a-zA-Z][a-zA-Z] ']  # two-letter words makes no sense\n",
    "    regexList += [\"  \"]  # double spaces\n",
    "    \n",
    "    regexList += ['^[_a-z0-9-]+(\\.[_a-z0-9-]+)*@[a-z0-9-]+(\\.[a-z0-9-]+)*(\\.[a-z]{2,4})$']\n",
    "    regexList += ['[\\w\\d\\-\\_\\.]+ @ [\\w\\d\\-\\_\\.]+']\n",
    "    regexList += ['Subject:']\n",
    "    regexList += ['[^a-zA-Z]']\n",
    "\n",
    "    return regexList\n",
    "\n"
   ]
  },
  {
   "cell_type": "code",
   "execution_count": null,
   "metadata": {},
   "outputs": [],
   "source": []
  },
  {
   "cell_type": "code",
   "execution_count": 313,
   "metadata": {},
   "outputs": [],
   "source": [
    "#clean_tickets_df.sample(5)"
   ]
  },
  {
   "cell_type": "markdown",
   "metadata": {},
   "source": [
    "Droping down the column Description and language after translating"
   ]
  },
  {
   "cell_type": "code",
   "execution_count": 314,
   "metadata": {
    "executionInfo": {
     "elapsed": 101,
     "status": "ok",
     "timestamp": 1637422454443,
     "user": {
      "displayName": "shikha sharma",
      "photoUrl": "https://lh3.googleusercontent.com/a-/AOh14Gi7-MZ8BB7Qmx-tZ4fMVMWE32u_g_Wo7RIqAY8HaA=s64",
      "userId": "18236534953658718874"
     },
     "user_tz": -330
    },
    "id": "I_R7IdkAfw-u"
   },
   "outputs": [],
   "source": [
    "df_translated_text= df.drop(['Description','language'],axis=1)"
   ]
  },
  {
   "cell_type": "code",
   "execution_count": 315,
   "metadata": {
    "executionInfo": {
     "elapsed": 117,
     "status": "ok",
     "timestamp": 1637422454475,
     "user": {
      "displayName": "shikha sharma",
      "photoUrl": "https://lh3.googleusercontent.com/a-/AOh14Gi7-MZ8BB7Qmx-tZ4fMVMWE32u_g_Wo7RIqAY8HaA=s64",
      "userId": "18236534953658718874"
     },
     "user_tz": -330
    },
    "id": "YKnP_5wbgD20"
   },
   "outputs": [],
   "source": [
    "df_translated_text.English_Description=df_translated_text.English_Description.astype(str)"
   ]
  },
  {
   "cell_type": "code",
   "execution_count": 316,
   "metadata": {
    "colab": {
     "base_uri": "https://localhost:8080/",
     "height": 204
    },
    "executionInfo": {
     "elapsed": 927,
     "status": "ok",
     "timestamp": 1637422455288,
     "user": {
      "displayName": "shikha sharma",
      "photoUrl": "https://lh3.googleusercontent.com/a-/AOh14Gi7-MZ8BB7Qmx-tZ4fMVMWE32u_g_Wo7RIqAY8HaA=s64",
      "userId": "18236534953658718874"
     },
     "user_tz": -330
    },
    "id": "oBfEhK52R5n9",
    "outputId": "c9f80309-f9e0-419f-ea76-67ec300019ef"
   },
   "outputs": [
    {
     "data": {
      "text/html": [
       "<div>\n",
       "<style scoped>\n",
       "    .dataframe tbody tr th:only-of-type {\n",
       "        vertical-align: middle;\n",
       "    }\n",
       "\n",
       "    .dataframe tbody tr th {\n",
       "        vertical-align: top;\n",
       "    }\n",
       "\n",
       "    .dataframe thead th {\n",
       "        text-align: right;\n",
       "    }\n",
       "</style>\n",
       "<table border=\"1\" class=\"dataframe\">\n",
       "  <thead>\n",
       "    <tr style=\"text-align: right;\">\n",
       "      <th></th>\n",
       "      <th>Short description</th>\n",
       "      <th>Caller</th>\n",
       "      <th>Assignment group</th>\n",
       "      <th>RawDescription</th>\n",
       "      <th>English_Description</th>\n",
       "      <th>RawWordCount</th>\n",
       "    </tr>\n",
       "  </thead>\n",
       "  <tbody>\n",
       "    <tr>\n",
       "      <th>6881</th>\n",
       "      <td>user mentioned that the internet gets disconne...</td>\n",
       "      <td>cqlehowf aosqelnr</td>\n",
       "      <td>GRP_0</td>\n",
       "      <td>user mentioned that the internet gets disconne...</td>\n",
       "      <td>user mentioned that the internet gets disconne...</td>\n",
       "      <td>96</td>\n",
       "    </tr>\n",
       "    <tr>\n",
       "      <th>7858</th>\n",
       "      <td>dell 7350: pc boot up  failure.urgent</td>\n",
       "      <td>qwreamdz pmarxvtk</td>\n",
       "      <td>GRP_3</td>\n",
       "      <td>dell 7350: pc boot up  failure.\\n-had to try r...</td>\n",
       "      <td>dell 7350 pc boot up  failurehad to try restar...</td>\n",
       "      <td>42</td>\n",
       "    </tr>\n",
       "    <tr>\n",
       "      <th>305</th>\n",
       "      <td>probleme lan an tgeyd1 \\we_wu113 \\wrcktgbd wzr...</td>\n",
       "      <td>wrcktgbd wzrgyunp</td>\n",
       "      <td>GRP_24</td>\n",
       "      <td>probleme lan an tgeyd1 \\we_wu113 \\wrcktgbd wzr...</td>\n",
       "      <td>probleme lan an tgeyd1 we_wu113 wrcktgbd wzrgyunp</td>\n",
       "      <td>7</td>\n",
       "    </tr>\n",
       "    <tr>\n",
       "      <th>181</th>\n",
       "      <td>unable to connect to vpn</td>\n",
       "      <td>aljbtwsh lepkbgix</td>\n",
       "      <td>GRP_19</td>\n",
       "      <td>unable to connect to vpn</td>\n",
       "      <td>unable to connect to vpn</td>\n",
       "      <td>5</td>\n",
       "    </tr>\n",
       "    <tr>\n",
       "      <th>376</th>\n",
       "      <td>business_client not working</td>\n",
       "      <td>lvxakohq tsfnhowj</td>\n",
       "      <td>GRP_0</td>\n",
       "      <td>_x000D_\\n_x000D_\\nreceived from: lvxakohq.tsfn...</td>\n",
       "      <td>_x000D__x000D_received from lvxakohqtsfnhowjgm...</td>\n",
       "      <td>12</td>\n",
       "    </tr>\n",
       "  </tbody>\n",
       "</table>\n",
       "</div>"
      ],
      "text/plain": [
       "                                      Short description             Caller  \\\n",
       "6881  user mentioned that the internet gets disconne...  cqlehowf aosqelnr   \n",
       "7858             dell 7350: pc boot up  failure.urgent   qwreamdz pmarxvtk   \n",
       "305   probleme lan an tgeyd1 \\we_wu113 \\wrcktgbd wzr...  wrcktgbd wzrgyunp   \n",
       "181                            unable to connect to vpn  aljbtwsh lepkbgix   \n",
       "376                         business_client not working  lvxakohq tsfnhowj   \n",
       "\n",
       "     Assignment group                                     RawDescription  \\\n",
       "6881            GRP_0  user mentioned that the internet gets disconne...   \n",
       "7858            GRP_3  dell 7350: pc boot up  failure.\\n-had to try r...   \n",
       "305            GRP_24  probleme lan an tgeyd1 \\we_wu113 \\wrcktgbd wzr...   \n",
       "181            GRP_19                           unable to connect to vpn   \n",
       "376             GRP_0  _x000D_\\n_x000D_\\nreceived from: lvxakohq.tsfn...   \n",
       "\n",
       "                                    English_Description  RawWordCount  \n",
       "6881  user mentioned that the internet gets disconne...            96  \n",
       "7858  dell 7350 pc boot up  failurehad to try restar...            42  \n",
       "305   probleme lan an tgeyd1 we_wu113 wrcktgbd wzrgyunp             7  \n",
       "181                            unable to connect to vpn             5  \n",
       "376   _x000D__x000D_received from lvxakohqtsfnhowjgm...            12  "
      ]
     },
     "execution_count": 316,
     "metadata": {},
     "output_type": "execute_result"
    }
   ],
   "source": [
    "#Removing unwanted charcters\n",
    "df_translated_text['English_Description']=df_translated_text['English_Description'].apply(lambda x: re.sub(r'[^\\w ]+', \"\", x))\n",
    "#Printing sample values\n",
    "df_translated_text.sample(5)"
   ]
  },
  {
   "cell_type": "code",
   "execution_count": 317,
   "metadata": {
    "colab": {
     "base_uri": "https://localhost:8080/",
     "height": 289
    },
    "executionInfo": {
     "elapsed": 88342,
     "status": "ok",
     "timestamp": 1637422545876,
     "user": {
      "displayName": "shikha sharma",
      "photoUrl": "https://lh3.googleusercontent.com/a-/AOh14Gi7-MZ8BB7Qmx-tZ4fMVMWE32u_g_Wo7RIqAY8HaA=s64",
      "userId": "18236534953658718874"
     },
     "user_tz": -330
    },
    "id": "EC5mWIj6Jyor",
    "outputId": "6c5962ea-73a2-4b82-8944-467fe8d0f54f"
   },
   "outputs": [],
   "source": [
    "def Expansions(x):\n",
    "  expanded_text=[]\n",
    "  expanded_words=[]\n",
    "  for x in x.split():\n",
    "    expanded_words.append(contractions.fix(x))\n",
    "    expanded_text = ' '.join(expanded_words)\n",
    "  return(expanded_text)\n"
   ]
  },
  {
   "cell_type": "code",
   "execution_count": 318,
   "metadata": {},
   "outputs": [
    {
     "data": {
      "text/html": [
       "<div>\n",
       "<style scoped>\n",
       "    .dataframe tbody tr th:only-of-type {\n",
       "        vertical-align: middle;\n",
       "    }\n",
       "\n",
       "    .dataframe tbody tr th {\n",
       "        vertical-align: top;\n",
       "    }\n",
       "\n",
       "    .dataframe thead th {\n",
       "        text-align: right;\n",
       "    }\n",
       "</style>\n",
       "<table border=\"1\" class=\"dataframe\">\n",
       "  <thead>\n",
       "    <tr style=\"text-align: right;\">\n",
       "      <th></th>\n",
       "      <th>Short description</th>\n",
       "      <th>Caller</th>\n",
       "      <th>Assignment group</th>\n",
       "      <th>RawDescription</th>\n",
       "      <th>English_Description</th>\n",
       "      <th>RawWordCount</th>\n",
       "      <th>Expansions</th>\n",
       "    </tr>\n",
       "  </thead>\n",
       "  <tbody>\n",
       "    <tr>\n",
       "      <th>5296</th>\n",
       "      <td>balance carry forward for ap and ar report</td>\n",
       "      <td>ihfkwzjd erbxoyqk</td>\n",
       "      <td>GRP_10</td>\n",
       "      <td>_x000D_\\n_x000D_\\nreceived from: ihfkwzjd.erbx...</td>\n",
       "      <td>_x000D__x000D_received from ihfkwzjderbxoyqkgm...</td>\n",
       "      <td>30</td>\n",
       "      <td>_x000D__x000D_received from ihfkwzjderbxoyqkgm...</td>\n",
       "    </tr>\n",
       "    <tr>\n",
       "      <th>3147</th>\n",
       "      <td>msd: outlook not showing the crm add-in.</td>\n",
       "      <td>ohnimgtv nmqyuolh</td>\n",
       "      <td>GRP_0</td>\n",
       "      <td>msd: outlook not showing the crm add-in._x000D...</td>\n",
       "      <td>msd outlook not showing the crm addin_x000D_co...</td>\n",
       "      <td>32</td>\n",
       "      <td>msd outlook not showing the crm addin_x000D_co...</td>\n",
       "    </tr>\n",
       "    <tr>\n",
       "      <th>3001</th>\n",
       "      <td>atp for mm 4870517 issue</td>\n",
       "      <td>qgrbdnoc dgupnhxv</td>\n",
       "      <td>GRP_6</td>\n",
       "      <td>_x000D_\\n_x000D_\\nreceived from: qgrbdnoc.dgup...</td>\n",
       "      <td>_x000D__x000D_received from qgrbdnocdgupnhxvgm...</td>\n",
       "      <td>83</td>\n",
       "      <td>_x000D__x000D_received from qgrbdnocdgupnhxvgm...</td>\n",
       "    </tr>\n",
       "    <tr>\n",
       "      <th>687</th>\n",
       "      <td>outlook not working</td>\n",
       "      <td>dceoufyz saufqkmd</td>\n",
       "      <td>GRP_0</td>\n",
       "      <td>_x000D_\\n_x000D_\\nreceived from: dceoufyz.sauf...</td>\n",
       "      <td>_x000D__x000D_received from dceoufyzsaufqkmdgm...</td>\n",
       "      <td>10</td>\n",
       "      <td>_x000D__x000D_received from dceoufyzsaufqkmdgm...</td>\n",
       "    </tr>\n",
       "    <tr>\n",
       "      <th>2980</th>\n",
       "      <td>hp2çƒ­åŽ‹ç‚‰æ•°æ®ä¼ è¾“å¡ï¼Œæ•°æ®æ›´æ–°ä¸å...</td>\n",
       "      <td>basqoyjx frvwhbse</td>\n",
       "      <td>GRP_30</td>\n",
       "      <td>hp2çƒ­åŽ‹ç‚‰æ•°æ®ä¼ è¾“å¡ï¼Œæ•°æ®æ›´æ–°ä¸å...</td>\n",
       "      <td>hp2çƒåŽçææä¼è¾åï¼Œææææäåºæï¼Œèåæˆè½çåèº</td>\n",
       "      <td>1</td>\n",
       "      <td>hp2çƒåŽçææä¼è¾åï¼Œææææäåºæï¼Œèåæˆè½çåèº</td>\n",
       "    </tr>\n",
       "  </tbody>\n",
       "</table>\n",
       "</div>"
      ],
      "text/plain": [
       "                                      Short description             Caller  \\\n",
       "5296        balance carry forward for ap and ar report   ihfkwzjd erbxoyqk   \n",
       "3147           msd: outlook not showing the crm add-in.  ohnimgtv nmqyuolh   \n",
       "3001                           atp for mm 4870517 issue  qgrbdnoc dgupnhxv   \n",
       "687                                outlook not working   dceoufyz saufqkmd   \n",
       "2980  hp2çƒ­åŽ‹ç‚‰æ•°æ®ä¼ è¾“å¡ï¼Œæ•°æ®æ›´æ–°ä¸å...  basqoyjx frvwhbse   \n",
       "\n",
       "     Assignment group                                     RawDescription  \\\n",
       "5296           GRP_10  _x000D_\\n_x000D_\\nreceived from: ihfkwzjd.erbx...   \n",
       "3147            GRP_0  msd: outlook not showing the crm add-in._x000D...   \n",
       "3001            GRP_6  _x000D_\\n_x000D_\\nreceived from: qgrbdnoc.dgup...   \n",
       "687             GRP_0  _x000D_\\n_x000D_\\nreceived from: dceoufyz.sauf...   \n",
       "2980           GRP_30  hp2çƒ­åŽ‹ç‚‰æ•°æ®ä¼ è¾“å¡ï¼Œæ•°æ®æ›´æ–°ä¸å...   \n",
       "\n",
       "                                    English_Description  RawWordCount  \\\n",
       "5296  _x000D__x000D_received from ihfkwzjderbxoyqkgm...            30   \n",
       "3147  msd outlook not showing the crm addin_x000D_co...            32   \n",
       "3001  _x000D__x000D_received from qgrbdnocdgupnhxvgm...            83   \n",
       "687   _x000D__x000D_received from dceoufyzsaufqkmdgm...            10   \n",
       "2980            hp2çƒåŽçææä¼è¾åï¼Œææææäåºæï¼Œèåæˆè½çåèº             1   \n",
       "\n",
       "                                             Expansions  \n",
       "5296  _x000D__x000D_received from ihfkwzjderbxoyqkgm...  \n",
       "3147  msd outlook not showing the crm addin_x000D_co...  \n",
       "3001  _x000D__x000D_received from qgrbdnocdgupnhxvgm...  \n",
       "687   _x000D__x000D_received from dceoufyzsaufqkmdgm...  \n",
       "2980            hp2çƒåŽçææä¼è¾åï¼Œææææäåºæï¼Œèåæˆè½çåèº  "
      ]
     },
     "execution_count": 318,
     "metadata": {},
     "output_type": "execute_result"
    }
   ],
   "source": [
    "df_translated_text['Expansions']=df_translated_text['English_Description'].apply(lambda x:Expansions(str(x)))\n",
    "#Printing the sample values\n",
    "df_translated_text.sample(5)"
   ]
  },
  {
   "cell_type": "code",
   "execution_count": 319,
   "metadata": {},
   "outputs": [
    {
     "data": {
      "text/html": [
       "<div>\n",
       "<style scoped>\n",
       "    .dataframe tbody tr th:only-of-type {\n",
       "        vertical-align: middle;\n",
       "    }\n",
       "\n",
       "    .dataframe tbody tr th {\n",
       "        vertical-align: top;\n",
       "    }\n",
       "\n",
       "    .dataframe thead th {\n",
       "        text-align: right;\n",
       "    }\n",
       "</style>\n",
       "<table border=\"1\" class=\"dataframe\">\n",
       "  <thead>\n",
       "    <tr style=\"text-align: right;\">\n",
       "      <th></th>\n",
       "      <th>Short description</th>\n",
       "      <th>Caller</th>\n",
       "      <th>Assignment group</th>\n",
       "      <th>RawDescription</th>\n",
       "      <th>English_Description</th>\n",
       "      <th>RawWordCount</th>\n",
       "      <th>Expansions</th>\n",
       "      <th>Description_Removed_StopWords</th>\n",
       "    </tr>\n",
       "  </thead>\n",
       "  <tbody>\n",
       "    <tr>\n",
       "      <th>8402</th>\n",
       "      <td>unable to unlock user accounts in password_man...</td>\n",
       "      <td>hbmwlprq ilfvyodx</td>\n",
       "      <td>GRP_2</td>\n",
       "      <td>password_management_tool problem - look at the...</td>\n",
       "      <td>password_management_tool problem  look at the ...</td>\n",
       "      <td>16</td>\n",
       "      <td>password_management_tool problem look at the u...</td>\n",
       "      <td>password_management_tool problem look unlock a...</td>\n",
       "    </tr>\n",
       "    <tr>\n",
       "      <th>470</th>\n",
       "      <td>access to s drive.</td>\n",
       "      <td>wnvlmsjr znbvlygd</td>\n",
       "      <td>GRP_12</td>\n",
       "      <td>_x000D_\\n_x000D_\\nreceived from: wnvlmsjr.znbv...</td>\n",
       "      <td>_x000D__x000D_received from wnvlmsjrznbvlygdgm...</td>\n",
       "      <td>11</td>\n",
       "      <td>_x000D__x000D_received from wnvlmsjrznbvlygdgm...</td>\n",
       "      <td>_x000D__x000D_received wnvlmsjrznbvlygdgmailco...</td>\n",
       "    </tr>\n",
       "    <tr>\n",
       "      <th>8023</th>\n",
       "      <td>a supplier told me that i have no warehouse_to...</td>\n",
       "      <td>koiapqbg teyldpkw</td>\n",
       "      <td>GRP_0</td>\n",
       "      <td>koiapqbg teyldpkw, matheywt kaufsfthyman , pho...</td>\n",
       "      <td>koiapqbg teyldpkw matheywt kaufsfthyman  phone...</td>\n",
       "      <td>8</td>\n",
       "      <td>koiapqbg teyldpkw matheywt kaufsfthyman phone ...</td>\n",
       "      <td>koiapqbg teyldpkw matheywt kaufsfthyman phone ...</td>\n",
       "    </tr>\n",
       "    <tr>\n",
       "      <th>3773</th>\n",
       "      <td>vip 2 // erp SID_21 account unlock for user vv...</td>\n",
       "      <td>esntuago kwxrdhuv</td>\n",
       "      <td>GRP_0</td>\n",
       "      <td>vip 2 // erp SID_21 account unlock for user vv...</td>\n",
       "      <td>vip 2  erp SID_21 account unlock for user vvsh...</td>\n",
       "      <td>39</td>\n",
       "      <td>vip 2 erp SID_21 account unlock for user vvshy...</td>\n",
       "      <td>vip 2 erp SID_21 account unlock user vvshyuwb1...</td>\n",
       "    </tr>\n",
       "    <tr>\n",
       "      <th>5530</th>\n",
       "      <td>when sending emails from w-corp-ebusiness.serv...</td>\n",
       "      <td>gtfdvnry nxsaqrfh</td>\n",
       "      <td>GRP_26</td>\n",
       "      <td>contact # : 803\\nsummary: when sending emails ...</td>\n",
       "      <td>contact   803summary when sending emails from ...</td>\n",
       "      <td>37</td>\n",
       "      <td>contact 803summary when sending emails from wc...</td>\n",
       "      <td>contact 803summary sending emails wcorpebusine...</td>\n",
       "    </tr>\n",
       "  </tbody>\n",
       "</table>\n",
       "</div>"
      ],
      "text/plain": [
       "                                      Short description             Caller  \\\n",
       "8402  unable to unlock user accounts in password_man...  hbmwlprq ilfvyodx   \n",
       "470                                  access to s drive.  wnvlmsjr znbvlygd   \n",
       "8023  a supplier told me that i have no warehouse_to...  koiapqbg teyldpkw   \n",
       "3773  vip 2 // erp SID_21 account unlock for user vv...  esntuago kwxrdhuv   \n",
       "5530  when sending emails from w-corp-ebusiness.serv...  gtfdvnry nxsaqrfh   \n",
       "\n",
       "     Assignment group                                     RawDescription  \\\n",
       "8402            GRP_2  password_management_tool problem - look at the...   \n",
       "470            GRP_12  _x000D_\\n_x000D_\\nreceived from: wnvlmsjr.znbv...   \n",
       "8023            GRP_0  koiapqbg teyldpkw, matheywt kaufsfthyman , pho...   \n",
       "3773            GRP_0  vip 2 // erp SID_21 account unlock for user vv...   \n",
       "5530           GRP_26  contact # : 803\\nsummary: when sending emails ...   \n",
       "\n",
       "                                    English_Description  RawWordCount  \\\n",
       "8402  password_management_tool problem  look at the ...            16   \n",
       "470   _x000D__x000D_received from wnvlmsjrznbvlygdgm...            11   \n",
       "8023  koiapqbg teyldpkw matheywt kaufsfthyman  phone...             8   \n",
       "3773  vip 2  erp SID_21 account unlock for user vvsh...            39   \n",
       "5530  contact   803summary when sending emails from ...            37   \n",
       "\n",
       "                                             Expansions  \\\n",
       "8402  password_management_tool problem look at the u...   \n",
       "470   _x000D__x000D_received from wnvlmsjrznbvlygdgm...   \n",
       "8023  koiapqbg teyldpkw matheywt kaufsfthyman phone ...   \n",
       "3773  vip 2 erp SID_21 account unlock for user vvshy...   \n",
       "5530  contact 803summary when sending emails from wc...   \n",
       "\n",
       "                          Description_Removed_StopWords  \n",
       "8402  password_management_tool problem look unlock a...  \n",
       "470   _x000D__x000D_received wnvlmsjrznbvlygdgmailco...  \n",
       "8023  koiapqbg teyldpkw matheywt kaufsfthyman phone ...  \n",
       "3773  vip 2 erp SID_21 account unlock user vvshyuwb1...  \n",
       "5530  contact 803summary sending emails wcorpebusine...  "
      ]
     },
     "execution_count": 319,
     "metadata": {},
     "output_type": "execute_result"
    }
   ],
   "source": [
    "  \n",
    "df_translated_text['Description_Removed_StopWords']=df_translated_text['Expansions'].apply(lambda t:' '.join([t for t in t.split() if t not in stop_words]))\n",
    "#Checking for sample rows\n",
    "df_translated_text.sample(5)\n"
   ]
  },
  {
   "cell_type": "code",
   "execution_count": 320,
   "metadata": {},
   "outputs": [
    {
     "data": {
      "text/html": [
       "<div>\n",
       "<style scoped>\n",
       "    .dataframe tbody tr th:only-of-type {\n",
       "        vertical-align: middle;\n",
       "    }\n",
       "\n",
       "    .dataframe tbody tr th {\n",
       "        vertical-align: top;\n",
       "    }\n",
       "\n",
       "    .dataframe thead th {\n",
       "        text-align: right;\n",
       "    }\n",
       "</style>\n",
       "<table border=\"1\" class=\"dataframe\">\n",
       "  <thead>\n",
       "    <tr style=\"text-align: right;\">\n",
       "      <th></th>\n",
       "      <th>Short description</th>\n",
       "      <th>Caller</th>\n",
       "      <th>Assignment group</th>\n",
       "      <th>RawDescription</th>\n",
       "      <th>English_Description</th>\n",
       "      <th>RawWordCount</th>\n",
       "      <th>Expansions</th>\n",
       "      <th>Description_Removed_StopWords</th>\n",
       "    </tr>\n",
       "  </thead>\n",
       "  <tbody>\n",
       "    <tr>\n",
       "      <th>7711</th>\n",
       "      <td>mandatory condition mwst is missing for order ...</td>\n",
       "      <td>qnstifeb hybrjfex</td>\n",
       "      <td>GRP_13</td>\n",
       "      <td>could you please check what is wrong with cust...</td>\n",
       "      <td>could you please check what is wrong with cust...</td>\n",
       "      <td>89</td>\n",
       "      <td>could you please check what is wrong with cust...</td>\n",
       "      <td>check wrong customer master 81039969 create de...</td>\n",
       "    </tr>\n",
       "    <tr>\n",
       "      <th>4141</th>\n",
       "      <td>password reset to login to collaboration_platf...</td>\n",
       "      <td>vgnpzxbc rbphwimj</td>\n",
       "      <td>GRP_0</td>\n",
       "      <td>password reset to login to collaboration_platf...</td>\n",
       "      <td>password reset to login to collaboration_platf...</td>\n",
       "      <td>9</td>\n",
       "      <td>password reset to login to collaboration_platf...</td>\n",
       "      <td>password reset login collaboration_platform ch...</td>\n",
       "    </tr>\n",
       "    <tr>\n",
       "      <th>2855</th>\n",
       "      <td>outlook funktioniert nicht</td>\n",
       "      <td>jnktafrs ytxiowbh</td>\n",
       "      <td>GRP_0</td>\n",
       "      <td>am rechner evhw8114148 funktioniert outlook ni...</td>\n",
       "      <td>am rechner evhw8114148 funktioniert outlook ni...</td>\n",
       "      <td>7</td>\n",
       "      <td>am rechner evhw8114148 funktioniert outlook ni...</td>\n",
       "      <td>rechner evhw8114148 funktioniert outlook nicht...</td>\n",
       "    </tr>\n",
       "    <tr>\n",
       "      <th>5539</th>\n",
       "      <td>outlook issue slow</td>\n",
       "      <td>avglmrts vhqmtiua</td>\n",
       "      <td>GRP_0</td>\n",
       "      <td>outlook running slow.</td>\n",
       "      <td>outlook running slow</td>\n",
       "      <td>3</td>\n",
       "      <td>outlook running slow</td>\n",
       "      <td>outlook running slow</td>\n",
       "    </tr>\n",
       "    <tr>\n",
       "      <th>2882</th>\n",
       "      <td>skype issues - calling desk and headset // ooo</td>\n",
       "      <td>ifblxjmc dyrgfwbm</td>\n",
       "      <td>GRP_0</td>\n",
       "      <td>my skype errors out when calling my desk phone...</td>\n",
       "      <td>my skype errors out when calling my desk phone...</td>\n",
       "      <td>46</td>\n",
       "      <td>my skype errors out when calling my desk phone...</td>\n",
       "      <td>skype errors calling desk phone calls numbers ...</td>\n",
       "    </tr>\n",
       "  </tbody>\n",
       "</table>\n",
       "</div>"
      ],
      "text/plain": [
       "                                      Short description             Caller  \\\n",
       "7711  mandatory condition mwst is missing for order ...  qnstifeb hybrjfex   \n",
       "4141  password reset to login to collaboration_platf...  vgnpzxbc rbphwimj   \n",
       "2855                         outlook funktioniert nicht  jnktafrs ytxiowbh   \n",
       "5539                                 outlook issue slow  avglmrts vhqmtiua   \n",
       "2882     skype issues - calling desk and headset // ooo  ifblxjmc dyrgfwbm   \n",
       "\n",
       "     Assignment group                                     RawDescription  \\\n",
       "7711           GRP_13  could you please check what is wrong with cust...   \n",
       "4141            GRP_0  password reset to login to collaboration_platf...   \n",
       "2855            GRP_0  am rechner evhw8114148 funktioniert outlook ni...   \n",
       "5539            GRP_0                              outlook running slow.   \n",
       "2882            GRP_0  my skype errors out when calling my desk phone...   \n",
       "\n",
       "                                    English_Description  RawWordCount  \\\n",
       "7711  could you please check what is wrong with cust...            89   \n",
       "4141  password reset to login to collaboration_platf...             9   \n",
       "2855  am rechner evhw8114148 funktioniert outlook ni...             7   \n",
       "5539                               outlook running slow             3   \n",
       "2882  my skype errors out when calling my desk phone...            46   \n",
       "\n",
       "                                             Expansions  \\\n",
       "7711  could you please check what is wrong with cust...   \n",
       "4141  password reset to login to collaboration_platf...   \n",
       "2855  am rechner evhw8114148 funktioniert outlook ni...   \n",
       "5539                               outlook running slow   \n",
       "2882  my skype errors out when calling my desk phone...   \n",
       "\n",
       "                          Description_Removed_StopWords  \n",
       "7711  check wrong customer master 81039969 create de...  \n",
       "4141  password reset login collaboration_platform ch...  \n",
       "2855  rechner evhw8114148 funktioniert outlook nicht...  \n",
       "5539                               outlook running slow  \n",
       "2882  skype errors calling desk phone calls numbers ...  "
      ]
     },
     "execution_count": 320,
     "metadata": {},
     "output_type": "execute_result"
    }
   ],
   "source": [
    "#Removing Multiple spaces\n",
    "df_translated_text['Expansions']=df_translated_text['Expansions'].apply(lambda x: ' '.join(x.split()))\n",
    "#Printing sample values\n",
    "df_translated_text.sample(5)"
   ]
  },
  {
   "cell_type": "code",
   "execution_count": 321,
   "metadata": {},
   "outputs": [],
   "source": [
    "def remove_accented_chars(x):\n",
    "  x=unicodedata.normalize('NFKD',x).encode('ascii','ignore').decode('utf-8','ignore')\n",
    "  return x"
   ]
  },
  {
   "cell_type": "code",
   "execution_count": 322,
   "metadata": {},
   "outputs": [
    {
     "data": {
      "text/html": [
       "<div>\n",
       "<style scoped>\n",
       "    .dataframe tbody tr th:only-of-type {\n",
       "        vertical-align: middle;\n",
       "    }\n",
       "\n",
       "    .dataframe tbody tr th {\n",
       "        vertical-align: top;\n",
       "    }\n",
       "\n",
       "    .dataframe thead th {\n",
       "        text-align: right;\n",
       "    }\n",
       "</style>\n",
       "<table border=\"1\" class=\"dataframe\">\n",
       "  <thead>\n",
       "    <tr style=\"text-align: right;\">\n",
       "      <th></th>\n",
       "      <th>Short description</th>\n",
       "      <th>Caller</th>\n",
       "      <th>Assignment group</th>\n",
       "      <th>RawDescription</th>\n",
       "      <th>English_Description</th>\n",
       "      <th>RawWordCount</th>\n",
       "      <th>Expansions</th>\n",
       "      <th>Description_Removed_StopWords</th>\n",
       "    </tr>\n",
       "  </thead>\n",
       "  <tbody>\n",
       "    <tr>\n",
       "      <th>1162</th>\n",
       "      <td>network outage: company-russia-ups-vpn-rtr.com...</td>\n",
       "      <td>utyeofsk rdyzpwhi</td>\n",
       "      <td>GRP_8</td>\n",
       "      <td>what type of outage:  ___x__network     _____c...</td>\n",
       "      <td>what type of outage  ___x__network     _____ci...</td>\n",
       "      <td>248</td>\n",
       "      <td>what type of outage ___x__network _____circuit...</td>\n",
       "      <td>type outage ___x__network _____circuit _____po...</td>\n",
       "    </tr>\n",
       "    <tr>\n",
       "      <th>3373</th>\n",
       "      <td>urgent help required- outlook to crm mfg_toolt...</td>\n",
       "      <td>jhxwiply midhcnze</td>\n",
       "      <td>GRP_40</td>\n",
       "      <td>\\n\\nreceived from: jhxwiply.midhcnze@gmail.com...</td>\n",
       "      <td>received from jhxwiplymidhcnzegmailcomnot sure...</td>\n",
       "      <td>97</td>\n",
       "      <td>received from jhxwiplymidhcnzegmailcomnot sure...</td>\n",
       "      <td>received jhxwiplymidhcnzegmailcomnot sure erro...</td>\n",
       "    </tr>\n",
       "    <tr>\n",
       "      <th>4355</th>\n",
       "      <td>erp system</td>\n",
       "      <td>iksqbuxf muzxgwvk</td>\n",
       "      <td>GRP_0</td>\n",
       "      <td>\\n\\nreceived from: iksqbuxf.muzxgwvk@gmail.com...</td>\n",
       "      <td>received from iksqbuxfmuzxgwvkgmailcommorningp...</td>\n",
       "      <td>30</td>\n",
       "      <td>received from iksqbuxfmuzxgwvkgmailcommorningp...</td>\n",
       "      <td>received iksqbuxfmuzxgwvkgmailcommorningplease...</td>\n",
       "    </tr>\n",
       "    <tr>\n",
       "      <th>7872</th>\n",
       "      <td>unable to login to skype</td>\n",
       "      <td>sbvlxuwm yanbikrx</td>\n",
       "      <td>GRP_0</td>\n",
       "      <td>unable to login to skype</td>\n",
       "      <td>unable to login to skype</td>\n",
       "      <td>5</td>\n",
       "      <td>unable to login to skype</td>\n",
       "      <td>unable login skype</td>\n",
       "    </tr>\n",
       "    <tr>\n",
       "      <th>7719</th>\n",
       "      <td>can you please help</td>\n",
       "      <td>smktofel etsoirbw</td>\n",
       "      <td>GRP_55</td>\n",
       "      <td>_x000D_\\n_x000D_\\nreceived from: smktofel.etso...</td>\n",
       "      <td>_x000D__x000D_received from smktofeletsoirbwgm...</td>\n",
       "      <td>31</td>\n",
       "      <td>_x000D__x000D_received from smktofeletsoirbwgm...</td>\n",
       "      <td>_x000D__x000D_received smktofeletsoirbwgmailco...</td>\n",
       "    </tr>\n",
       "    <tr>\n",
       "      <th>8244</th>\n",
       "      <td>now acces to the  internet  - webside allways ...</td>\n",
       "      <td>blktuiae jzakfmhw</td>\n",
       "      <td>GRP_0</td>\n",
       "      <td>_x000D_\\n_x000D_\\nreceived from: blktuiae.jzak...</td>\n",
       "      <td>_x000D__x000D_received from blktuiaejzakfmhwgm...</td>\n",
       "      <td>21</td>\n",
       "      <td>_x000D__x000D_received from blktuiaejzakfmhwgm...</td>\n",
       "      <td>_x000D__x000D_received blktuiaejzakfmhwgmailco...</td>\n",
       "    </tr>\n",
       "    <tr>\n",
       "      <th>5987</th>\n",
       "      <td>adding members to shared mailbox groups</td>\n",
       "      <td>qcehailo wqynckxg</td>\n",
       "      <td>GRP_0</td>\n",
       "      <td>adding members to the shared mailbox group</td>\n",
       "      <td>adding members to the shared mailbox group</td>\n",
       "      <td>7</td>\n",
       "      <td>adding members to the shared mailbox group</td>\n",
       "      <td>adding members shared mailbox group</td>\n",
       "    </tr>\n",
       "    <tr>\n",
       "      <th>2934</th>\n",
       "      <td>probleme mit portal \\acqpinyd ecygimqd</td>\n",
       "      <td>acqpinyd ecygimqd</td>\n",
       "      <td>GRP_24</td>\n",
       "      <td>probleme mit portal \\acqpinyd ecygimqd</td>\n",
       "      <td>probleme mit portal acqpinyd ecygimqd</td>\n",
       "      <td>5</td>\n",
       "      <td>probleme mit portal acqpinyd ecygimqd</td>\n",
       "      <td>probleme mit portal acqpinyd ecygimqd</td>\n",
       "    </tr>\n",
       "    <tr>\n",
       "      <th>6071</th>\n",
       "      <td>erp password locked</td>\n",
       "      <td>gnasmtvx cwxtsvkm</td>\n",
       "      <td>GRP_0</td>\n",
       "      <td>_x000D_\\n_x000D_\\nreceived from: gnasmtvx.cwxt...</td>\n",
       "      <td>_x000D__x000D_received from gnasmtvxcwxtsvkmgm...</td>\n",
       "      <td>10</td>\n",
       "      <td>_x000D__x000D_received from gnasmtvxcwxtsvkmgm...</td>\n",
       "      <td>_x000D__x000D_received gnasmtvxcwxtsvkmgmailco...</td>\n",
       "    </tr>\n",
       "    <tr>\n",
       "      <th>6639</th>\n",
       "      <td>erp SID_34 account locked.</td>\n",
       "      <td>emjalxih bcetgmhr</td>\n",
       "      <td>GRP_0</td>\n",
       "      <td>erp SID_34 account locked.</td>\n",
       "      <td>erp SID_34 account locked</td>\n",
       "      <td>4</td>\n",
       "      <td>erp SID_34 account locked</td>\n",
       "      <td>erp SID_34 account locked</td>\n",
       "    </tr>\n",
       "    <tr>\n",
       "      <th>3950</th>\n",
       "      <td>quotation printing incorrect voucher discount</td>\n",
       "      <td>pfzxecbo ptygkvzl</td>\n",
       "      <td>GRP_13</td>\n",
       "      <td>see attached example - 3116245007.  discount a...</td>\n",
       "      <td>see attached example  3116245007  discount app...</td>\n",
       "      <td>60</td>\n",
       "      <td>see attached example 3116245007 discount appli...</td>\n",
       "      <td>attached example 3116245007 discount applied 5...</td>\n",
       "    </tr>\n",
       "    <tr>\n",
       "      <th>1843</th>\n",
       "      <td>there a way to access hr_tool e-time from mobi...</td>\n",
       "      <td>bgflmyar xgufkidq</td>\n",
       "      <td>GRP_0</td>\n",
       "      <td>name:bgflmyar xgufkidq\\nlanguage:\\nbrowser:mic...</td>\n",
       "      <td>namebgflmyar xgufkidqlanguagebrowsermicrosoft ...</td>\n",
       "      <td>15</td>\n",
       "      <td>namebgflmyar xgufkidqlanguagebrowsermicrosoft ...</td>\n",
       "      <td>namebgflmyar xgufkidqlanguagebrowsermicrosoft ...</td>\n",
       "    </tr>\n",
       "    <tr>\n",
       "      <th>8495</th>\n",
       "      <td>emails not coming in from zz mail</td>\n",
       "      <td>avglmrts vhqmtiua</td>\n",
       "      <td>GRP_29</td>\n",
       "      <td>_x000D_\\n_x000D_\\nreceived from: avglmrts.vhqm...</td>\n",
       "      <td>_x000D__x000D_received from avglmrtsvhqmtiuagm...</td>\n",
       "      <td>16</td>\n",
       "      <td>_x000D__x000D_received from avglmrtsvhqmtiuagm...</td>\n",
       "      <td>_x000D__x000D_received avglmrtsvhqmtiuagmailco...</td>\n",
       "    </tr>\n",
       "    <tr>\n",
       "      <th>4464</th>\n",
       "      <td>please reactivate the id - tempuser in SID_34 ...</td>\n",
       "      <td>lckagtry xcrmzgli</td>\n",
       "      <td>GRP_2</td>\n",
       "      <td>pls reset the password for tempuser for erp SI...</td>\n",
       "      <td>pls reset the password for tempuser for erp SI...</td>\n",
       "      <td>10</td>\n",
       "      <td>pls reset the password for tempuser for erp SI...</td>\n",
       "      <td>pls reset password tempuser erp SID_34erp prodn</td>\n",
       "    </tr>\n",
       "    <tr>\n",
       "      <th>580</th>\n",
       "      <td>erp SID_34 account locked</td>\n",
       "      <td>lxgtvwyh jnkchfap</td>\n",
       "      <td>GRP_0</td>\n",
       "      <td>erp SID_34 account locked</td>\n",
       "      <td>erp SID_34 account locked</td>\n",
       "      <td>4</td>\n",
       "      <td>erp SID_34 account locked</td>\n",
       "      <td>erp SID_34 account locked</td>\n",
       "    </tr>\n",
       "  </tbody>\n",
       "</table>\n",
       "</div>"
      ],
      "text/plain": [
       "                                      Short description             Caller  \\\n",
       "1162  network outage: company-russia-ups-vpn-rtr.com...  utyeofsk rdyzpwhi   \n",
       "3373  urgent help required- outlook to crm mfg_toolt...  jhxwiply midhcnze   \n",
       "4355                                         erp system  iksqbuxf muzxgwvk   \n",
       "7872                           unable to login to skype  sbvlxuwm yanbikrx   \n",
       "7719                                can you please help  smktofel etsoirbw   \n",
       "8244  now acces to the  internet  - webside allways ...  blktuiae jzakfmhw   \n",
       "5987            adding members to shared mailbox groups  qcehailo wqynckxg   \n",
       "2934             probleme mit portal \\acqpinyd ecygimqd  acqpinyd ecygimqd   \n",
       "6071                                erp password locked  gnasmtvx cwxtsvkm   \n",
       "6639                         erp SID_34 account locked.  emjalxih bcetgmhr   \n",
       "3950      quotation printing incorrect voucher discount  pfzxecbo ptygkvzl   \n",
       "1843  there a way to access hr_tool e-time from mobi...  bgflmyar xgufkidq   \n",
       "8495                  emails not coming in from zz mail  avglmrts vhqmtiua   \n",
       "4464  please reactivate the id - tempuser in SID_34 ...  lckagtry xcrmzgli   \n",
       "580                           erp SID_34 account locked  lxgtvwyh jnkchfap   \n",
       "\n",
       "     Assignment group                                     RawDescription  \\\n",
       "1162            GRP_8  what type of outage:  ___x__network     _____c...   \n",
       "3373           GRP_40  \\n\\nreceived from: jhxwiply.midhcnze@gmail.com...   \n",
       "4355            GRP_0  \\n\\nreceived from: iksqbuxf.muzxgwvk@gmail.com...   \n",
       "7872            GRP_0                           unable to login to skype   \n",
       "7719           GRP_55  _x000D_\\n_x000D_\\nreceived from: smktofel.etso...   \n",
       "8244            GRP_0  _x000D_\\n_x000D_\\nreceived from: blktuiae.jzak...   \n",
       "5987            GRP_0         adding members to the shared mailbox group   \n",
       "2934           GRP_24             probleme mit portal \\acqpinyd ecygimqd   \n",
       "6071            GRP_0  _x000D_\\n_x000D_\\nreceived from: gnasmtvx.cwxt...   \n",
       "6639            GRP_0                         erp SID_34 account locked.   \n",
       "3950           GRP_13  see attached example - 3116245007.  discount a...   \n",
       "1843            GRP_0  name:bgflmyar xgufkidq\\nlanguage:\\nbrowser:mic...   \n",
       "8495           GRP_29  _x000D_\\n_x000D_\\nreceived from: avglmrts.vhqm...   \n",
       "4464            GRP_2  pls reset the password for tempuser for erp SI...   \n",
       "580             GRP_0                          erp SID_34 account locked   \n",
       "\n",
       "                                    English_Description  RawWordCount  \\\n",
       "1162  what type of outage  ___x__network     _____ci...           248   \n",
       "3373  received from jhxwiplymidhcnzegmailcomnot sure...            97   \n",
       "4355  received from iksqbuxfmuzxgwvkgmailcommorningp...            30   \n",
       "7872                           unable to login to skype             5   \n",
       "7719  _x000D__x000D_received from smktofeletsoirbwgm...            31   \n",
       "8244  _x000D__x000D_received from blktuiaejzakfmhwgm...            21   \n",
       "5987         adding members to the shared mailbox group             7   \n",
       "2934              probleme mit portal acqpinyd ecygimqd             5   \n",
       "6071  _x000D__x000D_received from gnasmtvxcwxtsvkmgm...            10   \n",
       "6639                          erp SID_34 account locked             4   \n",
       "3950  see attached example  3116245007  discount app...            60   \n",
       "1843  namebgflmyar xgufkidqlanguagebrowsermicrosoft ...            15   \n",
       "8495  _x000D__x000D_received from avglmrtsvhqmtiuagm...            16   \n",
       "4464  pls reset the password for tempuser for erp SI...            10   \n",
       "580                           erp SID_34 account locked             4   \n",
       "\n",
       "                                             Expansions  \\\n",
       "1162  what type of outage ___x__network _____circuit...   \n",
       "3373  received from jhxwiplymidhcnzegmailcomnot sure...   \n",
       "4355  received from iksqbuxfmuzxgwvkgmailcommorningp...   \n",
       "7872                           unable to login to skype   \n",
       "7719  _x000D__x000D_received from smktofeletsoirbwgm...   \n",
       "8244  _x000D__x000D_received from blktuiaejzakfmhwgm...   \n",
       "5987         adding members to the shared mailbox group   \n",
       "2934              probleme mit portal acqpinyd ecygimqd   \n",
       "6071  _x000D__x000D_received from gnasmtvxcwxtsvkmgm...   \n",
       "6639                          erp SID_34 account locked   \n",
       "3950  see attached example 3116245007 discount appli...   \n",
       "1843  namebgflmyar xgufkidqlanguagebrowsermicrosoft ...   \n",
       "8495  _x000D__x000D_received from avglmrtsvhqmtiuagm...   \n",
       "4464  pls reset the password for tempuser for erp SI...   \n",
       "580                           erp SID_34 account locked   \n",
       "\n",
       "                          Description_Removed_StopWords  \n",
       "1162  type outage ___x__network _____circuit _____po...  \n",
       "3373  received jhxwiplymidhcnzegmailcomnot sure erro...  \n",
       "4355  received iksqbuxfmuzxgwvkgmailcommorningplease...  \n",
       "7872                                 unable login skype  \n",
       "7719  _x000D__x000D_received smktofeletsoirbwgmailco...  \n",
       "8244  _x000D__x000D_received blktuiaejzakfmhwgmailco...  \n",
       "5987                adding members shared mailbox group  \n",
       "2934              probleme mit portal acqpinyd ecygimqd  \n",
       "6071  _x000D__x000D_received gnasmtvxcwxtsvkmgmailco...  \n",
       "6639                          erp SID_34 account locked  \n",
       "3950  attached example 3116245007 discount applied 5...  \n",
       "1843  namebgflmyar xgufkidqlanguagebrowsermicrosoft ...  \n",
       "8495  _x000D__x000D_received avglmrtsvhqmtiuagmailco...  \n",
       "4464    pls reset password tempuser erp SID_34erp prodn  \n",
       "580                           erp SID_34 account locked  "
      ]
     },
     "execution_count": 322,
     "metadata": {},
     "output_type": "execute_result"
    }
   ],
   "source": [
    "df_translated_text['Expansions']=df_translated_text['Expansions'].apply(lambda x:remove_accented_chars(x))\n",
    "#Printing sample values\n",
    "df_translated_text.sample(15)"
   ]
  },
  {
   "cell_type": "code",
   "execution_count": 323,
   "metadata": {},
   "outputs": [],
   "source": [
    "def clean_text(text):\n",
    "    '''Make text lowercase, remove text in square brackets,remove links,remove punctuation\n",
    "    and remove words containing numbers.'''\n",
    "    text=text.replace(('first name: ').lower(),'firstname')\n",
    "    text=text.replace(('last name: ').lower(),'lastname')\n",
    "    text=text.replace(('received from:').lower(),'')\n",
    "    text=text.replace('email:','')\n",
    "    text=text.replace('email address:','') \n",
    "    index1=text.find('from:')\n",
    "    index2=text.find('\\nsddubject:')\n",
    "    text=text.replace(text[index1:index2],'')\n",
    "    index3=text.find('[cid:image')\n",
    "    index4=text.find(']')\n",
    "    text=text.replace(text[index3:index4],'')\n",
    "    text=text.replace('subject:','')\n",
    "    text=text.replace('received from:','')\n",
    "    text=text.replace('this message was sent from an unmonitored email address', '')\n",
    "    text=text.replace('please do not reply to this message', '')\n",
    "    #text=text.replace('monitoring_tool@company.com','MonitoringTool')\n",
    "    text=text.replace('select the following link to view the disclaimer in an alternate language','')\n",
    "    text=text.replace('description problem', '') \n",
    "    text=text.replace('steps taken far', '')\n",
    "    text=text.replace('customer job title', '')\n",
    "    text=text.replace('sales engineer contact', '')\n",
    "    text=text.replace('description of problem:', '')\n",
    "    text=text.replace('steps taken so far', '')\n",
    "    text=text.replace('please do the needful', '')\n",
    "    text=text.replace('please note that ', '')\n",
    "    text=text.replace('please find below', '')\n",
    "    text=text.replace('date and time', '')\n",
    "    text=text.replace('kindly refer mail', '')\n",
    "    text=text.replace('name:', '')\n",
    "    text=text.replace('language:', '')\n",
    "    text=text.replace('customer number:', '')\n",
    "    text=text.replace('telephone:', '')\n",
    "    text=text.replace('summary:', '')\n",
    "    text=text.replace('sincerely', '')\n",
    "    text=text.replace('company inc', '')\n",
    "    text=text.replace('importance:', '')\n",
    "    text=text.replace('gmail.com', '')\n",
    "    text=text.replace('company.com', '')\n",
    "    text=text.replace('microsoftonline.com', '')\n",
    "    text=text.replace('company.onmicrosoft.com', '')\n",
    "    text=text.replace('hello', '')\n",
    "    text=text.replace('hallo', '')\n",
    "    text=text.replace('hi it team', '')\n",
    "    text=text.replace('hi team', '')\n",
    "    text=text.replace('hi', '')\n",
    "    text=text.replace('best', '')\n",
    "    text=text.replace('kind', '')\n",
    "    \n",
    "    text=text.replace('regards', '')\n",
    "    text=text.replace('good morning', '')\n",
    "    text=text.replace('please', '')\n",
    "    \n",
    "    return text"
   ]
  },
  {
   "cell_type": "code",
   "execution_count": 324,
   "metadata": {},
   "outputs": [],
   "source": [
    "df_translated_text['cleaned_description'] = df_translated_text['Description_Removed_StopWords'].apply(lambda x: clean_text(x))"
   ]
  },
  {
   "cell_type": "code",
   "execution_count": 325,
   "metadata": {},
   "outputs": [
    {
     "name": "stderr",
     "output_type": "stream",
     "text": [
      "C:\\Users\\DELL\\AppData\\Local\\Temp\\ipykernel_7240\\207922563.py:2: FutureWarning: The default value of regex will change from True to False in a future version.\n",
      "  return data.str.lower().str.replace(regex.lower(), ' ')\n"
     ]
    }
   ],
   "source": [
    "#Remove text with Regex\n",
    "\n",
    "df_translated_text['cleaned_description_bk'] = df_translated_text['cleaned_description']\n",
    "# Select columns for cleaning\n",
    "columnsToClean = ['cleaned_description']\n",
    "\n",
    "# Create list of regex to remove sensitive data\n",
    "# Clean dataset and remove sensitive data\n",
    "df_translated_text = cleanDataset(df_translated_text, columnsToClean, getRegexList())"
   ]
  },
  {
   "cell_type": "code",
   "execution_count": 326,
   "metadata": {},
   "outputs": [],
   "source": [
    "#clean_tickets_df"
   ]
  },
  {
   "cell_type": "code",
   "execution_count": 327,
   "metadata": {},
   "outputs": [],
   "source": [
    "df_translated_text['number_of_words'] = df_translated_text['cleaned_description'].apply(lambda x: len(x.split()))"
   ]
  },
  {
   "cell_type": "code",
   "execution_count": 328,
   "metadata": {},
   "outputs": [
    {
     "data": {
      "text/html": [
       "<div>\n",
       "<style scoped>\n",
       "    .dataframe tbody tr th:only-of-type {\n",
       "        vertical-align: middle;\n",
       "    }\n",
       "\n",
       "    .dataframe tbody tr th {\n",
       "        vertical-align: top;\n",
       "    }\n",
       "\n",
       "    .dataframe thead th {\n",
       "        text-align: right;\n",
       "    }\n",
       "</style>\n",
       "<table border=\"1\" class=\"dataframe\">\n",
       "  <thead>\n",
       "    <tr style=\"text-align: right;\">\n",
       "      <th></th>\n",
       "      <th>Short description</th>\n",
       "      <th>Caller</th>\n",
       "      <th>Assignment group</th>\n",
       "      <th>RawDescription</th>\n",
       "      <th>English_Description</th>\n",
       "      <th>RawWordCount</th>\n",
       "      <th>Expansions</th>\n",
       "      <th>Description_Removed_StopWords</th>\n",
       "      <th>cleaned_description</th>\n",
       "      <th>cleaned_description_bk</th>\n",
       "      <th>number_of_words</th>\n",
       "    </tr>\n",
       "  </thead>\n",
       "  <tbody>\n",
       "    <tr>\n",
       "      <th>0</th>\n",
       "      <td>login issue</td>\n",
       "      <td>spxjnwir pjlcoqds</td>\n",
       "      <td>GRP_0</td>\n",
       "      <td>-verified user details.(employee# &amp; manager na...</td>\n",
       "      <td>verified user detailsemployee  manager name_x0...</td>\n",
       "      <td>29</td>\n",
       "      <td>verified user detailsemployee manager name_x00...</td>\n",
       "      <td>verified user detailsemployee manager name_x00...</td>\n",
       "      <td>verified user detailsemployee manager name d c...</td>\n",
       "      <td>verified user detailsemployee manager name_x00...</td>\n",
       "      <td>23</td>\n",
       "    </tr>\n",
       "    <tr>\n",
       "      <th>1</th>\n",
       "      <td>outlook</td>\n",
       "      <td>hmjdrvpb komuaywn</td>\n",
       "      <td>GRP_0</td>\n",
       "      <td>_x000D_\\n_x000D_\\nreceived from: hmjdrvpb.komu...</td>\n",
       "      <td>_x000D__x000D_received from hmjdrvpbkomuaywngm...</td>\n",
       "      <td>23</td>\n",
       "      <td>_x000D__x000D_received from hmjdrvpbkomuaywngm...</td>\n",
       "      <td>_x000D__x000D_received hmjdrvpbkomuaywngmailco...</td>\n",
       "      <td>d d  hmjdrvpbkomuaywngmailcom d d team d d me...</td>\n",
       "      <td>_x000D__x000D_received hmjdrvpbkomuaywngmailco...</td>\n",
       "      <td>19</td>\n",
       "    </tr>\n",
       "    <tr>\n",
       "      <th>2</th>\n",
       "      <td>cant log in to vpn</td>\n",
       "      <td>eylqgodm ybqkwiam</td>\n",
       "      <td>GRP_0</td>\n",
       "      <td>_x000D_\\n_x000D_\\nreceived from: eylqgodm.ybqk...</td>\n",
       "      <td>_x000D__x000D_received from eylqgodmybqkwiamgm...</td>\n",
       "      <td>9</td>\n",
       "      <td>_x000D__x000D_received from eylqgodmybqkwiamgm...</td>\n",
       "      <td>_x000D__x000D_received eylqgodmybqkwiamgmailco...</td>\n",
       "      <td>d d  eylqgodmybqkwiamgmailcom d d d d log vpn...</td>\n",
       "      <td>_x000D__x000D_received eylqgodmybqkwiamgmailco...</td>\n",
       "      <td>11</td>\n",
       "    </tr>\n",
       "    <tr>\n",
       "      <th>3</th>\n",
       "      <td>unable to access hr_tool page</td>\n",
       "      <td>xbkucsvz gcpydteq</td>\n",
       "      <td>GRP_0</td>\n",
       "      <td>unable to access hr_tool page</td>\n",
       "      <td>unable to access hr_tool page</td>\n",
       "      <td>5</td>\n",
       "      <td>unable to access hr_tool page</td>\n",
       "      <td>unable access hr_tool page</td>\n",
       "      <td>unable access tool page</td>\n",
       "      <td>unable access hr_tool page</td>\n",
       "      <td>4</td>\n",
       "    </tr>\n",
       "    <tr>\n",
       "      <th>4</th>\n",
       "      <td>skype error</td>\n",
       "      <td>owlgqjme qhcozdfx</td>\n",
       "      <td>GRP_0</td>\n",
       "      <td>skype error</td>\n",
       "      <td>skype error</td>\n",
       "      <td>3</td>\n",
       "      <td>skype error</td>\n",
       "      <td>skype error</td>\n",
       "      <td>skype error</td>\n",
       "      <td>skype error</td>\n",
       "      <td>2</td>\n",
       "    </tr>\n",
       "  </tbody>\n",
       "</table>\n",
       "</div>"
      ],
      "text/plain": [
       "               Short description             Caller Assignment group  \\\n",
       "0                    login issue  spxjnwir pjlcoqds            GRP_0   \n",
       "1                        outlook  hmjdrvpb komuaywn            GRP_0   \n",
       "2             cant log in to vpn  eylqgodm ybqkwiam            GRP_0   \n",
       "3  unable to access hr_tool page  xbkucsvz gcpydteq            GRP_0   \n",
       "4                   skype error   owlgqjme qhcozdfx            GRP_0   \n",
       "\n",
       "                                      RawDescription  \\\n",
       "0  -verified user details.(employee# & manager na...   \n",
       "1  _x000D_\\n_x000D_\\nreceived from: hmjdrvpb.komu...   \n",
       "2  _x000D_\\n_x000D_\\nreceived from: eylqgodm.ybqk...   \n",
       "3                      unable to access hr_tool page   \n",
       "4                                       skype error    \n",
       "\n",
       "                                 English_Description  RawWordCount  \\\n",
       "0  verified user detailsemployee  manager name_x0...            29   \n",
       "1  _x000D__x000D_received from hmjdrvpbkomuaywngm...            23   \n",
       "2  _x000D__x000D_received from eylqgodmybqkwiamgm...             9   \n",
       "3                      unable to access hr_tool page             5   \n",
       "4                                       skype error              3   \n",
       "\n",
       "                                          Expansions  \\\n",
       "0  verified user detailsemployee manager name_x00...   \n",
       "1  _x000D__x000D_received from hmjdrvpbkomuaywngm...   \n",
       "2  _x000D__x000D_received from eylqgodmybqkwiamgm...   \n",
       "3                      unable to access hr_tool page   \n",
       "4                                        skype error   \n",
       "\n",
       "                       Description_Removed_StopWords  \\\n",
       "0  verified user detailsemployee manager name_x00...   \n",
       "1  _x000D__x000D_received hmjdrvpbkomuaywngmailco...   \n",
       "2  _x000D__x000D_received eylqgodmybqkwiamgmailco...   \n",
       "3                         unable access hr_tool page   \n",
       "4                                        skype error   \n",
       "\n",
       "                                 cleaned_description  \\\n",
       "0  verified user detailsemployee manager name d c...   \n",
       "1   d d  hmjdrvpbkomuaywngmailcom d d team d d me...   \n",
       "2   d d  eylqgodmybqkwiamgmailcom d d d d log vpn...   \n",
       "3                            unable access tool page   \n",
       "4                                        skype error   \n",
       "\n",
       "                              cleaned_description_bk  number_of_words  \n",
       "0  verified user detailsemployee manager name_x00...               23  \n",
       "1  _x000D__x000D_received hmjdrvpbkomuaywngmailco...               19  \n",
       "2  _x000D__x000D_received eylqgodmybqkwiamgmailco...               11  \n",
       "3                         unable access hr_tool page                4  \n",
       "4                                        skype error                2  "
      ]
     },
     "execution_count": 328,
     "metadata": {},
     "output_type": "execute_result"
    }
   ],
   "source": [
    "df_translated_text.head()"
   ]
  },
  {
   "cell_type": "code",
   "execution_count": 329,
   "metadata": {},
   "outputs": [],
   "source": [
    "#df_text = df_translated_text.drop(['Short description','Caller','English_Description','Expansions','Description_Removed_StopWords'], axis=1)\n",
    "\n",
    "df_text = df_translated_text.drop(['Expansions','Description_Removed_StopWords','cleaned_description_bk'], axis=1)"
   ]
  },
  {
   "cell_type": "code",
   "execution_count": 330,
   "metadata": {},
   "outputs": [
    {
     "name": "stdout",
     "output_type": "stream",
     "text": [
      "Maximum no of words 456\n",
      "Minimum no of words 0\n"
     ]
    }
   ],
   "source": [
    "#Checking maximum words and mimimum words\n",
    "print(\"Maximum no of words\",df_text['number_of_words'].max())\n",
    "print(\"Minimum no of words\",df_text['number_of_words'].min())"
   ]
  },
  {
   "cell_type": "code",
   "execution_count": 331,
   "metadata": {},
   "outputs": [
    {
     "data": {
      "text/plain": [
       "(7450, 11)"
      ]
     },
     "execution_count": 331,
     "metadata": {},
     "output_type": "execute_result"
    }
   ],
   "source": [
    "df_translated_text.shape"
   ]
  },
  {
   "cell_type": "code",
   "execution_count": 332,
   "metadata": {},
   "outputs": [],
   "source": [
    "df_text=df_text[df_text['number_of_words']>0]\n"
   ]
  },
  {
   "cell_type": "code",
   "execution_count": 333,
   "metadata": {},
   "outputs": [
    {
     "data": {
      "text/plain": [
       "(7354, 8)"
      ]
     },
     "execution_count": 333,
     "metadata": {},
     "output_type": "execute_result"
    }
   ],
   "source": [
    "df_text.shape"
   ]
  },
  {
   "cell_type": "code",
   "execution_count": 334,
   "metadata": {},
   "outputs": [],
   "source": [
    "group_Counts=pd.DataFrame(df['Assignment group'].value_counts())\n",
    "group_Counts=group_Counts.rename_axis('unique_values').reset_index()"
   ]
  },
  {
   "cell_type": "code",
   "execution_count": 335,
   "metadata": {},
   "outputs": [
    {
     "data": {
      "text/html": [
       "<div>\n",
       "<style scoped>\n",
       "    .dataframe tbody tr th:only-of-type {\n",
       "        vertical-align: middle;\n",
       "    }\n",
       "\n",
       "    .dataframe tbody tr th {\n",
       "        vertical-align: top;\n",
       "    }\n",
       "\n",
       "    .dataframe thead th {\n",
       "        text-align: right;\n",
       "    }\n",
       "</style>\n",
       "<table border=\"1\" class=\"dataframe\">\n",
       "  <thead>\n",
       "    <tr style=\"text-align: right;\">\n",
       "      <th></th>\n",
       "      <th>unique_values</th>\n",
       "      <th>Assignment group</th>\n",
       "    </tr>\n",
       "  </thead>\n",
       "  <tbody>\n",
       "    <tr>\n",
       "      <th>0</th>\n",
       "      <td>GRP_0</td>\n",
       "      <td>3963</td>\n",
       "    </tr>\n",
       "    <tr>\n",
       "      <th>1</th>\n",
       "      <td>GRP_24</td>\n",
       "      <td>289</td>\n",
       "    </tr>\n",
       "    <tr>\n",
       "      <th>2</th>\n",
       "      <td>GRP_8</td>\n",
       "      <td>244</td>\n",
       "    </tr>\n",
       "    <tr>\n",
       "      <th>3</th>\n",
       "      <td>GRP_12</td>\n",
       "      <td>242</td>\n",
       "    </tr>\n",
       "    <tr>\n",
       "      <th>4</th>\n",
       "      <td>GRP_2</td>\n",
       "      <td>213</td>\n",
       "    </tr>\n",
       "    <tr>\n",
       "      <th>...</th>\n",
       "      <td>...</td>\n",
       "      <td>...</td>\n",
       "    </tr>\n",
       "    <tr>\n",
       "      <th>68</th>\n",
       "      <td>GRP_67</td>\n",
       "      <td>1</td>\n",
       "    </tr>\n",
       "    <tr>\n",
       "      <th>69</th>\n",
       "      <td>GRP_35</td>\n",
       "      <td>1</td>\n",
       "    </tr>\n",
       "    <tr>\n",
       "      <th>70</th>\n",
       "      <td>GRP_61</td>\n",
       "      <td>1</td>\n",
       "    </tr>\n",
       "    <tr>\n",
       "      <th>71</th>\n",
       "      <td>GRP_57</td>\n",
       "      <td>1</td>\n",
       "    </tr>\n",
       "    <tr>\n",
       "      <th>72</th>\n",
       "      <td>GRP_73</td>\n",
       "      <td>1</td>\n",
       "    </tr>\n",
       "  </tbody>\n",
       "</table>\n",
       "<p>73 rows × 2 columns</p>\n",
       "</div>"
      ],
      "text/plain": [
       "   unique_values  Assignment group\n",
       "0          GRP_0              3963\n",
       "1         GRP_24               289\n",
       "2          GRP_8               244\n",
       "3         GRP_12               242\n",
       "4          GRP_2               213\n",
       "..           ...               ...\n",
       "68        GRP_67                 1\n",
       "69        GRP_35                 1\n",
       "70        GRP_61                 1\n",
       "71        GRP_57                 1\n",
       "72        GRP_73                 1\n",
       "\n",
       "[73 rows x 2 columns]"
      ]
     },
     "execution_count": 335,
     "metadata": {},
     "output_type": "execute_result"
    }
   ],
   "source": [
    "group_Counts"
   ]
  },
  {
   "cell_type": "code",
   "execution_count": 336,
   "metadata": {},
   "outputs": [],
   "source": [
    "list_1=list(group_Counts[group_Counts['Assignment group']<=75].unique_values)"
   ]
  },
  {
   "cell_type": "code",
   "execution_count": 337,
   "metadata": {},
   "outputs": [],
   "source": [
    "group_Counts=pd.DataFrame(df['Assignment group'].value_counts(normalize=True),)\n",
    "group_Counts=group_Counts.rename_axis('unique_values').reset_index()\n",
    "group_Counts=group_Counts.rename(columns = {'unique_values':'Asignment_group','Assignment group':'Perecentage'}, inplace=False)"
   ]
  },
  {
   "cell_type": "code",
   "execution_count": 338,
   "metadata": {},
   "outputs": [],
   "source": [
    "df_text=df_text.replace(list_1,'Others')"
   ]
  },
  {
   "cell_type": "code",
   "execution_count": 339,
   "metadata": {},
   "outputs": [
    {
     "data": {
      "text/plain": [
       "17"
      ]
     },
     "execution_count": 339,
     "metadata": {},
     "output_type": "execute_result"
    }
   ],
   "source": [
    "len(df_text['Assignment group'].value_counts().unique())"
   ]
  },
  {
   "cell_type": "markdown",
   "metadata": {},
   "source": [
    "# regex pattern "
   ]
  },
  {
   "cell_type": "markdown",
   "metadata": {},
   "source": [
    "- Its a Regular Expresession is squential of charcters that specify text search pattern on text. \n",
    "- It uses operation on strings of input validation\n",
    "- Regex helps faster validation\n",
    "- It allows to create patterns which helps for text manipulation\n",
    "- Here we are using regex to identify email/URL/filepath/Domain patters which helps to keep the right data for Model feed"
   ]
  },
  {
   "cell_type": "code",
   "execution_count": 340,
   "metadata": {},
   "outputs": [],
   "source": [
    "email_pattern = r'\\S*@\\S*\\s?'\n",
    "url_pattern = r'http\\S+'\n",
    "IPaddress_pattern = r'[0-9]+(?:\\.[0-9]+){3}'\n",
    "tab_nl_pattern = r'\\s+'\n",
    "alpha_pattern = r'[a-zA-Z0-9]*_[a-zA-Z0-9]*'\n",
    "filepath_pattern = r'/[a-zA-Z0-9/]*'\n",
    "domain_pattern = r'[a-zA-Z0-9]*.[a-zA-Z0-9.]*'\n",
    "wordsnum_pattern = r'\\w*\\d\\w*'"
   ]
  },
  {
   "cell_type": "code",
   "execution_count": null,
   "metadata": {},
   "outputs": [],
   "source": []
  },
  {
   "cell_type": "code",
   "execution_count": 341,
   "metadata": {},
   "outputs": [],
   "source": [
    "df_bk = df_text"
   ]
  },
  {
   "cell_type": "code",
   "execution_count": 342,
   "metadata": {},
   "outputs": [
    {
     "data": {
      "text/plain": [
       "(7354, 8)"
      ]
     },
     "execution_count": 342,
     "metadata": {},
     "output_type": "execute_result"
    }
   ],
   "source": [
    "df_text.shape"
   ]
  },
  {
   "cell_type": "code",
   "execution_count": null,
   "metadata": {},
   "outputs": [],
   "source": []
  },
  {
   "cell_type": "code",
   "execution_count": 343,
   "metadata": {},
   "outputs": [
    {
     "data": {
      "text/html": [
       "<div>\n",
       "<style scoped>\n",
       "    .dataframe tbody tr th:only-of-type {\n",
       "        vertical-align: middle;\n",
       "    }\n",
       "\n",
       "    .dataframe tbody tr th {\n",
       "        vertical-align: top;\n",
       "    }\n",
       "\n",
       "    .dataframe thead th {\n",
       "        text-align: right;\n",
       "    }\n",
       "</style>\n",
       "<table border=\"1\" class=\"dataframe\">\n",
       "  <thead>\n",
       "    <tr style=\"text-align: right;\">\n",
       "      <th></th>\n",
       "      <th>Short description</th>\n",
       "      <th>Caller</th>\n",
       "      <th>Assignment group</th>\n",
       "      <th>RawDescription</th>\n",
       "      <th>English_Description</th>\n",
       "      <th>RawWordCount</th>\n",
       "      <th>cleaned_description</th>\n",
       "      <th>number_of_words</th>\n",
       "    </tr>\n",
       "  </thead>\n",
       "  <tbody>\n",
       "    <tr>\n",
       "      <th>0</th>\n",
       "      <td>login issue</td>\n",
       "      <td>spxjnwir pjlcoqds</td>\n",
       "      <td>GRP_0</td>\n",
       "      <td>-verified user details.(employee# &amp; manager na...</td>\n",
       "      <td>verified user detailsemployee  manager name_x0...</td>\n",
       "      <td>29</td>\n",
       "      <td>verified user detailsemployee manager name d c...</td>\n",
       "      <td>23</td>\n",
       "    </tr>\n",
       "    <tr>\n",
       "      <th>1</th>\n",
       "      <td>outlook</td>\n",
       "      <td>hmjdrvpb komuaywn</td>\n",
       "      <td>GRP_0</td>\n",
       "      <td>_x000D_\\n_x000D_\\nreceived from: hmjdrvpb.komu...</td>\n",
       "      <td>_x000D__x000D_received from hmjdrvpbkomuaywngm...</td>\n",
       "      <td>23</td>\n",
       "      <td>d d  hmjdrvpbkomuaywngmailcom d d team d d me...</td>\n",
       "      <td>19</td>\n",
       "    </tr>\n",
       "    <tr>\n",
       "      <th>2</th>\n",
       "      <td>cant log in to vpn</td>\n",
       "      <td>eylqgodm ybqkwiam</td>\n",
       "      <td>GRP_0</td>\n",
       "      <td>_x000D_\\n_x000D_\\nreceived from: eylqgodm.ybqk...</td>\n",
       "      <td>_x000D__x000D_received from eylqgodmybqkwiamgm...</td>\n",
       "      <td>9</td>\n",
       "      <td>d d  eylqgodmybqkwiamgmailcom d d d d log vpn...</td>\n",
       "      <td>11</td>\n",
       "    </tr>\n",
       "    <tr>\n",
       "      <th>3</th>\n",
       "      <td>unable to access hr_tool page</td>\n",
       "      <td>xbkucsvz gcpydteq</td>\n",
       "      <td>GRP_0</td>\n",
       "      <td>unable to access hr_tool page</td>\n",
       "      <td>unable to access hr_tool page</td>\n",
       "      <td>5</td>\n",
       "      <td>unable access tool page</td>\n",
       "      <td>4</td>\n",
       "    </tr>\n",
       "    <tr>\n",
       "      <th>4</th>\n",
       "      <td>skype error</td>\n",
       "      <td>owlgqjme qhcozdfx</td>\n",
       "      <td>GRP_0</td>\n",
       "      <td>skype error</td>\n",
       "      <td>skype error</td>\n",
       "      <td>3</td>\n",
       "      <td>skype error</td>\n",
       "      <td>2</td>\n",
       "    </tr>\n",
       "    <tr>\n",
       "      <th>...</th>\n",
       "      <td>...</td>\n",
       "      <td>...</td>\n",
       "      <td>...</td>\n",
       "      <td>...</td>\n",
       "      <td>...</td>\n",
       "      <td>...</td>\n",
       "      <td>...</td>\n",
       "      <td>...</td>\n",
       "    </tr>\n",
       "    <tr>\n",
       "      <th>8495</th>\n",
       "      <td>emails not coming in from zz mail</td>\n",
       "      <td>avglmrts vhqmtiua</td>\n",
       "      <td>GRP_29</td>\n",
       "      <td>_x000D_\\n_x000D_\\nreceived from: avglmrts.vhqm...</td>\n",
       "      <td>_x000D__x000D_received from avglmrtsvhqmtiuagm...</td>\n",
       "      <td>16</td>\n",
       "      <td>d d  avglmrtsvhqmtiuagmailcom d d good aftern...</td>\n",
       "      <td>16</td>\n",
       "    </tr>\n",
       "    <tr>\n",
       "      <th>8496</th>\n",
       "      <td>telephony_software issue</td>\n",
       "      <td>rbozivdq gmlhrtvp</td>\n",
       "      <td>GRP_0</td>\n",
       "      <td>telephony_software issue</td>\n",
       "      <td>telephony_software issue</td>\n",
       "      <td>2</td>\n",
       "      <td>telephony software issue</td>\n",
       "      <td>3</td>\n",
       "    </tr>\n",
       "    <tr>\n",
       "      <th>8497</th>\n",
       "      <td>vip2: windows password reset for tifpdchb pedx...</td>\n",
       "      <td>oybwdsgx oxyhwrfz</td>\n",
       "      <td>GRP_0</td>\n",
       "      <td>vip2: windows password reset for tifpdchb pedx...</td>\n",
       "      <td>vip2 windows password reset for tifpdchb pedxruyf</td>\n",
       "      <td>7</td>\n",
       "      <td>vip windows password reset tifpdchb pedxruyf</td>\n",
       "      <td>6</td>\n",
       "    </tr>\n",
       "    <tr>\n",
       "      <th>8498</th>\n",
       "      <td>machine nÃ£o estÃ¡ funcionando</td>\n",
       "      <td>ufawcgob aowhxjky</td>\n",
       "      <td>Others</td>\n",
       "      <td>i am unable to access the machine utilities to...</td>\n",
       "      <td>i am unable to access the machine utilities to...</td>\n",
       "      <td>16</td>\n",
       "      <td>unable access macne utilities finish drawers a...</td>\n",
       "      <td>10</td>\n",
       "    </tr>\n",
       "    <tr>\n",
       "      <th>8499</th>\n",
       "      <td>an mehreren pc`s lassen sich verschiedene prgr...</td>\n",
       "      <td>kqvbrspl jyzoklfx</td>\n",
       "      <td>Others</td>\n",
       "      <td>an mehreren pc`s lassen sich verschiedene prgr...</td>\n",
       "      <td>an mehreren pcs lassen sich verschiedene prgra...</td>\n",
       "      <td>11</td>\n",
       "      <td>mehreren pcs lassen sich verscedene prgramdnty...</td>\n",
       "      <td>10</td>\n",
       "    </tr>\n",
       "  </tbody>\n",
       "</table>\n",
       "<p>7354 rows × 8 columns</p>\n",
       "</div>"
      ],
      "text/plain": [
       "                                      Short description             Caller  \\\n",
       "0                                           login issue  spxjnwir pjlcoqds   \n",
       "1                                               outlook  hmjdrvpb komuaywn   \n",
       "2                                    cant log in to vpn  eylqgodm ybqkwiam   \n",
       "3                         unable to access hr_tool page  xbkucsvz gcpydteq   \n",
       "4                                          skype error   owlgqjme qhcozdfx   \n",
       "...                                                 ...                ...   \n",
       "8495                  emails not coming in from zz mail  avglmrts vhqmtiua   \n",
       "8496                           telephony_software issue  rbozivdq gmlhrtvp   \n",
       "8497  vip2: windows password reset for tifpdchb pedx...  oybwdsgx oxyhwrfz   \n",
       "8498                     machine nÃ£o estÃ¡ funcionando  ufawcgob aowhxjky   \n",
       "8499  an mehreren pc`s lassen sich verschiedene prgr...  kqvbrspl jyzoklfx   \n",
       "\n",
       "     Assignment group                                     RawDescription  \\\n",
       "0               GRP_0  -verified user details.(employee# & manager na...   \n",
       "1               GRP_0  _x000D_\\n_x000D_\\nreceived from: hmjdrvpb.komu...   \n",
       "2               GRP_0  _x000D_\\n_x000D_\\nreceived from: eylqgodm.ybqk...   \n",
       "3               GRP_0                      unable to access hr_tool page   \n",
       "4               GRP_0                                       skype error    \n",
       "...               ...                                                ...   \n",
       "8495           GRP_29  _x000D_\\n_x000D_\\nreceived from: avglmrts.vhqm...   \n",
       "8496            GRP_0                           telephony_software issue   \n",
       "8497            GRP_0  vip2: windows password reset for tifpdchb pedx...   \n",
       "8498           Others  i am unable to access the machine utilities to...   \n",
       "8499           Others  an mehreren pc`s lassen sich verschiedene prgr...   \n",
       "\n",
       "                                    English_Description  RawWordCount  \\\n",
       "0     verified user detailsemployee  manager name_x0...            29   \n",
       "1     _x000D__x000D_received from hmjdrvpbkomuaywngm...            23   \n",
       "2     _x000D__x000D_received from eylqgodmybqkwiamgm...             9   \n",
       "3                         unable to access hr_tool page             5   \n",
       "4                                          skype error              3   \n",
       "...                                                 ...           ...   \n",
       "8495  _x000D__x000D_received from avglmrtsvhqmtiuagm...            16   \n",
       "8496                           telephony_software issue             2   \n",
       "8497  vip2 windows password reset for tifpdchb pedxruyf             7   \n",
       "8498  i am unable to access the machine utilities to...            16   \n",
       "8499  an mehreren pcs lassen sich verschiedene prgra...            11   \n",
       "\n",
       "                                    cleaned_description  number_of_words  \n",
       "0     verified user detailsemployee manager name d c...               23  \n",
       "1      d d  hmjdrvpbkomuaywngmailcom d d team d d me...               19  \n",
       "2      d d  eylqgodmybqkwiamgmailcom d d d d log vpn...               11  \n",
       "3                               unable access tool page                4  \n",
       "4                                           skype error                2  \n",
       "...                                                 ...              ...  \n",
       "8495   d d  avglmrtsvhqmtiuagmailcom d d good aftern...               16  \n",
       "8496                           telephony software issue                3  \n",
       "8497       vip windows password reset tifpdchb pedxruyf                6  \n",
       "8498  unable access macne utilities finish drawers a...               10  \n",
       "8499  mehreren pcs lassen sich verscedene prgramdnty...               10  \n",
       "\n",
       "[7354 rows x 8 columns]"
      ]
     },
     "execution_count": 343,
     "metadata": {},
     "output_type": "execute_result"
    }
   ],
   "source": [
    "df_text"
   ]
  },
  {
   "cell_type": "code",
   "execution_count": 344,
   "metadata": {},
   "outputs": [],
   "source": [
    "df_bk = df_bk.replace(to_replace = email_pattern, value='', regex=True)"
   ]
  },
  {
   "cell_type": "code",
   "execution_count": 345,
   "metadata": {},
   "outputs": [],
   "source": [
    "df_bk = df_bk.replace(to_replace = '::', value='', regex=True)"
   ]
  },
  {
   "cell_type": "code",
   "execution_count": 346,
   "metadata": {},
   "outputs": [],
   "source": [
    "df_bk = df_bk.replace(to_replace = \"'\", value=\"\")"
   ]
  },
  {
   "cell_type": "code",
   "execution_count": 347,
   "metadata": {},
   "outputs": [],
   "source": [
    "df_bk = df_bk.replace(to_replace = url_pattern, value='', regex=True)"
   ]
  },
  {
   "cell_type": "code",
   "execution_count": 348,
   "metadata": {},
   "outputs": [],
   "source": [
    "df_bk = df_bk.replace(to_replace = tab_nl_pattern, value=' ', regex=True)"
   ]
  },
  {
   "cell_type": "code",
   "execution_count": 349,
   "metadata": {},
   "outputs": [],
   "source": [
    "df_bk = df_bk.replace(to_replace = IPaddress_pattern, value='', regex=True)"
   ]
  },
  {
   "cell_type": "code",
   "execution_count": 350,
   "metadata": {},
   "outputs": [],
   "source": [
    "df_bk['cleaned_description'].replace(to_replace = alpha_pattern, value='', regex=True, inplace=True)\n",
    "#df_bk['Short description'].replace(to_replace = alpha_pattern, value='', regex=True, inplace=True)\n"
   ]
  },
  {
   "cell_type": "code",
   "execution_count": 351,
   "metadata": {},
   "outputs": [],
   "source": [
    "df_bk = df_bk.replace(to_replace = filepath_pattern, value=' ', regex=True)"
   ]
  },
  {
   "cell_type": "code",
   "execution_count": 352,
   "metadata": {},
   "outputs": [],
   "source": [
    "df_bk = df_bk.replace(to_replace = 'received from:', value='', regex=True)"
   ]
  },
  {
   "cell_type": "code",
   "execution_count": 353,
   "metadata": {},
   "outputs": [],
   "source": [
    "df_bk['cleaned_description'].replace(to_replace = wordsnum_pattern, value=' ', regex=True, inplace=True)\n",
    "#df_bk['Short description'].replace(to_replace = wordsnum_pattern, value='alpha', regex=True, inplace=True)"
   ]
  },
  {
   "cell_type": "code",
   "execution_count": 354,
   "metadata": {},
   "outputs": [],
   "source": [
    "#df_t = df_bk[(df_bk['cleaned_description'].str.contains('job_scheduler') == False)]\n",
    "#df_t = df_bk[(df_bk['cleaned_description'].str.contains('received from: monitoring_tool@company.com') == False)]"
   ]
  },
  {
   "cell_type": "code",
   "execution_count": 355,
   "metadata": {},
   "outputs": [
    {
     "name": "stdout",
     "output_type": "stream",
     "text": [
      "<class 'pandas.core.frame.DataFrame'>\n",
      "Int64Index: 7450 entries, 0 to 8499\n",
      "Data columns (total 8 columns):\n",
      " #   Column               Non-Null Count  Dtype \n",
      "---  ------               --------------  ----- \n",
      " 0   Short description    7442 non-null   object\n",
      " 1   Description          7450 non-null   object\n",
      " 2   Caller               7450 non-null   object\n",
      " 3   Assignment group     7450 non-null   object\n",
      " 4   language             7450 non-null   object\n",
      " 5   RawDescription       7450 non-null   object\n",
      " 6   English_Description  7450 non-null   object\n",
      " 7   RawWordCount         7450 non-null   int64 \n",
      "dtypes: int64(1), object(7)\n",
      "memory usage: 523.8+ KB\n"
     ]
    }
   ],
   "source": [
    "df.info()"
   ]
  },
  {
   "cell_type": "code",
   "execution_count": 356,
   "metadata": {},
   "outputs": [
    {
     "name": "stdout",
     "output_type": "stream",
     "text": [
      "<class 'pandas.core.frame.DataFrame'>\n",
      "Int64Index: 7354 entries, 0 to 8499\n",
      "Data columns (total 8 columns):\n",
      " #   Column               Non-Null Count  Dtype \n",
      "---  ------               --------------  ----- \n",
      " 0   Short description    7346 non-null   object\n",
      " 1   Caller               7354 non-null   object\n",
      " 2   Assignment group     7354 non-null   object\n",
      " 3   RawDescription       7354 non-null   object\n",
      " 4   English_Description  7354 non-null   object\n",
      " 5   RawWordCount         7354 non-null   int64 \n",
      " 6   cleaned_description  7354 non-null   object\n",
      " 7   number_of_words      7354 non-null   int64 \n",
      "dtypes: int64(2), object(6)\n",
      "memory usage: 517.1+ KB\n"
     ]
    }
   ],
   "source": [
    "df_bk.info()"
   ]
  },
  {
   "cell_type": "code",
   "execution_count": 357,
   "metadata": {},
   "outputs": [
    {
     "data": {
      "text/html": [
       "<div>\n",
       "<style scoped>\n",
       "    .dataframe tbody tr th:only-of-type {\n",
       "        vertical-align: middle;\n",
       "    }\n",
       "\n",
       "    .dataframe tbody tr th {\n",
       "        vertical-align: top;\n",
       "    }\n",
       "\n",
       "    .dataframe thead th {\n",
       "        text-align: right;\n",
       "    }\n",
       "</style>\n",
       "<table border=\"1\" class=\"dataframe\">\n",
       "  <thead>\n",
       "    <tr style=\"text-align: right;\">\n",
       "      <th></th>\n",
       "      <th></th>\n",
       "      <th>Caller</th>\n",
       "    </tr>\n",
       "    <tr>\n",
       "      <th>Assignment group</th>\n",
       "      <th>Caller</th>\n",
       "      <th></th>\n",
       "    </tr>\n",
       "  </thead>\n",
       "  <tbody>\n",
       "    <tr>\n",
       "      <th rowspan=\"5\" valign=\"top\">GRP_0</th>\n",
       "      <th>fumkcsji sarmtlhy</th>\n",
       "      <td>132</td>\n",
       "    </tr>\n",
       "    <tr>\n",
       "      <th>rbozivdq gmlhrtvp</th>\n",
       "      <td>86</td>\n",
       "    </tr>\n",
       "    <tr>\n",
       "      <th>olckhmvx pcqobjnd</th>\n",
       "      <td>54</td>\n",
       "    </tr>\n",
       "    <tr>\n",
       "      <th>efbwiadp dicafxhv</th>\n",
       "      <td>45</td>\n",
       "    </tr>\n",
       "    <tr>\n",
       "      <th>mfeyouli ndobtzpw</th>\n",
       "      <td>13</td>\n",
       "    </tr>\n",
       "    <tr>\n",
       "      <th rowspan=\"5\" valign=\"top\">GRP_1</th>\n",
       "      <th>jloygrwh acvztedi</th>\n",
       "      <td>4</td>\n",
       "    </tr>\n",
       "    <tr>\n",
       "      <th>spxqmiry zpwgoqju</th>\n",
       "      <td>3</td>\n",
       "    </tr>\n",
       "    <tr>\n",
       "      <th>jyoqwxhz clhxsoqy</th>\n",
       "      <td>2</td>\n",
       "    </tr>\n",
       "    <tr>\n",
       "      <th>kbnfxpsy gehxzayq</th>\n",
       "      <td>2</td>\n",
       "    </tr>\n",
       "    <tr>\n",
       "      <th>rkupnshb gsmzfojw</th>\n",
       "      <td>2</td>\n",
       "    </tr>\n",
       "    <tr>\n",
       "      <th rowspan=\"5\" valign=\"top\">GRP_10</th>\n",
       "      <th>ihfkwzjd erbxoyqk</th>\n",
       "      <td>6</td>\n",
       "    </tr>\n",
       "    <tr>\n",
       "      <th>dizquolf hlykecxa</th>\n",
       "      <td>5</td>\n",
       "    </tr>\n",
       "    <tr>\n",
       "      <th>gnasmtvx cwxtsvkm</th>\n",
       "      <td>3</td>\n",
       "    </tr>\n",
       "    <tr>\n",
       "      <th>hlrmufzx qcdzierm</th>\n",
       "      <td>3</td>\n",
       "    </tr>\n",
       "    <tr>\n",
       "      <th>ikerxqwz prkyuitl</th>\n",
       "      <td>3</td>\n",
       "    </tr>\n",
       "  </tbody>\n",
       "</table>\n",
       "</div>"
      ],
      "text/plain": [
       "                                    Caller\n",
       "Assignment group Caller                   \n",
       "GRP_0            fumkcsji sarmtlhy     132\n",
       "                 rbozivdq gmlhrtvp      86\n",
       "                 olckhmvx pcqobjnd      54\n",
       "                 efbwiadp dicafxhv      45\n",
       "                 mfeyouli ndobtzpw      13\n",
       "GRP_1            jloygrwh acvztedi       4\n",
       "                 spxqmiry zpwgoqju       3\n",
       "                 jyoqwxhz clhxsoqy       2\n",
       "                 kbnfxpsy gehxzayq       2\n",
       "                 rkupnshb gsmzfojw       2\n",
       "GRP_10           ihfkwzjd erbxoyqk       6\n",
       "                 dizquolf hlykecxa       5\n",
       "                 gnasmtvx cwxtsvkm       3\n",
       "                 hlrmufzx qcdzierm       3\n",
       "                 ikerxqwz prkyuitl       3"
      ]
     },
     "execution_count": 357,
     "metadata": {},
     "output_type": "execute_result"
    }
   ],
   "source": [
    "top_n = 5\n",
    "s = df['Caller'].groupby(df['Assignment group']).value_counts()\n",
    "caller_grp = pd.DataFrame(s.groupby(level=0).nlargest(top_n).reset_index(level=0, drop=True))\n",
    "caller_grp.head(15)"
   ]
  },
  {
   "cell_type": "code",
   "execution_count": 358,
   "metadata": {},
   "outputs": [],
   "source": [
    "#df_bk.to_csv('translated_ticketfins.csv', index=False, encoding='utf_8_sig')"
   ]
  },
  {
   "cell_type": "markdown",
   "metadata": {},
   "source": [
    "cleaned description senteces to words"
   ]
  },
  {
   "cell_type": "code",
   "execution_count": 359,
   "metadata": {},
   "outputs": [],
   "source": [
    "combined_text=df_bk.cleaned_description.values.tolist()"
   ]
  },
  {
   "cell_type": "code",
   "execution_count": 360,
   "metadata": {},
   "outputs": [
    {
     "data": {
      "text/plain": [
       "' d d hmjdrvpbkomuaywngmailcom d d team d d meetingsskype meetings etc appearing outlook calendar somebody advise correct d d '"
      ]
     },
     "execution_count": 360,
     "metadata": {},
     "output_type": "execute_result"
    }
   ],
   "source": [
    "combined_text[1]"
   ]
  },
  {
   "cell_type": "code",
   "execution_count": 361,
   "metadata": {},
   "outputs": [],
   "source": [
    "#pip install gensim"
   ]
  },
  {
   "cell_type": "code",
   "execution_count": null,
   "metadata": {},
   "outputs": [],
   "source": []
  },
  {
   "cell_type": "code",
   "execution_count": 362,
   "metadata": {},
   "outputs": [],
   "source": [
    "def sent_to_words(sentences):\n",
    "    for sentence in sentences:\n",
    "        yield(gensim.utils.simple_preprocess(str(sentence), deacc=True))  # deacc=True removes punctuations\n",
    "\n",
    "data_words = list(sent_to_words(combined_text))"
   ]
  },
  {
   "cell_type": "code",
   "execution_count": 363,
   "metadata": {},
   "outputs": [],
   "source": [
    "dat = pd.DataFrame({'col':data_words})"
   ]
  },
  {
   "cell_type": "code",
   "execution_count": 364,
   "metadata": {},
   "outputs": [
    {
     "data": {
      "text/html": [
       "<div>\n",
       "<style scoped>\n",
       "    .dataframe tbody tr th:only-of-type {\n",
       "        vertical-align: middle;\n",
       "    }\n",
       "\n",
       "    .dataframe tbody tr th {\n",
       "        vertical-align: top;\n",
       "    }\n",
       "\n",
       "    .dataframe thead th {\n",
       "        text-align: right;\n",
       "    }\n",
       "</style>\n",
       "<table border=\"1\" class=\"dataframe\">\n",
       "  <thead>\n",
       "    <tr style=\"text-align: right;\">\n",
       "      <th></th>\n",
       "      <th>col</th>\n",
       "    </tr>\n",
       "  </thead>\n",
       "  <tbody>\n",
       "    <tr>\n",
       "      <th>1841</th>\n",
       "      <td>[having, issues, opening, outlook, skype, busi...</td>\n",
       "    </tr>\n",
       "    <tr>\n",
       "      <th>692</th>\n",
       "      <td>[team, usa, read, write, access, following, fo...</td>\n",
       "    </tr>\n",
       "    <tr>\n",
       "      <th>6633</th>\n",
       "      <td>[engineering, tool, work]</td>\n",
       "    </tr>\n",
       "    <tr>\n",
       "      <th>1175</th>\n",
       "      <td>[jpg, kryuisti, turleythyusa, site, business]</td>\n",
       "    </tr>\n",
       "    <tr>\n",
       "      <th>1400</th>\n",
       "      <td>[unable, login, skype]</td>\n",
       "    </tr>\n",
       "  </tbody>\n",
       "</table>\n",
       "</div>"
      ],
      "text/plain": [
       "                                                    col\n",
       "1841  [having, issues, opening, outlook, skype, busi...\n",
       "692   [team, usa, read, write, access, following, fo...\n",
       "6633                          [engineering, tool, work]\n",
       "1175      [jpg, kryuisti, turleythyusa, site, business]\n",
       "1400                             [unable, login, skype]"
      ]
     },
     "execution_count": 364,
     "metadata": {},
     "output_type": "execute_result"
    }
   ],
   "source": [
    "dat.sample(5)"
   ]
  },
  {
   "cell_type": "markdown",
   "metadata": {},
   "source": [
    "Bigram Trigam data working"
   ]
  },
  {
   "cell_type": "code",
   "execution_count": 365,
   "metadata": {},
   "outputs": [],
   "source": [
    "bigram = gensim.models.Phrases(data_words, min_count=5, threshold=100) # higher threshold fewer phrases.\n",
    "trigram = gensim.models.Phrases(bigram[data_words], threshold=100)  \n",
    "\n",
    "# Faster way to get a sentence clubbed as a trigram/bigram\n",
    "bigram_mod = gensim.models.phrases.Phraser(bigram)\n",
    "trigram_mod = gensim.models.phrases.Phraser(trigram)"
   ]
  },
  {
   "cell_type": "code",
   "execution_count": 366,
   "metadata": {},
   "outputs": [
    {
     "name": "stdout",
     "output_type": "stream",
     "text": [
      "['team', 'meetingsskype', 'meetings', 'etc', 'appearing', 'outlook', 'calendar', 'somebody', 'advise', 'correct']\n"
     ]
    }
   ],
   "source": [
    "print(bigram_mod[data_words[1]])"
   ]
  },
  {
   "cell_type": "code",
   "execution_count": 367,
   "metadata": {},
   "outputs": [
    {
     "name": "stdout",
     "output_type": "stream",
     "text": [
      "['team', 'meetingsskype', 'meetings', 'etc', 'appearing', 'outlook', 'calendar', 'somebody', 'advise', 'correct']\n"
     ]
    }
   ],
   "source": [
    "print(trigram_mod[bigram_mod[data_words[1]]])"
   ]
  },
  {
   "cell_type": "code",
   "execution_count": 368,
   "metadata": {},
   "outputs": [],
   "source": [
    "def make_bigrams(texts):\n",
    "    return [bigram_mod[doc] for doc in texts]\n",
    "\n",
    "def make_trigrams(texts):\n",
    "    return [trigram_mod[bigram_mod[doc]] for doc in texts]"
   ]
  },
  {
   "cell_type": "code",
   "execution_count": 369,
   "metadata": {},
   "outputs": [],
   "source": [
    "# Form Bigrams\n",
    "data_words_bigrams = make_bigrams(data_words)"
   ]
  },
  {
   "cell_type": "code",
   "execution_count": 370,
   "metadata": {},
   "outputs": [
    {
     "name": "stdout",
     "output_type": "stream",
     "text": [
      "['team', 'meetingsskype', 'meetings', 'etc', 'appearing', 'outlook', 'calendar', 'somebody', 'advise', 'correct']\n"
     ]
    }
   ],
   "source": [
    "print(data_words_bigrams[1])"
   ]
  },
  {
   "cell_type": "code",
   "execution_count": 371,
   "metadata": {},
   "outputs": [],
   "source": [
    "from wordcloud import WordCloud\n",
    "import matplotlib.pyplot as plt"
   ]
  },
  {
   "cell_type": "code",
   "execution_count": 372,
   "metadata": {},
   "outputs": [],
   "source": [
    "wordclouds=' '.join(map(str, data_words_bigrams)) "
   ]
  },
  {
   "cell_type": "markdown",
   "metadata": {},
   "source": [
    "#Word cloud"
   ]
  },
  {
   "cell_type": "code",
   "execution_count": 373,
   "metadata": {},
   "outputs": [
    {
     "data": {
      "image/png": "[encoded data removed]",
      "text/plain": [
       "<Figure size 720x720 with 1 Axes>"
      ]
     },
     "metadata": {},
     "output_type": "display_data"
    }
   ],
   "source": [
    "#check for the word count 100)\n",
    "wordcloud_2 = WordCloud(width=480, height=480, max_words=100).generate(wordclouds)\n",
    "plt.figure(figsize=(10,10))\n",
    "plt.imshow(wordcloud_2, interpolation=\"bilinear\")\n",
    "plt.axis(\"off\")\n",
    "plt.margins(x=0, y=0)\n",
    "plt.show()"
   ]
  },
  {
   "cell_type": "code",
   "execution_count": 374,
   "metadata": {},
   "outputs": [
    {
     "data": {
      "text/html": [
       "<div>\n",
       "<style scoped>\n",
       "    .dataframe tbody tr th:only-of-type {\n",
       "        vertical-align: middle;\n",
       "    }\n",
       "\n",
       "    .dataframe tbody tr th {\n",
       "        vertical-align: top;\n",
       "    }\n",
       "\n",
       "    .dataframe thead th {\n",
       "        text-align: right;\n",
       "    }\n",
       "</style>\n",
       "<table border=\"1\" class=\"dataframe\">\n",
       "  <thead>\n",
       "    <tr style=\"text-align: right;\">\n",
       "      <th></th>\n",
       "      <th>Short description</th>\n",
       "      <th>Caller</th>\n",
       "      <th>Assignment group</th>\n",
       "      <th>RawDescription</th>\n",
       "      <th>English_Description</th>\n",
       "      <th>RawWordCount</th>\n",
       "      <th>cleaned_description</th>\n",
       "      <th>number_of_words</th>\n",
       "      <th>words</th>\n",
       "    </tr>\n",
       "  </thead>\n",
       "  <tbody>\n",
       "    <tr>\n",
       "      <th>0</th>\n",
       "      <td>login issue</td>\n",
       "      <td>spxjnwir pjlcoqds</td>\n",
       "      <td>GRP_0</td>\n",
       "      <td>-verified user details.(employee# &amp; manager na...</td>\n",
       "      <td>verified user detailsemployee manager name_x00...</td>\n",
       "      <td>29</td>\n",
       "      <td>verified user detailsemployee manager name d c...</td>\n",
       "      <td>23</td>\n",
       "      <td>[verified, user, detailsemployee_manager, name...</td>\n",
       "    </tr>\n",
       "    <tr>\n",
       "      <th>1</th>\n",
       "      <td>outlook</td>\n",
       "      <td>hmjdrvpb komuaywn</td>\n",
       "      <td>GRP_0</td>\n",
       "      <td>_x000D_ _x000D_  _x000D_ hello team,_x000D_ _x...</td>\n",
       "      <td>_x000D__x000D_received from hmjdrvpbkomuaywngm...</td>\n",
       "      <td>23</td>\n",
       "      <td>d d hmjdrvpbkomuaywngmailcom d d team d d mee...</td>\n",
       "      <td>19</td>\n",
       "      <td>[team, meetingsskype, meetings, etc, appearing...</td>\n",
       "    </tr>\n",
       "    <tr>\n",
       "      <th>2</th>\n",
       "      <td>cant log in to vpn</td>\n",
       "      <td>eylqgodm ybqkwiam</td>\n",
       "      <td>GRP_0</td>\n",
       "      <td>_x000D_ _x000D_  _x000D_ hi_x000D_ _x000D_ i c...</td>\n",
       "      <td>_x000D__x000D_received from eylqgodmybqkwiamgm...</td>\n",
       "      <td>9</td>\n",
       "      <td>d d eylqgodmybqkwiamgmailcom d d d d log vpn ...</td>\n",
       "      <td>11</td>\n",
       "      <td>[log, vpn]</td>\n",
       "    </tr>\n",
       "    <tr>\n",
       "      <th>3</th>\n",
       "      <td>unable to access hr_tool page</td>\n",
       "      <td>xbkucsvz gcpydteq</td>\n",
       "      <td>GRP_0</td>\n",
       "      <td>unable to access hr_tool page</td>\n",
       "      <td>unable to access hr_tool page</td>\n",
       "      <td>5</td>\n",
       "      <td>unable access tool page</td>\n",
       "      <td>4</td>\n",
       "      <td>[unable, access, tool, page]</td>\n",
       "    </tr>\n",
       "    <tr>\n",
       "      <th>4</th>\n",
       "      <td>skype error</td>\n",
       "      <td>owlgqjme qhcozdfx</td>\n",
       "      <td>GRP_0</td>\n",
       "      <td>skype error</td>\n",
       "      <td>skype error</td>\n",
       "      <td>3</td>\n",
       "      <td>skype error</td>\n",
       "      <td>2</td>\n",
       "      <td>[skype, error]</td>\n",
       "    </tr>\n",
       "    <tr>\n",
       "      <th>...</th>\n",
       "      <td>...</td>\n",
       "      <td>...</td>\n",
       "      <td>...</td>\n",
       "      <td>...</td>\n",
       "      <td>...</td>\n",
       "      <td>...</td>\n",
       "      <td>...</td>\n",
       "      <td>...</td>\n",
       "      <td>...</td>\n",
       "    </tr>\n",
       "    <tr>\n",
       "      <th>8495</th>\n",
       "      <td>emails not coming in from zz mail</td>\n",
       "      <td>avglmrts vhqmtiua</td>\n",
       "      <td>GRP_29</td>\n",
       "      <td>_x000D_ _x000D_  _x000D_ good afternoon,_x000D...</td>\n",
       "      <td>_x000D__x000D_received from avglmrtsvhqmtiuagm...</td>\n",
       "      <td>16</td>\n",
       "      <td>d d avglmrtsvhqmtiuagmailcom d d good afterno...</td>\n",
       "      <td>16</td>\n",
       "      <td>[good_afternoon, receiving, emails, sent, mail...</td>\n",
       "    </tr>\n",
       "    <tr>\n",
       "      <th>8496</th>\n",
       "      <td>telephony_software issue</td>\n",
       "      <td>rbozivdq gmlhrtvp</td>\n",
       "      <td>GRP_0</td>\n",
       "      <td>telephony_software issue</td>\n",
       "      <td>telephony_software issue</td>\n",
       "      <td>2</td>\n",
       "      <td>telephony software issue</td>\n",
       "      <td>3</td>\n",
       "      <td>[telephony_software, issue]</td>\n",
       "    </tr>\n",
       "    <tr>\n",
       "      <th>8497</th>\n",
       "      <td>vip2: windows password reset for tifpdchb pedx...</td>\n",
       "      <td>oybwdsgx oxyhwrfz</td>\n",
       "      <td>GRP_0</td>\n",
       "      <td>vip2: windows password reset for tifpdchb pedx...</td>\n",
       "      <td>vip2 windows password reset for tifpdchb pedxruyf</td>\n",
       "      <td>7</td>\n",
       "      <td>vip windows password reset tifpdchb pedxruyf</td>\n",
       "      <td>6</td>\n",
       "      <td>[vip, windows, password, reset, tifpdchb, pedx...</td>\n",
       "    </tr>\n",
       "    <tr>\n",
       "      <th>8498</th>\n",
       "      <td>machine nÃ£o estÃ¡ funcionando</td>\n",
       "      <td>ufawcgob aowhxjky</td>\n",
       "      <td>Others</td>\n",
       "      <td>i am unable to access the machine utilities to...</td>\n",
       "      <td>i am unable to access the machine utilities to...</td>\n",
       "      <td>16</td>\n",
       "      <td>unable access macne utilities finish drawers a...</td>\n",
       "      <td>10</td>\n",
       "      <td>[unable, access, macne, utilities, finish, dra...</td>\n",
       "    </tr>\n",
       "    <tr>\n",
       "      <th>8499</th>\n",
       "      <td>an mehreren pc`s lassen sich verschiedene prgr...</td>\n",
       "      <td>kqvbrspl jyzoklfx</td>\n",
       "      <td>Others</td>\n",
       "      <td>an mehreren pc`s lassen sich verschiedene prgr...</td>\n",
       "      <td>an mehreren pcs lassen sich verschiedene prgra...</td>\n",
       "      <td>11</td>\n",
       "      <td>mehreren pcs lassen sich verscedene prgramdnty...</td>\n",
       "      <td>10</td>\n",
       "      <td>[mehreren, pcs, lassen_sich, verscedene, prgra...</td>\n",
       "    </tr>\n",
       "  </tbody>\n",
       "</table>\n",
       "<p>7354 rows × 9 columns</p>\n",
       "</div>"
      ],
      "text/plain": [
       "                                      Short description             Caller  \\\n",
       "0                                           login issue  spxjnwir pjlcoqds   \n",
       "1                                               outlook  hmjdrvpb komuaywn   \n",
       "2                                    cant log in to vpn  eylqgodm ybqkwiam   \n",
       "3                         unable to access hr_tool page  xbkucsvz gcpydteq   \n",
       "4                                          skype error   owlgqjme qhcozdfx   \n",
       "...                                                 ...                ...   \n",
       "8495                  emails not coming in from zz mail  avglmrts vhqmtiua   \n",
       "8496                           telephony_software issue  rbozivdq gmlhrtvp   \n",
       "8497  vip2: windows password reset for tifpdchb pedx...  oybwdsgx oxyhwrfz   \n",
       "8498                     machine nÃ£o estÃ¡ funcionando  ufawcgob aowhxjky   \n",
       "8499  an mehreren pc`s lassen sich verschiedene prgr...  kqvbrspl jyzoklfx   \n",
       "\n",
       "     Assignment group                                     RawDescription  \\\n",
       "0               GRP_0  -verified user details.(employee# & manager na...   \n",
       "1               GRP_0  _x000D_ _x000D_  _x000D_ hello team,_x000D_ _x...   \n",
       "2               GRP_0  _x000D_ _x000D_  _x000D_ hi_x000D_ _x000D_ i c...   \n",
       "3               GRP_0                      unable to access hr_tool page   \n",
       "4               GRP_0                                       skype error    \n",
       "...               ...                                                ...   \n",
       "8495           GRP_29  _x000D_ _x000D_  _x000D_ good afternoon,_x000D...   \n",
       "8496            GRP_0                           telephony_software issue   \n",
       "8497            GRP_0  vip2: windows password reset for tifpdchb pedx...   \n",
       "8498           Others  i am unable to access the machine utilities to...   \n",
       "8499           Others  an mehreren pc`s lassen sich verschiedene prgr...   \n",
       "\n",
       "                                    English_Description  RawWordCount  \\\n",
       "0     verified user detailsemployee manager name_x00...            29   \n",
       "1     _x000D__x000D_received from hmjdrvpbkomuaywngm...            23   \n",
       "2     _x000D__x000D_received from eylqgodmybqkwiamgm...             9   \n",
       "3                         unable to access hr_tool page             5   \n",
       "4                                          skype error              3   \n",
       "...                                                 ...           ...   \n",
       "8495  _x000D__x000D_received from avglmrtsvhqmtiuagm...            16   \n",
       "8496                           telephony_software issue             2   \n",
       "8497  vip2 windows password reset for tifpdchb pedxruyf             7   \n",
       "8498  i am unable to access the machine utilities to...            16   \n",
       "8499  an mehreren pcs lassen sich verschiedene prgra...            11   \n",
       "\n",
       "                                    cleaned_description  number_of_words  \\\n",
       "0     verified user detailsemployee manager name d c...               23   \n",
       "1      d d hmjdrvpbkomuaywngmailcom d d team d d mee...               19   \n",
       "2      d d eylqgodmybqkwiamgmailcom d d d d log vpn ...               11   \n",
       "3                               unable access tool page                4   \n",
       "4                                           skype error                2   \n",
       "...                                                 ...              ...   \n",
       "8495   d d avglmrtsvhqmtiuagmailcom d d good afterno...               16   \n",
       "8496                           telephony software issue                3   \n",
       "8497       vip windows password reset tifpdchb pedxruyf                6   \n",
       "8498  unable access macne utilities finish drawers a...               10   \n",
       "8499  mehreren pcs lassen sich verscedene prgramdnty...               10   \n",
       "\n",
       "                                                  words  \n",
       "0     [verified, user, detailsemployee_manager, name...  \n",
       "1     [team, meetingsskype, meetings, etc, appearing...  \n",
       "2                                            [log, vpn]  \n",
       "3                          [unable, access, tool, page]  \n",
       "4                                        [skype, error]  \n",
       "...                                                 ...  \n",
       "8495  [good_afternoon, receiving, emails, sent, mail...  \n",
       "8496                        [telephony_software, issue]  \n",
       "8497  [vip, windows, password, reset, tifpdchb, pedx...  \n",
       "8498  [unable, access, macne, utilities, finish, dra...  \n",
       "8499  [mehreren, pcs, lassen_sich, verscedene, prgra...  \n",
       "\n",
       "[7354 rows x 9 columns]"
      ]
     },
     "execution_count": 374,
     "metadata": {},
     "output_type": "execute_result"
    }
   ],
   "source": [
    "new_df = df_bk.copy()\n",
    "new_df['words'] = data_words_bigrams\n",
    "new_df"
   ]
  },
  {
   "cell_type": "code",
   "execution_count": 375,
   "metadata": {},
   "outputs": [],
   "source": [
    "new_df['word_count']=new_df['cleaned_description'].apply(lambda x:len(str(x).split()))\n",
    "new_df['char_counts']=new_df['cleaned_description'].apply(lambda x: char_counts(str(x)))\n",
    "new_df['Digits_count']=new_df['cleaned_description'].apply(lambda x:len([t for t in x.split() if t.isdigit()]))\n",
    "new_df['Avg_word_Count']=new_df['word_count']/new_df['char_counts']"
   ]
  },
  {
   "cell_type": "code",
   "execution_count": 376,
   "metadata": {},
   "outputs": [
    {
     "data": {
      "text/html": [
       "<div>\n",
       "<style scoped>\n",
       "    .dataframe tbody tr th:only-of-type {\n",
       "        vertical-align: middle;\n",
       "    }\n",
       "\n",
       "    .dataframe tbody tr th {\n",
       "        vertical-align: top;\n",
       "    }\n",
       "\n",
       "    .dataframe thead th {\n",
       "        text-align: right;\n",
       "    }\n",
       "</style>\n",
       "<table border=\"1\" class=\"dataframe\">\n",
       "  <thead>\n",
       "    <tr style=\"text-align: right;\">\n",
       "      <th></th>\n",
       "      <th>Short description</th>\n",
       "      <th>Caller</th>\n",
       "      <th>Assignment group</th>\n",
       "      <th>RawDescription</th>\n",
       "      <th>English_Description</th>\n",
       "      <th>RawWordCount</th>\n",
       "      <th>cleaned_description</th>\n",
       "      <th>number_of_words</th>\n",
       "      <th>words</th>\n",
       "      <th>word_count</th>\n",
       "      <th>char_counts</th>\n",
       "      <th>Digits_count</th>\n",
       "      <th>Avg_word_Count</th>\n",
       "    </tr>\n",
       "  </thead>\n",
       "  <tbody>\n",
       "    <tr>\n",
       "      <th>3752</th>\n",
       "      <td>my phone #, erp, \"name or password is incorrec...</td>\n",
       "      <td>wvaksnpy vnixhytj</td>\n",
       "      <td>GRP_0</td>\n",
       "      <td>i have access to a few systems on erp but i am...</td>\n",
       "      <td>i have access to a few systems on erp but i am...</td>\n",
       "      <td>85</td>\n",
       "      <td>access systems erp able log system entered wyn...</td>\n",
       "      <td>43</td>\n",
       "      <td>[access, systems, erp, able, log, system, ente...</td>\n",
       "      <td>43</td>\n",
       "      <td>283</td>\n",
       "      <td>0</td>\n",
       "      <td>0.151943</td>\n",
       "    </tr>\n",
       "    <tr>\n",
       "      <th>8378</th>\n",
       "      <td>ecc qa - peer certificate rejected by chainver...</td>\n",
       "      <td>tskwevno sjhpoakl</td>\n",
       "      <td>GRP_14</td>\n",
       "      <td>just found out that the eccqa certificate is n...</td>\n",
       "      <td>just found out that the eccqa certificate is n...</td>\n",
       "      <td>189</td>\n",
       "      <td>found eccqa certificate valid error got talkin...</td>\n",
       "      <td>138</td>\n",
       "      <td>[found, eccqa, certificate, valid, error, got,...</td>\n",
       "      <td>138</td>\n",
       "      <td>1076</td>\n",
       "      <td>0</td>\n",
       "      <td>0.128253</td>\n",
       "    </tr>\n",
       "    <tr>\n",
       "      <th>446</th>\n",
       "      <td>setup rechner ewel8323865 fÃ¼r hr.thrydad (thr...</td>\n",
       "      <td>puxsvfwr cwkjruni</td>\n",
       "      <td>GRP_24</td>\n",
       "      <td>setup rechner ewel8323865 fÃ¼r hr.thrydad (thr...</td>\n",
       "      <td>setup rechner ewel8323865 fÃ¼r hrthrydad thryd...</td>\n",
       "      <td>10</td>\n",
       "      <td>setup rechner ewel r hrthrydad thrydad consult...</td>\n",
       "      <td>9</td>\n",
       "      <td>[setup, rechner, ewel, hrthrydad, thrydad, con...</td>\n",
       "      <td>9</td>\n",
       "      <td>59</td>\n",
       "      <td>0</td>\n",
       "      <td>0.152542</td>\n",
       "    </tr>\n",
       "    <tr>\n",
       "      <th>5451</th>\n",
       "      <td>setup rechnerf fÃ¼r infostand instandsetzung \\...</td>\n",
       "      <td>niptbwdq csenjruz</td>\n",
       "      <td>GRP_24</td>\n",
       "      <td>setup rechnerf fÃ¼r infostand instandsetzung \\...</td>\n",
       "      <td>setup rechnerf fÃ¼r infostand instandsetzung n...</td>\n",
       "      <td>7</td>\n",
       "      <td>setup rechnerf r infostand instandsetzung nipt...</td>\n",
       "      <td>7</td>\n",
       "      <td>[setup, rechnerf, infostand, instandsetzung, n...</td>\n",
       "      <td>7</td>\n",
       "      <td>53</td>\n",
       "      <td>0</td>\n",
       "      <td>0.132075</td>\n",
       "    </tr>\n",
       "    <tr>\n",
       "      <th>1619</th>\n",
       "      <td>vip zip file</td>\n",
       "      <td>jwhmqnye xlpvdwre</td>\n",
       "      <td>GRP_12</td>\n",
       "      <td>i have a large zip file that i want to downl...</td>\n",
       "      <td>received from jwhmqnyexlpvdwregmailcomi have a...</td>\n",
       "      <td>46</td>\n",
       "      <td>jwhmqnyexlpvdwregmailcomi large zip file want...</td>\n",
       "      <td>21</td>\n",
       "      <td>[large, zip, file, want, download, add, folder...</td>\n",
       "      <td>21</td>\n",
       "      <td>203</td>\n",
       "      <td>0</td>\n",
       "      <td>0.103448</td>\n",
       "    </tr>\n",
       "    <tr>\n",
       "      <th>...</th>\n",
       "      <td>...</td>\n",
       "      <td>...</td>\n",
       "      <td>...</td>\n",
       "      <td>...</td>\n",
       "      <td>...</td>\n",
       "      <td>...</td>\n",
       "      <td>...</td>\n",
       "      <td>...</td>\n",
       "      <td>...</td>\n",
       "      <td>...</td>\n",
       "      <td>...</td>\n",
       "      <td>...</td>\n",
       "      <td>...</td>\n",
       "    </tr>\n",
       "    <tr>\n",
       "      <th>5164</th>\n",
       "      <td>unable to log in to supply_chain_software</td>\n",
       "      <td>fnqelwpk ahrskvln</td>\n",
       "      <td>GRP_0</td>\n",
       "      <td>unable to log in to supply_chain_software</td>\n",
       "      <td>unable to log in to supply_chain_software</td>\n",
       "      <td>6</td>\n",
       "      <td>unable log supply chain software</td>\n",
       "      <td>5</td>\n",
       "      <td>[unable, log, supply_chain, software]</td>\n",
       "      <td>5</td>\n",
       "      <td>28</td>\n",
       "      <td>0</td>\n",
       "      <td>0.178571</td>\n",
       "    </tr>\n",
       "    <tr>\n",
       "      <th>5755</th>\n",
       "      <td>system not responding</td>\n",
       "      <td>qftpazns fxpnytmk</td>\n",
       "      <td>GRP_0</td>\n",
       "      <td>system not responding</td>\n",
       "      <td>system not responding</td>\n",
       "      <td>3</td>\n",
       "      <td>system responding</td>\n",
       "      <td>2</td>\n",
       "      <td>[system, responding]</td>\n",
       "      <td>2</td>\n",
       "      <td>16</td>\n",
       "      <td>0</td>\n",
       "      <td>0.125000</td>\n",
       "    </tr>\n",
       "    <tr>\n",
       "      <th>4913</th>\n",
       "      <td>skype audio not working</td>\n",
       "      <td>eqxakzyi cwfrjitq</td>\n",
       "      <td>GRP_0</td>\n",
       "      <td>skype audio not working._x000D_ -connected to ...</td>\n",
       "      <td>skype audio not working_x000D_connected to the...</td>\n",
       "      <td>25</td>\n",
       "      <td>skype audio working d connected user system te...</td>\n",
       "      <td>25</td>\n",
       "      <td>[skype, audio, working, connected, user, syste...</td>\n",
       "      <td>25</td>\n",
       "      <td>130</td>\n",
       "      <td>0</td>\n",
       "      <td>0.192308</td>\n",
       "    </tr>\n",
       "    <tr>\n",
       "      <th>494</th>\n",
       "      <td>logon balancing error on erp SID_34</td>\n",
       "      <td>xtqbjieu uablitwr</td>\n",
       "      <td>GRP_2</td>\n",
       "      <td>logon balancing error on erp SID_34 user brand...</td>\n",
       "      <td>logon balancing error on erp SID_34user brandt...</td>\n",
       "      <td>13</td>\n",
       "      <td>logon balancing error erp sid user brandtrhee ...</td>\n",
       "      <td>11</td>\n",
       "      <td>[logon_balancing, error, erp, sid, user, brand...</td>\n",
       "      <td>11</td>\n",
       "      <td>65</td>\n",
       "      <td>0</td>\n",
       "      <td>0.169231</td>\n",
       "    </tr>\n",
       "    <tr>\n",
       "      <th>1774</th>\n",
       "      <td>replizieren</td>\n",
       "      <td>trgqbeax hfyzudql</td>\n",
       "      <td>GRP_0</td>\n",
       "      <td>_x000D_ _x000D_  _x000D_ hallo_x000D_ _x000D_ ...</td>\n",
       "      <td>_x000D__x000D_received from trgqbeaxhfyzudqlgm...</td>\n",
       "      <td>32</td>\n",
       "      <td>d d trgqbeaxhfyzudqlgmailcom d d d d leider r...</td>\n",
       "      <td>39</td>\n",
       "      <td>[leider, repliziert, mein, laptop, firmennetz,...</td>\n",
       "      <td>39</td>\n",
       "      <td>185</td>\n",
       "      <td>0</td>\n",
       "      <td>0.210811</td>\n",
       "    </tr>\n",
       "  </tbody>\n",
       "</table>\n",
       "<p>100 rows × 13 columns</p>\n",
       "</div>"
      ],
      "text/plain": [
       "                                      Short description             Caller  \\\n",
       "3752  my phone #, erp, \"name or password is incorrec...  wvaksnpy vnixhytj   \n",
       "8378  ecc qa - peer certificate rejected by chainver...  tskwevno sjhpoakl   \n",
       "446   setup rechner ewel8323865 fÃ¼r hr.thrydad (thr...  puxsvfwr cwkjruni   \n",
       "5451  setup rechnerf fÃ¼r infostand instandsetzung \\...  niptbwdq csenjruz   \n",
       "1619                                       vip zip file  jwhmqnye xlpvdwre   \n",
       "...                                                 ...                ...   \n",
       "5164          unable to log in to supply_chain_software  fnqelwpk ahrskvln   \n",
       "5755                              system not responding  qftpazns fxpnytmk   \n",
       "4913                            skype audio not working  eqxakzyi cwfrjitq   \n",
       "494                 logon balancing error on erp SID_34  xtqbjieu uablitwr   \n",
       "1774                                        replizieren  trgqbeax hfyzudql   \n",
       "\n",
       "     Assignment group                                     RawDescription  \\\n",
       "3752            GRP_0  i have access to a few systems on erp but i am...   \n",
       "8378           GRP_14  just found out that the eccqa certificate is n...   \n",
       "446            GRP_24  setup rechner ewel8323865 fÃ¼r hr.thrydad (thr...   \n",
       "5451           GRP_24  setup rechnerf fÃ¼r infostand instandsetzung \\...   \n",
       "1619           GRP_12    i have a large zip file that i want to downl...   \n",
       "...               ...                                                ...   \n",
       "5164            GRP_0          unable to log in to supply_chain_software   \n",
       "5755            GRP_0                              system not responding   \n",
       "4913            GRP_0  skype audio not working._x000D_ -connected to ...   \n",
       "494             GRP_2  logon balancing error on erp SID_34 user brand...   \n",
       "1774            GRP_0  _x000D_ _x000D_  _x000D_ hallo_x000D_ _x000D_ ...   \n",
       "\n",
       "                                    English_Description  RawWordCount  \\\n",
       "3752  i have access to a few systems on erp but i am...            85   \n",
       "8378  just found out that the eccqa certificate is n...           189   \n",
       "446   setup rechner ewel8323865 fÃ¼r hrthrydad thryd...            10   \n",
       "5451  setup rechnerf fÃ¼r infostand instandsetzung n...             7   \n",
       "1619  received from jwhmqnyexlpvdwregmailcomi have a...            46   \n",
       "...                                                 ...           ...   \n",
       "5164          unable to log in to supply_chain_software             6   \n",
       "5755                              system not responding             3   \n",
       "4913  skype audio not working_x000D_connected to the...            25   \n",
       "494   logon balancing error on erp SID_34user brandt...            13   \n",
       "1774  _x000D__x000D_received from trgqbeaxhfyzudqlgm...            32   \n",
       "\n",
       "                                    cleaned_description  number_of_words  \\\n",
       "3752  access systems erp able log system entered wyn...               43   \n",
       "8378  found eccqa certificate valid error got talkin...              138   \n",
       "446   setup rechner ewel r hrthrydad thrydad consult...                9   \n",
       "5451  setup rechnerf r infostand instandsetzung nipt...                7   \n",
       "1619   jwhmqnyexlpvdwregmailcomi large zip file want...               21   \n",
       "...                                                 ...              ...   \n",
       "5164                   unable log supply chain software                5   \n",
       "5755                                  system responding                2   \n",
       "4913  skype audio working d connected user system te...               25   \n",
       "494   logon balancing error erp sid user brandtrhee ...               11   \n",
       "1774   d d trgqbeaxhfyzudqlgmailcom d d d d leider r...               39   \n",
       "\n",
       "                                                  words  word_count  \\\n",
       "3752  [access, systems, erp, able, log, system, ente...          43   \n",
       "8378  [found, eccqa, certificate, valid, error, got,...         138   \n",
       "446   [setup, rechner, ewel, hrthrydad, thrydad, con...           9   \n",
       "5451  [setup, rechnerf, infostand, instandsetzung, n...           7   \n",
       "1619  [large, zip, file, want, download, add, folder...          21   \n",
       "...                                                 ...         ...   \n",
       "5164              [unable, log, supply_chain, software]           5   \n",
       "5755                               [system, responding]           2   \n",
       "4913  [skype, audio, working, connected, user, syste...          25   \n",
       "494   [logon_balancing, error, erp, sid, user, brand...          11   \n",
       "1774  [leider, repliziert, mein, laptop, firmennetz,...          39   \n",
       "\n",
       "      char_counts  Digits_count  Avg_word_Count  \n",
       "3752          283             0        0.151943  \n",
       "8378         1076             0        0.128253  \n",
       "446            59             0        0.152542  \n",
       "5451           53             0        0.132075  \n",
       "1619          203             0        0.103448  \n",
       "...           ...           ...             ...  \n",
       "5164           28             0        0.178571  \n",
       "5755           16             0        0.125000  \n",
       "4913          130             0        0.192308  \n",
       "494            65             0        0.169231  \n",
       "1774          185             0        0.210811  \n",
       "\n",
       "[100 rows x 13 columns]"
      ]
     },
     "execution_count": 376,
     "metadata": {},
     "output_type": "execute_result"
    }
   ],
   "source": [
    "new_df.sample(100)"
   ]
  },
  {
   "cell_type": "code",
   "execution_count": 377,
   "metadata": {},
   "outputs": [],
   "source": [
    "\n",
    "# Tokenizing the training and the test set\n",
    "tokenizer = nltk.tokenize.RegexpTokenizer(r'\\w+')\n",
    "new_df['token_desc'] = new_df['cleaned_description'].apply(lambda x: tokenizer.tokenize(x))"
   ]
  },
  {
   "cell_type": "code",
   "execution_count": 378,
   "metadata": {},
   "outputs": [
    {
     "data": {
      "text/plain": [
       "0    [verified, user, detailsemployee, manager, nam...\n",
       "1    [d, d, hmjdrvpbkomuaywngmailcom, d, d, team, d...\n",
       "2    [d, d, eylqgodmybqkwiamgmailcom, d, d, d, d, l...\n",
       "3                         [unable, access, tool, page]\n",
       "4                                       [skype, error]\n",
       "Name: token_desc, dtype: object"
      ]
     },
     "execution_count": 378,
     "metadata": {},
     "output_type": "execute_result"
    }
   ],
   "source": [
    "new_df['token_desc'].head()"
   ]
  },
  {
   "cell_type": "code",
   "execution_count": 379,
   "metadata": {},
   "outputs": [],
   "source": [
    "def combine_text(list_of_text):\n",
    "    '''Takes a list of text and combines them into one large chunk of text.'''\n",
    "    combined_text = ' '.join(list_of_text)\n",
    "    return combined_text\n",
    "\n",
    "new_df['token_desc'] = new_df['token_desc'].apply(lambda x : combine_text(x))"
   ]
  },
  {
   "cell_type": "code",
   "execution_count": 380,
   "metadata": {},
   "outputs": [],
   "source": [
    "from sklearn.feature_extraction.text import TfidfVectorizer\n",
    "\n",
    "# word level tf-idf for ticket\n",
    "tfidf = TfidfVectorizer(max_features=250, analyzer = 'word', min_df=2, max_df=0.95, ngram_range=(1, 2))\n",
    "inc_tfidf = tfidf.fit_transform(new_df['token_desc'])"
   ]
  },
  {
   "cell_type": "code",
   "execution_count": 381,
   "metadata": {},
   "outputs": [
    {
     "name": "stderr",
     "output_type": "stream",
     "text": [
      "C:\\Users\\DELL\\anaconda6\\lib\\site-packages\\sklearn\\utils\\deprecation.py:87: FutureWarning: Function get_feature_names is deprecated; get_feature_names is deprecated in 1.0 and will be removed in 1.2. Please use get_feature_names_out instead.\n",
      "  warnings.warn(msg, category=FutureWarning)\n"
     ]
    }
   ],
   "source": [
    "#  create a dictionary mapping the tokens to their tfidf values\n",
    "tfidf = dict(zip(tfidf.get_feature_names(), tfidf.idf_))\n",
    "tfidf = pd.DataFrame(columns=['tfidf']).from_dict(\n",
    "                    dict(tfidf), orient='index')\n",
    "tfidf.columns = ['tfidf']"
   ]
  },
  {
   "cell_type": "code",
   "execution_count": 382,
   "metadata": {},
   "outputs": [
    {
     "data": {
      "text/html": [
       "<div>\n",
       "<style scoped>\n",
       "    .dataframe tbody tr th:only-of-type {\n",
       "        vertical-align: middle;\n",
       "    }\n",
       "\n",
       "    .dataframe tbody tr th {\n",
       "        vertical-align: top;\n",
       "    }\n",
       "\n",
       "    .dataframe thead th {\n",
       "        text-align: right;\n",
       "    }\n",
       "</style>\n",
       "<table border=\"1\" class=\"dataframe\">\n",
       "  <thead>\n",
       "    <tr style=\"text-align: right;\">\n",
       "      <th></th>\n",
       "      <th>tfidf</th>\n",
       "    </tr>\n",
       "  </thead>\n",
       "  <tbody>\n",
       "    <tr>\n",
       "      <th>password</th>\n",
       "      <td>3.099630</td>\n",
       "    </tr>\n",
       "    <tr>\n",
       "      <th>erp</th>\n",
       "      <td>3.143880</td>\n",
       "    </tr>\n",
       "    <tr>\n",
       "      <th>unable</th>\n",
       "      <td>3.279070</td>\n",
       "    </tr>\n",
       "    <tr>\n",
       "      <th>reset</th>\n",
       "      <td>3.304627</td>\n",
       "    </tr>\n",
       "    <tr>\n",
       "      <th>tool</th>\n",
       "      <td>3.328060</td>\n",
       "    </tr>\n",
       "    <tr>\n",
       "      <th>sid</th>\n",
       "      <td>3.452665</td>\n",
       "    </tr>\n",
       "    <tr>\n",
       "      <th>issue</th>\n",
       "      <td>3.466985</td>\n",
       "    </tr>\n",
       "    <tr>\n",
       "      <th>account</th>\n",
       "      <td>3.499561</td>\n",
       "    </tr>\n",
       "    <tr>\n",
       "      <th>user</th>\n",
       "      <td>3.526409</td>\n",
       "    </tr>\n",
       "    <tr>\n",
       "      <th>error</th>\n",
       "      <td>3.561014</td>\n",
       "    </tr>\n",
       "  </tbody>\n",
       "</table>\n",
       "</div>"
      ],
      "text/plain": [
       "             tfidf\n",
       "password  3.099630\n",
       "erp       3.143880\n",
       "unable    3.279070\n",
       "reset     3.304627\n",
       "tool      3.328060\n",
       "sid       3.452665\n",
       "issue     3.466985\n",
       "account   3.499561\n",
       "user      3.526409\n",
       "error     3.561014"
      ]
     },
     "execution_count": 382,
     "metadata": {},
     "output_type": "execute_result"
    }
   ],
   "source": [
    "tfidf.sort_values(by=['tfidf'], ascending=True).head(10)"
   ]
  },
  {
   "cell_type": "code",
   "execution_count": 383,
   "metadata": {},
   "outputs": [
    {
     "data": {
      "text/html": [
       "<div>\n",
       "<style scoped>\n",
       "    .dataframe tbody tr th:only-of-type {\n",
       "        vertical-align: middle;\n",
       "    }\n",
       "\n",
       "    .dataframe tbody tr th {\n",
       "        vertical-align: top;\n",
       "    }\n",
       "\n",
       "    .dataframe thead th {\n",
       "        text-align: right;\n",
       "    }\n",
       "</style>\n",
       "<table border=\"1\" class=\"dataframe\">\n",
       "  <thead>\n",
       "    <tr style=\"text-align: right;\">\n",
       "      <th></th>\n",
       "      <th>tfidf</th>\n",
       "    </tr>\n",
       "  </thead>\n",
       "  <tbody>\n",
       "    <tr>\n",
       "      <th>inwarehouse tool</th>\n",
       "      <td>5.744253</td>\n",
       "    </tr>\n",
       "    <tr>\n",
       "      <th>space</th>\n",
       "      <td>5.744253</td>\n",
       "    </tr>\n",
       "    <tr>\n",
       "      <th>center</th>\n",
       "      <td>5.626470</td>\n",
       "    </tr>\n",
       "    <tr>\n",
       "      <th>sid sid</th>\n",
       "      <td>5.612676</td>\n",
       "    </tr>\n",
       "    <tr>\n",
       "      <th>folder</th>\n",
       "      <td>5.612676</td>\n",
       "    </tr>\n",
       "    <tr>\n",
       "      <th>circuit yes</th>\n",
       "      <td>5.521109</td>\n",
       "    </tr>\n",
       "    <tr>\n",
       "      <th>login issue</th>\n",
       "      <td>5.521109</td>\n",
       "    </tr>\n",
       "    <tr>\n",
       "      <th>ist</th>\n",
       "      <td>5.521109</td>\n",
       "    </tr>\n",
       "    <tr>\n",
       "      <th>mobile</th>\n",
       "      <td>5.508686</td>\n",
       "    </tr>\n",
       "    <tr>\n",
       "      <th>microsoft</th>\n",
       "      <td>5.496416</td>\n",
       "    </tr>\n",
       "  </tbody>\n",
       "</table>\n",
       "</div>"
      ],
      "text/plain": [
       "                     tfidf\n",
       "inwarehouse tool  5.744253\n",
       "space             5.744253\n",
       "center            5.626470\n",
       "sid sid           5.612676\n",
       "folder            5.612676\n",
       "circuit yes       5.521109\n",
       "login issue       5.521109\n",
       "ist               5.521109\n",
       "mobile            5.508686\n",
       "microsoft         5.496416"
      ]
     },
     "execution_count": 383,
     "metadata": {},
     "output_type": "execute_result"
    }
   ],
   "source": [
    "tfidf.sort_values(by=['tfidf'], ascending=False).head(10)"
   ]
  },
  {
   "cell_type": "code",
   "execution_count": 384,
   "metadata": {},
   "outputs": [
    {
     "data": {
      "text/html": [
       "<div>\n",
       "<style scoped>\n",
       "    .dataframe tbody tr th:only-of-type {\n",
       "        vertical-align: middle;\n",
       "    }\n",
       "\n",
       "    .dataframe tbody tr th {\n",
       "        vertical-align: top;\n",
       "    }\n",
       "\n",
       "    .dataframe thead th {\n",
       "        text-align: right;\n",
       "    }\n",
       "</style>\n",
       "<table border=\"1\" class=\"dataframe\">\n",
       "  <thead>\n",
       "    <tr style=\"text-align: right;\">\n",
       "      <th></th>\n",
       "      <th>0</th>\n",
       "      <th>1</th>\n",
       "      <th>2</th>\n",
       "      <th>3</th>\n",
       "      <th>4</th>\n",
       "      <th>5</th>\n",
       "      <th>6</th>\n",
       "      <th>7</th>\n",
       "      <th>8</th>\n",
       "      <th>9</th>\n",
       "      <th>...</th>\n",
       "      <th>240</th>\n",
       "      <th>241</th>\n",
       "      <th>242</th>\n",
       "      <th>243</th>\n",
       "      <th>244</th>\n",
       "      <th>245</th>\n",
       "      <th>246</th>\n",
       "      <th>247</th>\n",
       "      <th>248</th>\n",
       "      <th>249</th>\n",
       "    </tr>\n",
       "  </thead>\n",
       "  <tbody>\n",
       "    <tr>\n",
       "      <th>0</th>\n",
       "      <td>0.190743</td>\n",
       "      <td>0.249143</td>\n",
       "      <td>0.000000</td>\n",
       "      <td>0.0</td>\n",
       "      <td>0.0</td>\n",
       "      <td>0.0</td>\n",
       "      <td>0.000000</td>\n",
       "      <td>0.0</td>\n",
       "      <td>0.0</td>\n",
       "      <td>0.0</td>\n",
       "      <td>...</td>\n",
       "      <td>0.0</td>\n",
       "      <td>0.0</td>\n",
       "      <td>0.0</td>\n",
       "      <td>0.0</td>\n",
       "      <td>0.0</td>\n",
       "      <td>0.0</td>\n",
       "      <td>0.0</td>\n",
       "      <td>0.0</td>\n",
       "      <td>0.0</td>\n",
       "      <td>0.0</td>\n",
       "    </tr>\n",
       "    <tr>\n",
       "      <th>1</th>\n",
       "      <td>0.000000</td>\n",
       "      <td>0.000000</td>\n",
       "      <td>0.000000</td>\n",
       "      <td>0.0</td>\n",
       "      <td>0.0</td>\n",
       "      <td>0.0</td>\n",
       "      <td>0.000000</td>\n",
       "      <td>0.0</td>\n",
       "      <td>0.0</td>\n",
       "      <td>0.0</td>\n",
       "      <td>...</td>\n",
       "      <td>0.0</td>\n",
       "      <td>0.0</td>\n",
       "      <td>0.0</td>\n",
       "      <td>0.0</td>\n",
       "      <td>0.0</td>\n",
       "      <td>0.0</td>\n",
       "      <td>0.0</td>\n",
       "      <td>0.0</td>\n",
       "      <td>0.0</td>\n",
       "      <td>0.0</td>\n",
       "    </tr>\n",
       "    <tr>\n",
       "      <th>2</th>\n",
       "      <td>0.000000</td>\n",
       "      <td>0.000000</td>\n",
       "      <td>0.000000</td>\n",
       "      <td>0.0</td>\n",
       "      <td>0.0</td>\n",
       "      <td>0.0</td>\n",
       "      <td>0.000000</td>\n",
       "      <td>0.0</td>\n",
       "      <td>0.0</td>\n",
       "      <td>0.0</td>\n",
       "      <td>...</td>\n",
       "      <td>0.0</td>\n",
       "      <td>0.0</td>\n",
       "      <td>0.0</td>\n",
       "      <td>0.0</td>\n",
       "      <td>0.0</td>\n",
       "      <td>0.0</td>\n",
       "      <td>0.0</td>\n",
       "      <td>0.0</td>\n",
       "      <td>0.0</td>\n",
       "      <td>0.0</td>\n",
       "    </tr>\n",
       "    <tr>\n",
       "      <th>3</th>\n",
       "      <td>0.000000</td>\n",
       "      <td>0.000000</td>\n",
       "      <td>0.608671</td>\n",
       "      <td>0.0</td>\n",
       "      <td>0.0</td>\n",
       "      <td>0.0</td>\n",
       "      <td>0.000000</td>\n",
       "      <td>0.0</td>\n",
       "      <td>0.0</td>\n",
       "      <td>0.0</td>\n",
       "      <td>...</td>\n",
       "      <td>0.0</td>\n",
       "      <td>0.0</td>\n",
       "      <td>0.0</td>\n",
       "      <td>0.0</td>\n",
       "      <td>0.0</td>\n",
       "      <td>0.0</td>\n",
       "      <td>0.0</td>\n",
       "      <td>0.0</td>\n",
       "      <td>0.0</td>\n",
       "      <td>0.0</td>\n",
       "    </tr>\n",
       "    <tr>\n",
       "      <th>4</th>\n",
       "      <td>0.000000</td>\n",
       "      <td>0.000000</td>\n",
       "      <td>0.000000</td>\n",
       "      <td>0.0</td>\n",
       "      <td>0.0</td>\n",
       "      <td>0.0</td>\n",
       "      <td>0.000000</td>\n",
       "      <td>0.0</td>\n",
       "      <td>0.0</td>\n",
       "      <td>0.0</td>\n",
       "      <td>...</td>\n",
       "      <td>0.0</td>\n",
       "      <td>0.0</td>\n",
       "      <td>0.0</td>\n",
       "      <td>0.0</td>\n",
       "      <td>0.0</td>\n",
       "      <td>0.0</td>\n",
       "      <td>0.0</td>\n",
       "      <td>0.0</td>\n",
       "      <td>0.0</td>\n",
       "      <td>0.0</td>\n",
       "    </tr>\n",
       "    <tr>\n",
       "      <th>5</th>\n",
       "      <td>0.000000</td>\n",
       "      <td>0.000000</td>\n",
       "      <td>0.000000</td>\n",
       "      <td>0.0</td>\n",
       "      <td>0.0</td>\n",
       "      <td>0.0</td>\n",
       "      <td>0.000000</td>\n",
       "      <td>0.0</td>\n",
       "      <td>0.0</td>\n",
       "      <td>0.0</td>\n",
       "      <td>...</td>\n",
       "      <td>0.0</td>\n",
       "      <td>0.0</td>\n",
       "      <td>0.0</td>\n",
       "      <td>0.0</td>\n",
       "      <td>0.0</td>\n",
       "      <td>0.0</td>\n",
       "      <td>0.0</td>\n",
       "      <td>0.0</td>\n",
       "      <td>0.0</td>\n",
       "      <td>0.0</td>\n",
       "    </tr>\n",
       "    <tr>\n",
       "      <th>6</th>\n",
       "      <td>0.000000</td>\n",
       "      <td>0.000000</td>\n",
       "      <td>0.000000</td>\n",
       "      <td>0.0</td>\n",
       "      <td>0.0</td>\n",
       "      <td>0.0</td>\n",
       "      <td>0.000000</td>\n",
       "      <td>0.0</td>\n",
       "      <td>0.0</td>\n",
       "      <td>0.0</td>\n",
       "      <td>...</td>\n",
       "      <td>0.0</td>\n",
       "      <td>0.0</td>\n",
       "      <td>0.0</td>\n",
       "      <td>0.0</td>\n",
       "      <td>0.0</td>\n",
       "      <td>0.0</td>\n",
       "      <td>0.0</td>\n",
       "      <td>0.0</td>\n",
       "      <td>0.0</td>\n",
       "      <td>0.0</td>\n",
       "    </tr>\n",
       "    <tr>\n",
       "      <th>7</th>\n",
       "      <td>0.000000</td>\n",
       "      <td>0.000000</td>\n",
       "      <td>0.000000</td>\n",
       "      <td>0.0</td>\n",
       "      <td>0.0</td>\n",
       "      <td>0.0</td>\n",
       "      <td>0.721195</td>\n",
       "      <td>0.0</td>\n",
       "      <td>0.0</td>\n",
       "      <td>0.0</td>\n",
       "      <td>...</td>\n",
       "      <td>0.0</td>\n",
       "      <td>0.0</td>\n",
       "      <td>0.0</td>\n",
       "      <td>0.0</td>\n",
       "      <td>0.0</td>\n",
       "      <td>0.0</td>\n",
       "      <td>0.0</td>\n",
       "      <td>0.0</td>\n",
       "      <td>0.0</td>\n",
       "      <td>0.0</td>\n",
       "    </tr>\n",
       "    <tr>\n",
       "      <th>8</th>\n",
       "      <td>0.000000</td>\n",
       "      <td>0.000000</td>\n",
       "      <td>0.000000</td>\n",
       "      <td>0.0</td>\n",
       "      <td>0.0</td>\n",
       "      <td>0.0</td>\n",
       "      <td>0.000000</td>\n",
       "      <td>0.0</td>\n",
       "      <td>0.0</td>\n",
       "      <td>0.0</td>\n",
       "      <td>...</td>\n",
       "      <td>0.0</td>\n",
       "      <td>0.0</td>\n",
       "      <td>0.0</td>\n",
       "      <td>0.0</td>\n",
       "      <td>0.0</td>\n",
       "      <td>0.0</td>\n",
       "      <td>0.0</td>\n",
       "      <td>0.0</td>\n",
       "      <td>0.0</td>\n",
       "      <td>0.0</td>\n",
       "    </tr>\n",
       "    <tr>\n",
       "      <th>9</th>\n",
       "      <td>0.000000</td>\n",
       "      <td>0.000000</td>\n",
       "      <td>0.000000</td>\n",
       "      <td>0.0</td>\n",
       "      <td>0.0</td>\n",
       "      <td>0.0</td>\n",
       "      <td>0.000000</td>\n",
       "      <td>0.0</td>\n",
       "      <td>0.0</td>\n",
       "      <td>0.0</td>\n",
       "      <td>...</td>\n",
       "      <td>0.0</td>\n",
       "      <td>0.0</td>\n",
       "      <td>0.0</td>\n",
       "      <td>0.0</td>\n",
       "      <td>0.0</td>\n",
       "      <td>0.0</td>\n",
       "      <td>0.0</td>\n",
       "      <td>0.0</td>\n",
       "      <td>0.0</td>\n",
       "      <td>0.0</td>\n",
       "    </tr>\n",
       "  </tbody>\n",
       "</table>\n",
       "<p>10 rows × 250 columns</p>\n",
       "</div>"
      ],
      "text/plain": [
       "        0         1         2    3    4    5         6    7    8    9    ...  \\\n",
       "0  0.190743  0.249143  0.000000  0.0  0.0  0.0  0.000000  0.0  0.0  0.0  ...   \n",
       "1  0.000000  0.000000  0.000000  0.0  0.0  0.0  0.000000  0.0  0.0  0.0  ...   \n",
       "2  0.000000  0.000000  0.000000  0.0  0.0  0.0  0.000000  0.0  0.0  0.0  ...   \n",
       "3  0.000000  0.000000  0.608671  0.0  0.0  0.0  0.000000  0.0  0.0  0.0  ...   \n",
       "4  0.000000  0.000000  0.000000  0.0  0.0  0.0  0.000000  0.0  0.0  0.0  ...   \n",
       "5  0.000000  0.000000  0.000000  0.0  0.0  0.0  0.000000  0.0  0.0  0.0  ...   \n",
       "6  0.000000  0.000000  0.000000  0.0  0.0  0.0  0.000000  0.0  0.0  0.0  ...   \n",
       "7  0.000000  0.000000  0.000000  0.0  0.0  0.0  0.721195  0.0  0.0  0.0  ...   \n",
       "8  0.000000  0.000000  0.000000  0.0  0.0  0.0  0.000000  0.0  0.0  0.0  ...   \n",
       "9  0.000000  0.000000  0.000000  0.0  0.0  0.0  0.000000  0.0  0.0  0.0  ...   \n",
       "\n",
       "   240  241  242  243  244  245  246  247  248  249  \n",
       "0  0.0  0.0  0.0  0.0  0.0  0.0  0.0  0.0  0.0  0.0  \n",
       "1  0.0  0.0  0.0  0.0  0.0  0.0  0.0  0.0  0.0  0.0  \n",
       "2  0.0  0.0  0.0  0.0  0.0  0.0  0.0  0.0  0.0  0.0  \n",
       "3  0.0  0.0  0.0  0.0  0.0  0.0  0.0  0.0  0.0  0.0  \n",
       "4  0.0  0.0  0.0  0.0  0.0  0.0  0.0  0.0  0.0  0.0  \n",
       "5  0.0  0.0  0.0  0.0  0.0  0.0  0.0  0.0  0.0  0.0  \n",
       "6  0.0  0.0  0.0  0.0  0.0  0.0  0.0  0.0  0.0  0.0  \n",
       "7  0.0  0.0  0.0  0.0  0.0  0.0  0.0  0.0  0.0  0.0  \n",
       "8  0.0  0.0  0.0  0.0  0.0  0.0  0.0  0.0  0.0  0.0  \n",
       "9  0.0  0.0  0.0  0.0  0.0  0.0  0.0  0.0  0.0  0.0  \n",
       "\n",
       "[10 rows x 250 columns]"
      ]
     },
     "execution_count": 384,
     "metadata": {},
     "output_type": "execute_result"
    }
   ],
   "source": [
    "array = inc_tfidf.todense()\n",
    "\n",
    "# store the tf-idf array into pandas dataframe\n",
    "df_inc = pd.DataFrame(array)\n",
    "df_inc.head(10)"
   ]
  },
  {
   "cell_type": "code",
   "execution_count": 385,
   "metadata": {},
   "outputs": [],
   "source": [
    "df_inc['Assignment_group']= new_df['Assignment group']\n",
    "df_inc['token_desc']= new_df['token_desc']"
   ]
  },
  {
   "cell_type": "code",
   "execution_count": 386,
   "metadata": {},
   "outputs": [
    {
     "data": {
      "text/html": [
       "<div>\n",
       "<style scoped>\n",
       "    .dataframe tbody tr th:only-of-type {\n",
       "        vertical-align: middle;\n",
       "    }\n",
       "\n",
       "    .dataframe tbody tr th {\n",
       "        vertical-align: top;\n",
       "    }\n",
       "\n",
       "    .dataframe thead th {\n",
       "        text-align: right;\n",
       "    }\n",
       "</style>\n",
       "<table border=\"1\" class=\"dataframe\">\n",
       "  <thead>\n",
       "    <tr style=\"text-align: right;\">\n",
       "      <th></th>\n",
       "      <th>0</th>\n",
       "      <th>1</th>\n",
       "      <th>2</th>\n",
       "      <th>3</th>\n",
       "      <th>4</th>\n",
       "      <th>5</th>\n",
       "      <th>6</th>\n",
       "      <th>7</th>\n",
       "      <th>8</th>\n",
       "      <th>9</th>\n",
       "      <th>...</th>\n",
       "      <th>242</th>\n",
       "      <th>243</th>\n",
       "      <th>244</th>\n",
       "      <th>245</th>\n",
       "      <th>246</th>\n",
       "      <th>247</th>\n",
       "      <th>248</th>\n",
       "      <th>249</th>\n",
       "      <th>Assignment_group</th>\n",
       "      <th>token_desc</th>\n",
       "    </tr>\n",
       "  </thead>\n",
       "  <tbody>\n",
       "    <tr>\n",
       "      <th>0</th>\n",
       "      <td>0.190743</td>\n",
       "      <td>0.249143</td>\n",
       "      <td>0.000000</td>\n",
       "      <td>0.0</td>\n",
       "      <td>0.0</td>\n",
       "      <td>0.0</td>\n",
       "      <td>0.0</td>\n",
       "      <td>0.0</td>\n",
       "      <td>0.0</td>\n",
       "      <td>0.0</td>\n",
       "      <td>...</td>\n",
       "      <td>0.0</td>\n",
       "      <td>0.0</td>\n",
       "      <td>0.0</td>\n",
       "      <td>0.0</td>\n",
       "      <td>0.0</td>\n",
       "      <td>0.0</td>\n",
       "      <td>0.0</td>\n",
       "      <td>0.0</td>\n",
       "      <td>GRP_0</td>\n",
       "      <td>verified user detailsemployee manager name d c...</td>\n",
       "    </tr>\n",
       "    <tr>\n",
       "      <th>1</th>\n",
       "      <td>0.000000</td>\n",
       "      <td>0.000000</td>\n",
       "      <td>0.000000</td>\n",
       "      <td>0.0</td>\n",
       "      <td>0.0</td>\n",
       "      <td>0.0</td>\n",
       "      <td>0.0</td>\n",
       "      <td>0.0</td>\n",
       "      <td>0.0</td>\n",
       "      <td>0.0</td>\n",
       "      <td>...</td>\n",
       "      <td>0.0</td>\n",
       "      <td>0.0</td>\n",
       "      <td>0.0</td>\n",
       "      <td>0.0</td>\n",
       "      <td>0.0</td>\n",
       "      <td>0.0</td>\n",
       "      <td>0.0</td>\n",
       "      <td>0.0</td>\n",
       "      <td>GRP_0</td>\n",
       "      <td>d d hmjdrvpbkomuaywngmailcom d d team d d meet...</td>\n",
       "    </tr>\n",
       "    <tr>\n",
       "      <th>2</th>\n",
       "      <td>0.000000</td>\n",
       "      <td>0.000000</td>\n",
       "      <td>0.000000</td>\n",
       "      <td>0.0</td>\n",
       "      <td>0.0</td>\n",
       "      <td>0.0</td>\n",
       "      <td>0.0</td>\n",
       "      <td>0.0</td>\n",
       "      <td>0.0</td>\n",
       "      <td>0.0</td>\n",
       "      <td>...</td>\n",
       "      <td>0.0</td>\n",
       "      <td>0.0</td>\n",
       "      <td>0.0</td>\n",
       "      <td>0.0</td>\n",
       "      <td>0.0</td>\n",
       "      <td>0.0</td>\n",
       "      <td>0.0</td>\n",
       "      <td>0.0</td>\n",
       "      <td>GRP_0</td>\n",
       "      <td>d d eylqgodmybqkwiamgmailcom d d d d log vpn d d</td>\n",
       "    </tr>\n",
       "    <tr>\n",
       "      <th>3</th>\n",
       "      <td>0.000000</td>\n",
       "      <td>0.000000</td>\n",
       "      <td>0.608671</td>\n",
       "      <td>0.0</td>\n",
       "      <td>0.0</td>\n",
       "      <td>0.0</td>\n",
       "      <td>0.0</td>\n",
       "      <td>0.0</td>\n",
       "      <td>0.0</td>\n",
       "      <td>0.0</td>\n",
       "      <td>...</td>\n",
       "      <td>0.0</td>\n",
       "      <td>0.0</td>\n",
       "      <td>0.0</td>\n",
       "      <td>0.0</td>\n",
       "      <td>0.0</td>\n",
       "      <td>0.0</td>\n",
       "      <td>0.0</td>\n",
       "      <td>0.0</td>\n",
       "      <td>GRP_0</td>\n",
       "      <td>unable access tool page</td>\n",
       "    </tr>\n",
       "    <tr>\n",
       "      <th>4</th>\n",
       "      <td>0.000000</td>\n",
       "      <td>0.000000</td>\n",
       "      <td>0.000000</td>\n",
       "      <td>0.0</td>\n",
       "      <td>0.0</td>\n",
       "      <td>0.0</td>\n",
       "      <td>0.0</td>\n",
       "      <td>0.0</td>\n",
       "      <td>0.0</td>\n",
       "      <td>0.0</td>\n",
       "      <td>...</td>\n",
       "      <td>0.0</td>\n",
       "      <td>0.0</td>\n",
       "      <td>0.0</td>\n",
       "      <td>0.0</td>\n",
       "      <td>0.0</td>\n",
       "      <td>0.0</td>\n",
       "      <td>0.0</td>\n",
       "      <td>0.0</td>\n",
       "      <td>GRP_0</td>\n",
       "      <td>skype error</td>\n",
       "    </tr>\n",
       "  </tbody>\n",
       "</table>\n",
       "<p>5 rows × 252 columns</p>\n",
       "</div>"
      ],
      "text/plain": [
       "          0         1         2    3    4    5    6    7    8    9  ...  242  \\\n",
       "0  0.190743  0.249143  0.000000  0.0  0.0  0.0  0.0  0.0  0.0  0.0  ...  0.0   \n",
       "1  0.000000  0.000000  0.000000  0.0  0.0  0.0  0.0  0.0  0.0  0.0  ...  0.0   \n",
       "2  0.000000  0.000000  0.000000  0.0  0.0  0.0  0.0  0.0  0.0  0.0  ...  0.0   \n",
       "3  0.000000  0.000000  0.608671  0.0  0.0  0.0  0.0  0.0  0.0  0.0  ...  0.0   \n",
       "4  0.000000  0.000000  0.000000  0.0  0.0  0.0  0.0  0.0  0.0  0.0  ...  0.0   \n",
       "\n",
       "   243  244  245  246  247  248  249  Assignment_group  \\\n",
       "0  0.0  0.0  0.0  0.0  0.0  0.0  0.0             GRP_0   \n",
       "1  0.0  0.0  0.0  0.0  0.0  0.0  0.0             GRP_0   \n",
       "2  0.0  0.0  0.0  0.0  0.0  0.0  0.0             GRP_0   \n",
       "3  0.0  0.0  0.0  0.0  0.0  0.0  0.0             GRP_0   \n",
       "4  0.0  0.0  0.0  0.0  0.0  0.0  0.0             GRP_0   \n",
       "\n",
       "                                          token_desc  \n",
       "0  verified user detailsemployee manager name d c...  \n",
       "1  d d hmjdrvpbkomuaywngmailcom d d team d d meet...  \n",
       "2   d d eylqgodmybqkwiamgmailcom d d d d log vpn d d  \n",
       "3                            unable access tool page  \n",
       "4                                        skype error  \n",
       "\n",
       "[5 rows x 252 columns]"
      ]
     },
     "execution_count": 386,
     "metadata": {},
     "output_type": "execute_result"
    }
   ],
   "source": [
    "df_inc.head()"
   ]
  },
  {
   "cell_type": "code",
   "execution_count": 387,
   "metadata": {},
   "outputs": [],
   "source": [
    "df_inc_sample = df_inc[df_inc['Assignment_group'].map(df_inc['Assignment_group'].value_counts()) > 100]"
   ]
  },
  {
   "cell_type": "code",
   "execution_count": 388,
   "metadata": {},
   "outputs": [],
   "source": [
    "df_inc_sample = new_df[new_df['Assignment group'].map(new_df['Assignment group'].value_counts()) > 100]"
   ]
  },
  {
   "cell_type": "code",
   "execution_count": 389,
   "metadata": {},
   "outputs": [
    {
     "name": "stdout",
     "output_type": "stream",
     "text": [
      "<class 'pandas.core.frame.DataFrame'>\n",
      "Int64Index: 6890 entries, 0 to 8499\n",
      "Data columns (total 14 columns):\n",
      " #   Column               Non-Null Count  Dtype  \n",
      "---  ------               --------------  -----  \n",
      " 0   Short description    6882 non-null   object \n",
      " 1   Caller               6890 non-null   object \n",
      " 2   Assignment group     6890 non-null   object \n",
      " 3   RawDescription       6890 non-null   object \n",
      " 4   English_Description  6890 non-null   object \n",
      " 5   RawWordCount         6890 non-null   int64  \n",
      " 6   cleaned_description  6890 non-null   object \n",
      " 7   number_of_words      6890 non-null   int64  \n",
      " 8   words                6890 non-null   object \n",
      " 9   word_count           6890 non-null   int64  \n",
      " 10  char_counts          6890 non-null   int64  \n",
      " 11  Digits_count         6890 non-null   int64  \n",
      " 12  Avg_word_Count       6890 non-null   float64\n",
      " 13  token_desc           6890 non-null   object \n",
      "dtypes: float64(1), int64(5), object(8)\n",
      "memory usage: 807.4+ KB\n"
     ]
    }
   ],
   "source": [
    "df_inc_sample.info()"
   ]
  },
  {
   "cell_type": "code",
   "execution_count": 390,
   "metadata": {},
   "outputs": [],
   "source": [
    "X = df_inc_sample['token_desc']\n",
    "y = df_inc_sample['Assignment group']"
   ]
  },
  {
   "cell_type": "code",
   "execution_count": 391,
   "metadata": {},
   "outputs": [],
   "source": [
    "#X.to_csv('X.csv', index=False, encoding='utf_8_sig')"
   ]
  },
  {
   "cell_type": "code",
   "execution_count": 392,
   "metadata": {},
   "outputs": [
    {
     "data": {
      "text/plain": [
       "(6890, 14)"
      ]
     },
     "execution_count": 392,
     "metadata": {},
     "output_type": "execute_result"
    }
   ],
   "source": [
    "df_inc_sample.shape"
   ]
  },
  {
   "cell_type": "code",
   "execution_count": 393,
   "metadata": {},
   "outputs": [],
   "source": [
    "from sklearn import preprocessing\n",
    "le = preprocessing.LabelEncoder()\n",
    "le.fit(y)\n",
    "y = le.transform(y)"
   ]
  },
  {
   "cell_type": "code",
   "execution_count": 394,
   "metadata": {},
   "outputs": [],
   "source": [
    "X_train, X_test, y_train, y_test =  train_test_split(X, y, test_size = 0.25)"
   ]
  },
  {
   "cell_type": "code",
   "execution_count": 395,
   "metadata": {},
   "outputs": [],
   "source": [
    "vectorizer = CountVectorizer(ngram_range = (1,2), stop_words=stopwords.words('english'), \n",
    "                             min_df = 0.05, max_df = 0.8, max_features = 100)"
   ]
  },
  {
   "cell_type": "code",
   "execution_count": 396,
   "metadata": {},
   "outputs": [
    {
     "data": {
      "text/plain": [
       "CountVectorizer(max_df=0.8, max_features=100, min_df=0.05, ngram_range=(1, 2),\n",
       "                stop_words=['i', 'me', 'my', 'myself', 'we', 'our', 'ours',\n",
       "                            'ourselves', 'you', \"you're\", \"you've\", \"you'll\",\n",
       "                            \"you'd\", 'your', 'yours', 'yourself', 'yourselves',\n",
       "                            'he', 'him', 'his', 'himself', 'she', \"she's\",\n",
       "                            'her', 'hers', 'herself', 'it', \"it's\", 'its',\n",
       "                            'itself', ...])"
      ]
     },
     "execution_count": 396,
     "metadata": {},
     "output_type": "execute_result"
    }
   ],
   "source": [
    "vectorizer"
   ]
  },
  {
   "cell_type": "code",
   "execution_count": 397,
   "metadata": {},
   "outputs": [
    {
     "data": {
      "text/plain": [
       "<5167x20 sparse matrix of type '<class 'numpy.int64'>'\n",
       "\twith 8175 stored elements in Compressed Sparse Row format>"
      ]
     },
     "execution_count": 397,
     "metadata": {},
     "output_type": "execute_result"
    }
   ],
   "source": [
    "X_train_dtm = vectorizer.fit_transform(X_train)\n",
    "X_test_dtm = vectorizer.transform(X_test)\n",
    "X_train_dtm"
   ]
  },
  {
   "cell_type": "code",
   "execution_count": 398,
   "metadata": {},
   "outputs": [
    {
     "data": {
      "text/plain": [
       "66      dn d plantplant plant d the issue display d ek...\n",
       "8094    jusfrttin gtehdnyuerrf mailtosystemhr toolcom ...\n",
       "1183    namefyzceglp vfnraqxclanguagebrowsermicrosoft ...\n",
       "7402        upgrade telephony software dierppeared screen\n",
       "6527                                             response\n",
       "                              ...                        \n",
       "3495    d d ztdgvclpgzcalstqgmailcom d d d having prob...\n",
       "7684                unable view credit card statement ess\n",
       "4578    zeiterfassung funktioniert nicht qs qualit tsm...\n",
       "2492    complete required questions d returned gsc req...\n",
       "3601    given surname changes required windows domain ...\n",
       "Name: token_desc, Length: 1723, dtype: object"
      ]
     },
     "execution_count": 398,
     "metadata": {},
     "output_type": "execute_result"
    }
   ],
   "source": [
    "X_test"
   ]
  },
  {
   "cell_type": "code",
   "execution_count": 399,
   "metadata": {},
   "outputs": [
    {
     "name": "stderr",
     "output_type": "stream",
     "text": [
      "C:\\Users\\DELL\\anaconda6\\lib\\site-packages\\sklearn\\utils\\deprecation.py:87: FutureWarning: Function get_feature_names is deprecated; get_feature_names is deprecated in 1.0 and will be removed in 1.2. Please use get_feature_names_out instead.\n",
      "  warnings.warn(msg, category=FutureWarning)\n"
     ]
    },
    {
     "data": {
      "text/plain": [
       "['able',\n",
       " 'access',\n",
       " 'account',\n",
       " 'company',\n",
       " 'erp',\n",
       " 'error',\n",
       " 'help',\n",
       " 'issue',\n",
       " 'login',\n",
       " 'need']"
      ]
     },
     "execution_count": 399,
     "metadata": {},
     "output_type": "execute_result"
    }
   ],
   "source": [
    "# check the vocabulary( First 15 features)\n",
    "vectorizer.get_feature_names()[:10]"
   ]
  },
  {
   "cell_type": "code",
   "execution_count": 400,
   "metadata": {},
   "outputs": [
    {
     "data": {
      "text/plain": [
       "array([0, 0, 0, ..., 0, 0, 0])"
      ]
     },
     "execution_count": 400,
     "metadata": {},
     "output_type": "execute_result"
    }
   ],
   "source": [
    "lr = LogisticRegression(solver='lbfgs', multi_class='ovr')\n",
    "ovr = OneVsRestClassifier(lr)\n",
    "\n",
    "ovr.fit(X_train_dtm, y_train)\n",
    "y_pred_ovr_test = ovr.predict(X_test_dtm)\n",
    "y_pred_ovr_test"
   ]
  },
  {
   "cell_type": "code",
   "execution_count": 401,
   "metadata": {},
   "outputs": [
    {
     "name": "stdout",
     "output_type": "stream",
     "text": [
      "0.5943122460824144\n"
     ]
    }
   ],
   "source": [
    "ovr.fit(X_train_dtm, y_train)\n",
    "pred = ovr.predict(X_test_dtm)\n",
    "print(accuracy_score(y_test, pred))\n",
    "linear_acc=accuracy_score(y_test,pred)"
   ]
  },
  {
   "cell_type": "code",
   "execution_count": 402,
   "metadata": {},
   "outputs": [
    {
     "name": "stdout",
     "output_type": "stream",
     "text": [
      "              precision    recall  f1-score   support\n",
      "\n",
      "           0       0.59      0.98      0.74       985\n",
      "           1       0.00      0.00      0.00        62\n",
      "           2       1.00      0.04      0.07        27\n",
      "           3       0.50      0.03      0.06        29\n",
      "           4       0.14      0.02      0.03        59\n",
      "           5       0.81      0.21      0.34        61\n",
      "           6       0.00      0.00      0.00        73\n",
      "           7       0.33      0.04      0.07        26\n",
      "           8       0.00      0.00      0.00        59\n",
      "           9       0.00      0.00      0.00        27\n",
      "          10       0.86      0.51      0.64        59\n",
      "          11       0.39      0.03      0.05       256\n",
      "\n",
      "    accuracy                           0.59      1723\n",
      "   macro avg       0.39      0.16      0.17      1723\n",
      "weighted avg       0.49      0.59      0.47      1723\n",
      "\n"
     ]
    },
    {
     "name": "stderr",
     "output_type": "stream",
     "text": [
      "C:\\Users\\DELL\\anaconda6\\lib\\site-packages\\sklearn\\metrics\\_classification.py:1318: UndefinedMetricWarning: Precision and F-score are ill-defined and being set to 0.0 in labels with no predicted samples. Use `zero_division` parameter to control this behavior.\n",
      "  _warn_prf(average, modifier, msg_start, len(result))\n",
      "C:\\Users\\DELL\\anaconda6\\lib\\site-packages\\sklearn\\metrics\\_classification.py:1318: UndefinedMetricWarning: Precision and F-score are ill-defined and being set to 0.0 in labels with no predicted samples. Use `zero_division` parameter to control this behavior.\n",
      "  _warn_prf(average, modifier, msg_start, len(result))\n",
      "C:\\Users\\DELL\\anaconda6\\lib\\site-packages\\sklearn\\metrics\\_classification.py:1318: UndefinedMetricWarning: Precision and F-score are ill-defined and being set to 0.0 in labels with no predicted samples. Use `zero_division` parameter to control this behavior.\n",
      "  _warn_prf(average, modifier, msg_start, len(result))\n"
     ]
    }
   ],
   "source": [
    "print(classification_report(y_test,pred))"
   ]
  },
  {
   "cell_type": "code",
   "execution_count": 403,
   "metadata": {},
   "outputs": [
    {
     "data": {
      "image/png": "[encoded data removed]",
      "text/plain": [
       "<Figure size 720x504 with 2 Axes>"
      ]
     },
     "metadata": {},
     "output_type": "display_data"
    }
   ],
   "source": [
    "conf_mat = confusion_matrix(y_test, pred)\n",
    "df_cm = pd.DataFrame(conf_mat, index = [i for i in range(0, 12)],\n",
    "                  columns = [i for i in range(0, 12)])\n",
    "plt.figure(figsize = (10,7))\n",
    "sns.heatmap(df_cm, annot=True, fmt='g');"
   ]
  },
  {
   "cell_type": "code",
   "execution_count": 404,
   "metadata": {},
   "outputs": [
    {
     "name": "stdout",
     "output_type": "stream",
     "text": [
      "0.5943122460824144\n",
      "              precision    recall  f1-score   support\n",
      "\n",
      "           0       0.59      0.99      0.74       985\n",
      "           1       0.00      0.00      0.00        62\n",
      "           2       0.00      0.00      0.00        27\n",
      "           3       0.00      0.00      0.00        29\n",
      "           4       0.25      0.02      0.03        59\n",
      "           5       0.76      0.21      0.33        61\n",
      "           6       0.00      0.00      0.00        73\n",
      "           7       0.33      0.04      0.07        26\n",
      "           8       0.00      0.00      0.00        59\n",
      "           9       0.00      0.00      0.00        27\n",
      "          10       0.86      0.51      0.64        59\n",
      "          11       0.38      0.02      0.04       256\n",
      "\n",
      "    accuracy                           0.59      1723\n",
      "   macro avg       0.26      0.15      0.15      1723\n",
      "weighted avg       0.46      0.59      0.46      1723\n",
      "\n"
     ]
    },
    {
     "name": "stderr",
     "output_type": "stream",
     "text": [
      "C:\\Users\\DELL\\anaconda6\\lib\\site-packages\\sklearn\\svm\\_base.py:1206: ConvergenceWarning: Liblinear failed to converge, increase the number of iterations.\n",
      "  warnings.warn(\n",
      "C:\\Users\\DELL\\anaconda6\\lib\\site-packages\\sklearn\\metrics\\_classification.py:1318: UndefinedMetricWarning: Precision and F-score are ill-defined and being set to 0.0 in labels with no predicted samples. Use `zero_division` parameter to control this behavior.\n",
      "  _warn_prf(average, modifier, msg_start, len(result))\n",
      "C:\\Users\\DELL\\anaconda6\\lib\\site-packages\\sklearn\\metrics\\_classification.py:1318: UndefinedMetricWarning: Precision and F-score are ill-defined and being set to 0.0 in labels with no predicted samples. Use `zero_division` parameter to control this behavior.\n",
      "  _warn_prf(average, modifier, msg_start, len(result))\n",
      "C:\\Users\\DELL\\anaconda6\\lib\\site-packages\\sklearn\\metrics\\_classification.py:1318: UndefinedMetricWarning: Precision and F-score are ill-defined and being set to 0.0 in labels with no predicted samples. Use `zero_division` parameter to control this behavior.\n",
      "  _warn_prf(average, modifier, msg_start, len(result))\n"
     ]
    }
   ],
   "source": [
    "from sklearn.svm import LinearSVC\n",
    "lsvc = LinearSVC()\n",
    "lsvc.fit(X_train_dtm, y_train)\n",
    "pred = lsvc.predict(X_test_dtm)\n",
    "print(accuracy_score(y_test, pred))\n",
    "SVC_acc=accuracy_score(y_test,pred)\n",
    "conf_mat = confusion_matrix(y_test, pred)\n",
    "print(classification_report(y_test,pred))"
   ]
  },
  {
   "cell_type": "code",
   "execution_count": 405,
   "metadata": {},
   "outputs": [
    {
     "data": {
      "image/png": "[encoded data removed]",
      "text/plain": [
       "<Figure size 720x504 with 2 Axes>"
      ]
     },
     "metadata": {},
     "output_type": "display_data"
    }
   ],
   "source": [
    "df_cm = pd.DataFrame(conf_mat, index = [i for i in range(0, 12)],\n",
    "                  columns = [i for i in range(0, 12)])\n",
    "plt.figure(figsize = (10,7))\n",
    "sns.heatmap(df_cm, annot=True, fmt='g');"
   ]
  },
  {
   "cell_type": "code",
   "execution_count": 406,
   "metadata": {},
   "outputs": [
    {
     "name": "stdout",
     "output_type": "stream",
     "text": [
      "0.5850261172373766\n"
     ]
    }
   ],
   "source": [
    "\n",
    "from sklearn.ensemble import RandomForestClassifier\n",
    "rfcl = RandomForestClassifier(n_estimators=150, random_state=100, bootstrap=False)\n",
    "rfcl = rfcl.fit(X_train_dtm, y_train)\n",
    "pred_RF = rfcl.predict(X_test_dtm)\n",
    "acc_RF = accuracy_score(y_test, pred_RF)\n",
    "print(acc_RF)"
   ]
  },
  {
   "cell_type": "markdown",
   "metadata": {},
   "source": [
    "Bernoullis Classifier¶"
   ]
  },
  {
   "cell_type": "code",
   "execution_count": 407,
   "metadata": {},
   "outputs": [
    {
     "name": "stdout",
     "output_type": "stream",
     "text": [
      "0.5821242019733024\n",
      "[0 0 0 ... 0 5 0]\n"
     ]
    }
   ],
   "source": [
    "from sklearn.naive_bayes import BernoulliNB\n",
    "from sklearn.metrics import accuracy_score\n",
    "clf = BernoulliNB()\n",
    "clf.fit(X_train_dtm, y_train)\n",
    "pred = clf.predict(X_test_dtm)\n",
    "print(accuracy_score(y_test, pred))\n",
    "ber_acc=accuracy_score(y_test,pred)\n",
    "print(pred)"
   ]
  },
  {
   "cell_type": "code",
   "execution_count": 408,
   "metadata": {
    "scrolled": true
   },
   "outputs": [
    {
     "name": "stdout",
     "output_type": "stream",
     "text": [
      "              precision    recall  f1-score   support\n",
      "\n",
      "           0       0.59      0.96      0.73       985\n",
      "           1       0.00      0.00      0.00        62\n",
      "           2       0.20      0.04      0.06        27\n",
      "           3       0.33      0.03      0.06        29\n",
      "           4       0.33      0.02      0.03        59\n",
      "           5       0.38      0.23      0.29        61\n",
      "           6       0.00      0.00      0.00        73\n",
      "           7       0.17      0.04      0.06        26\n",
      "           8       0.00      0.00      0.00        59\n",
      "           9       0.00      0.00      0.00        27\n",
      "          10       0.97      0.51      0.67        59\n",
      "          11       0.27      0.05      0.09       256\n",
      "\n",
      "    accuracy                           0.58      1723\n",
      "   macro avg       0.27      0.16      0.17      1723\n",
      "weighted avg       0.45      0.58      0.47      1723\n",
      "\n"
     ]
    },
    {
     "name": "stderr",
     "output_type": "stream",
     "text": [
      "C:\\Users\\DELL\\anaconda6\\lib\\site-packages\\sklearn\\metrics\\_classification.py:1318: UndefinedMetricWarning: Precision and F-score are ill-defined and being set to 0.0 in labels with no predicted samples. Use `zero_division` parameter to control this behavior.\n",
      "  _warn_prf(average, modifier, msg_start, len(result))\n",
      "C:\\Users\\DELL\\anaconda6\\lib\\site-packages\\sklearn\\metrics\\_classification.py:1318: UndefinedMetricWarning: Precision and F-score are ill-defined and being set to 0.0 in labels with no predicted samples. Use `zero_division` parameter to control this behavior.\n",
      "  _warn_prf(average, modifier, msg_start, len(result))\n",
      "C:\\Users\\DELL\\anaconda6\\lib\\site-packages\\sklearn\\metrics\\_classification.py:1318: UndefinedMetricWarning: Precision and F-score are ill-defined and being set to 0.0 in labels with no predicted samples. Use `zero_division` parameter to control this behavior.\n",
      "  _warn_prf(average, modifier, msg_start, len(result))\n"
     ]
    }
   ],
   "source": [
    "print(classification_report(y_test,pred))"
   ]
  },
  {
   "cell_type": "code",
   "execution_count": 409,
   "metadata": {},
   "outputs": [
    {
     "data": {
      "image/png": "[encoded data removed]",
      "text/plain": [
       "<Figure size 720x504 with 2 Axes>"
      ]
     },
     "metadata": {},
     "output_type": "display_data"
    }
   ],
   "source": [
    "df_cm = pd.DataFrame(conf_mat, index = [i for i in range(0, 12)],\n",
    "                  columns = [i for i in range(0, 12)])\n",
    "plt.figure(figsize = (10,7))\n",
    "sns.heatmap(df_cm, annot=True, fmt='g');"
   ]
  },
  {
   "cell_type": "code",
   "execution_count": 410,
   "metadata": {},
   "outputs": [
    {
     "name": "stdout",
     "output_type": "stream",
     "text": [
      "Following table shows comparison of the classification algorithms: \n"
     ]
    },
    {
     "data": {
      "text/html": [
       "<div>\n",
       "<style scoped>\n",
       "    .dataframe tbody tr th:only-of-type {\n",
       "        vertical-align: middle;\n",
       "    }\n",
       "\n",
       "    .dataframe tbody tr th {\n",
       "        vertical-align: top;\n",
       "    }\n",
       "\n",
       "    .dataframe thead th {\n",
       "        text-align: right;\n",
       "    }\n",
       "</style>\n",
       "<table border=\"1\" class=\"dataframe\">\n",
       "  <thead>\n",
       "    <tr style=\"text-align: right;\">\n",
       "      <th></th>\n",
       "      <th>Classification Algorithm</th>\n",
       "      <th>Accuracy (%)</th>\n",
       "    </tr>\n",
       "  </thead>\n",
       "  <tbody>\n",
       "    <tr>\n",
       "      <th>0</th>\n",
       "      <td>Logistic Regression</td>\n",
       "      <td>59.431225</td>\n",
       "    </tr>\n",
       "    <tr>\n",
       "      <th>1</th>\n",
       "      <td>Linear SVC</td>\n",
       "      <td>59.431225</td>\n",
       "    </tr>\n",
       "    <tr>\n",
       "      <th>2</th>\n",
       "      <td>RandomForest</td>\n",
       "      <td>58.502612</td>\n",
       "    </tr>\n",
       "    <tr>\n",
       "      <th>3</th>\n",
       "      <td>Bernoullis Classifier</td>\n",
       "      <td>58.212420</td>\n",
       "    </tr>\n",
       "  </tbody>\n",
       "</table>\n",
       "</div>"
      ],
      "text/plain": [
       "  Classification Algorithm  Accuracy (%)\n",
       "0      Logistic Regression     59.431225\n",
       "1               Linear SVC     59.431225\n",
       "2             RandomForest     58.502612\n",
       "3    Bernoullis Classifier     58.212420"
      ]
     },
     "execution_count": 410,
     "metadata": {},
     "output_type": "execute_result"
    }
   ],
   "source": [
    "df_comp = pd.DataFrame({'Classification Algorithm':['Logistic Regression', 'Linear SVC', 'RandomForest', \n",
    "                                                    'Bernoullis Classifier'],'Accuracy (%)':\n",
    "                                              [linear_acc*100,SVC_acc*100,acc_RF*100,ber_acc*100]})\n",
    "\n",
    "print(\"Following table shows comparison of the classification algorithms: \")\n",
    "df_comp"
   ]
  },
  {
   "cell_type": "code",
   "execution_count": 412,
   "metadata": {},
   "outputs": [],
   "source": [
    "df_new = pd.read_excel('C:/Users/DELL/Downloads/Data file.xlsx')"
   ]
  },
  {
   "cell_type": "code",
   "execution_count": 413,
   "metadata": {},
   "outputs": [],
   "source": [
    "from gensim.models import Word2Vec\n",
    "from tensorflow.keras.callbacks import ModelCheckpoint, ReduceLROnPlateau\n",
    "from tensorflow.keras.layers import Dense, Input, LSTM, Embedding, Dropout, Activation, Flatten, Bidirectional, GlobalMaxPool1D,GRU,Conv1D,MaxPooling1D\n",
    "from tensorflow.keras.models import Model, Sequential\n",
    "import tensorflow as tf\n",
    "from sklearn import metrics\n",
    "from tensorflow.keras import backend as K\n",
    "import matplotlib.pyplot as plt\n",
    "from tensorflow.keras.utils import plot_model\n",
    "from sklearn.model_selection import train_test_split\n",
    "from tensorflow.keras.preprocessing.text import Tokenizer\n",
    "from tensorflow.keras.preprocessing.sequence import pad_sequences"
   ]
  },
  {
   "cell_type": "code",
   "execution_count": 414,
   "metadata": {},
   "outputs": [],
   "source": [
    "import operator\n",
    "def captureData(dataframe,modelHistory,modelName,descriptions,index_df,resetData):\n",
    "  if resetData == 1:\n",
    "    tempResultsDf=pd.DataFrame()\n",
    "    dataframe=pd.DataFrame()\n",
    "  else:\n",
    "    index, acc_value = max(enumerate(modelHistory.history['val_accuracy']), key=operator.itemgetter(1))\n",
    "    tempResultsDf= pd.DataFrame(\n",
    "      {'model':[modelName], \n",
    "      'val_accuracy': [acc_value],\n",
    "      'val_loss':[modelHistory.history['val_loss'][index]],\n",
    "      'loss':[modelHistory.history['loss'][index]],\n",
    "      'accuracy':[modelHistory.history['accuracy'][index]],\n",
    "      'descriptions':[descriptions]},index={str(index_df)})\n",
    "    dataframe = pd.concat([dataframe,tempResultsDf])\n",
    "    dataframe = dataframe[['model','val_accuracy' ,'val_loss','loss','accuracy','descriptions']] \n",
    "  return dataframe\n",
    "\n",
    "def capturePrediction(dataframe,modelName,descriptions,index_df,pred_accuracy,resetData):\n",
    "  if resetData == 1:\n",
    "    tempResultsDf=pd.DataFrame()\n",
    "    dataframe=pd.DataFrame()\n",
    "  else:\n",
    "    tempResultsDf= pd.DataFrame(\n",
    "      {'model':[modelName], \n",
    "      'Pred_Accuracy' : [pred_accuracy],\n",
    "      'descriptions':[descriptions]},index={str(index_df)})\n",
    "    dataframe = pd.concat([dataframe,tempResultsDf])\n",
    "    dataframe = dataframe[['model','Pred_Accuracy','descriptions']] \n",
    "  return dataframe\n"
   ]
  },
  {
   "cell_type": "code",
   "execution_count": 415,
   "metadata": {},
   "outputs": [],
   "source": [
    "from sklearn import preprocessing\n",
    "def labelencoder(dataframe) : \n",
    "  label_encoder = preprocessing.LabelEncoder() \n",
    "  dataframe= label_encoder.fit_transform(dataframe)\n",
    "  grp_mapping = dict(zip(label_encoder.transform(label_encoder.classes_), label_encoder.classes_))\n",
    "  return dataframe,grp_mapping\n",
    "\n",
    "df_text['Assignment group'],grp_mapping_all_raw = labelencoder(df_text['Assignment group'])"
   ]
  },
  {
   "cell_type": "code",
   "execution_count": 416,
   "metadata": {},
   "outputs": [
    {
     "data": {
      "text/html": [
       "<div>\n",
       "<style scoped>\n",
       "    .dataframe tbody tr th:only-of-type {\n",
       "        vertical-align: middle;\n",
       "    }\n",
       "\n",
       "    .dataframe tbody tr th {\n",
       "        vertical-align: top;\n",
       "    }\n",
       "\n",
       "    .dataframe thead th {\n",
       "        text-align: right;\n",
       "    }\n",
       "</style>\n",
       "<table border=\"1\" class=\"dataframe\">\n",
       "  <thead>\n",
       "    <tr style=\"text-align: right;\">\n",
       "      <th></th>\n",
       "      <th>Short description</th>\n",
       "      <th>Caller</th>\n",
       "      <th>Assignment group</th>\n",
       "      <th>RawDescription</th>\n",
       "      <th>English_Description</th>\n",
       "      <th>RawWordCount</th>\n",
       "      <th>cleaned_description</th>\n",
       "      <th>number_of_words</th>\n",
       "    </tr>\n",
       "  </thead>\n",
       "  <tbody>\n",
       "    <tr>\n",
       "      <th>1395</th>\n",
       "      <td>unable to connect to vpn</td>\n",
       "      <td>ijplstng juybetlo</td>\n",
       "      <td>0</td>\n",
       "      <td>unable to connect to vpn</td>\n",
       "      <td>unable to connect to vpn</td>\n",
       "      <td>5</td>\n",
       "      <td>unable connect vpn</td>\n",
       "      <td>3</td>\n",
       "    </tr>\n",
       "    <tr>\n",
       "      <th>8444</th>\n",
       "      <td>unable to login the impact award login screen.</td>\n",
       "      <td>qxpytolu smagdipr</td>\n",
       "      <td>0</td>\n",
       "      <td>i am unable to login the url:</td>\n",
       "      <td>i am unable to login the url</td>\n",
       "      <td>8</td>\n",
       "      <td>unable login url</td>\n",
       "      <td>3</td>\n",
       "    </tr>\n",
       "    <tr>\n",
       "      <th>259</th>\n",
       "      <td>unable to login to hr_tool</td>\n",
       "      <td>imoelsap gxdwkimv</td>\n",
       "      <td>0</td>\n",
       "      <td>unable to login to hr_tool \\n\\n</td>\n",
       "      <td>unable to login to hr_tool</td>\n",
       "      <td>6</td>\n",
       "      <td>unable login tool</td>\n",
       "      <td>3</td>\n",
       "    </tr>\n",
       "    <tr>\n",
       "      <th>1468</th>\n",
       "      <td>ticket update on inplant_869308</td>\n",
       "      <td>fumkcsji sarmtlhy</td>\n",
       "      <td>0</td>\n",
       "      <td>ticket update on inplant_869308</td>\n",
       "      <td>ticket update on inplant_869308</td>\n",
       "      <td>4</td>\n",
       "      <td>ticket update inplant</td>\n",
       "      <td>3</td>\n",
       "    </tr>\n",
       "    <tr>\n",
       "      <th>8211</th>\n",
       "      <td>single/sign on for hr_tool oneteam is not work...</td>\n",
       "      <td>jegpvyrh kasnhdrb</td>\n",
       "      <td>0</td>\n",
       "      <td>_x000D_\\n_x000D_\\nreceived from: jegpvyrh.kasn...</td>\n",
       "      <td>_x000D__x000D_received from jegpvyrhkasnhdrbgm...</td>\n",
       "      <td>13</td>\n",
       "      <td>d d  jegpvyrhkasnhdrbgmailcom d d singlesign ...</td>\n",
       "      <td>22</td>\n",
       "    </tr>\n",
       "    <tr>\n",
       "      <th>6307</th>\n",
       "      <td>i have created 2 new material numbers but when...</td>\n",
       "      <td>xplwmiyr pifoldxr</td>\n",
       "      <td>12</td>\n",
       "      <td>mm#'s 7390081 and 6290061</td>\n",
       "      <td>mms 7390081 and 6290061</td>\n",
       "      <td>4</td>\n",
       "      <td>mms</td>\n",
       "      <td>1</td>\n",
       "    </tr>\n",
       "    <tr>\n",
       "      <th>4694</th>\n",
       "      <td>lhbsm005: disk free on f:\\ is now 3 % which is...</td>\n",
       "      <td>rkupnshb gsmzfojw</td>\n",
       "      <td>2</td>\n",
       "      <td>lhbsm005: disk free on f:\\ is now 3 % which is...</td>\n",
       "      <td>lhbsm005 disk free on f is now 3  which is bel...</td>\n",
       "      <td>17</td>\n",
       "      <td>lhbsm disk free warning threshold</td>\n",
       "      <td>5</td>\n",
       "    </tr>\n",
       "    <tr>\n",
       "      <th>1996</th>\n",
       "      <td>erp SID_34 account</td>\n",
       "      <td>zuxcfonv nyhpkrbe</td>\n",
       "      <td>0</td>\n",
       "      <td>\\n\\nreceived from: zuxcfonv.nyhpkrbe@gmail.com...</td>\n",
       "      <td>received from zuxcfonvnyhpkrbegmailcomgsopleas...</td>\n",
       "      <td>16</td>\n",
       "      <td>zuxcfonvnyhpkrbegmailcomgso unlock reset pass...</td>\n",
       "      <td>10</td>\n",
       "    </tr>\n",
       "    <tr>\n",
       "      <th>5728</th>\n",
       "      <td>vpn link</td>\n",
       "      <td>neoarmgd meodvbxu</td>\n",
       "      <td>0</td>\n",
       "      <td>_x000D_\\n_x000D_\\nreceived from: neoarmgd.meod...</td>\n",
       "      <td>_x000D__x000D_received from neoarmgdmeodvbxugm...</td>\n",
       "      <td>26</td>\n",
       "      <td>d d  neoarmgdmeodvbxugmailcom d d d d able lo...</td>\n",
       "      <td>24</td>\n",
       "    </tr>\n",
       "    <tr>\n",
       "      <th>3159</th>\n",
       "      <td>user unable to login to the telephony_software .</td>\n",
       "      <td>unzfykar osxmbhav</td>\n",
       "      <td>17</td>\n",
       "      <td>user unable to login to the telephony_software...</td>\n",
       "      <td>user unable to login to the telephony_software...</td>\n",
       "      <td>19</td>\n",
       "      <td>user unable login telephony software user unab...</td>\n",
       "      <td>13</td>\n",
       "    </tr>\n",
       "  </tbody>\n",
       "</table>\n",
       "</div>"
      ],
      "text/plain": [
       "                                      Short description             Caller  \\\n",
       "1395                           unable to connect to vpn  ijplstng juybetlo   \n",
       "8444     unable to login the impact award login screen.  qxpytolu smagdipr   \n",
       "259                         unable to login to hr_tool   imoelsap gxdwkimv   \n",
       "1468                    ticket update on inplant_869308  fumkcsji sarmtlhy   \n",
       "8211  single/sign on for hr_tool oneteam is not work...  jegpvyrh kasnhdrb   \n",
       "6307  i have created 2 new material numbers but when...  xplwmiyr pifoldxr   \n",
       "4694  lhbsm005: disk free on f:\\ is now 3 % which is...  rkupnshb gsmzfojw   \n",
       "1996                                erp SID_34 account   zuxcfonv nyhpkrbe   \n",
       "5728                                          vpn link   neoarmgd meodvbxu   \n",
       "3159   user unable to login to the telephony_software .  unzfykar osxmbhav   \n",
       "\n",
       "      Assignment group                                     RawDescription  \\\n",
       "1395                 0                           unable to connect to vpn   \n",
       "8444                 0                     i am unable to login the url:    \n",
       "259                  0                    unable to login to hr_tool \\n\\n   \n",
       "1468                 0                    ticket update on inplant_869308   \n",
       "8211                 0  _x000D_\\n_x000D_\\nreceived from: jegpvyrh.kasn...   \n",
       "6307                12                          mm#'s 7390081 and 6290061   \n",
       "4694                 2  lhbsm005: disk free on f:\\ is now 3 % which is...   \n",
       "1996                 0  \\n\\nreceived from: zuxcfonv.nyhpkrbe@gmail.com...   \n",
       "5728                 0  _x000D_\\n_x000D_\\nreceived from: neoarmgd.meod...   \n",
       "3159                17  user unable to login to the telephony_software...   \n",
       "\n",
       "                                    English_Description  RawWordCount  \\\n",
       "1395                           unable to connect to vpn             5   \n",
       "8444                      i am unable to login the url              8   \n",
       "259                         unable to login to hr_tool              6   \n",
       "1468                    ticket update on inplant_869308             4   \n",
       "8211  _x000D__x000D_received from jegpvyrhkasnhdrbgm...            13   \n",
       "6307                            mms 7390081 and 6290061             4   \n",
       "4694  lhbsm005 disk free on f is now 3  which is bel...            17   \n",
       "1996  received from zuxcfonvnyhpkrbegmailcomgsopleas...            16   \n",
       "5728  _x000D__x000D_received from neoarmgdmeodvbxugm...            26   \n",
       "3159  user unable to login to the telephony_software...            19   \n",
       "\n",
       "                                    cleaned_description  number_of_words  \n",
       "1395                                 unable connect vpn                3  \n",
       "8444                                   unable login url                3  \n",
       "259                                   unable login tool                3  \n",
       "1468                             ticket update inplant                 3  \n",
       "8211   d d  jegpvyrhkasnhdrbgmailcom d d singlesign ...               22  \n",
       "6307                                               mms                 1  \n",
       "4694                 lhbsm disk free warning threshold                 5  \n",
       "1996   zuxcfonvnyhpkrbegmailcomgso unlock reset pass...               10  \n",
       "5728   d d  neoarmgdmeodvbxugmailcom d d d d able lo...               24  \n",
       "3159  user unable login telephony software user unab...               13  "
      ]
     },
     "execution_count": 416,
     "metadata": {},
     "output_type": "execute_result"
    }
   ],
   "source": [
    "df_text.sample(10)"
   ]
  },
  {
   "cell_type": "markdown",
   "metadata": {},
   "source": [
    "# Word2Vec embedding"
   ]
  },
  {
   "cell_type": "code",
   "execution_count": null,
   "metadata": {},
   "outputs": [],
   "source": [
    "#project_path = '/C:/Users/91906/'"
   ]
  },
  {
   "cell_type": "code",
   "execution_count": null,
   "metadata": {},
   "outputs": [],
   "source": [
    "sentences = [line.split(' ') for line in df_text['cleaned_description']]\n",
    "word2vec = Word2Vec(sentences=sentences,min_count=1)\n",
    "word2vec.wv.save_word2vec_format('word2vec_vector.txt')"
   ]
  },
  {
   "cell_type": "code",
   "execution_count": null,
   "metadata": {},
   "outputs": [],
   "source": [
    "# load the whole embedding into memory\n",
    "embeddings_index = dict()\n",
    "f = open('word2vec_vector.txt')\n",
    "\n",
    "for line in f:\n",
    "\tvalues = line.split()\n",
    "\tword = values[0]\n",
    "\tcoefs = np.asarray(values[1:], dtype='float32')\n",
    "\tembeddings_index[word] = coefs\n",
    "f.close()\n",
    "print('Loaded %s word vectors.' % len(embeddings_index))"
   ]
  },
  {
   "cell_type": "code",
   "execution_count": 417,
   "metadata": {},
   "outputs": [],
   "source": [
    "maxlen = 300\n",
    "numWords=9000\n",
    "epochs = 10"
   ]
  },
  {
   "cell_type": "code",
   "execution_count": 418,
   "metadata": {},
   "outputs": [],
   "source": [
    "results=pd.DataFrame()\n",
    "pred_results = pd.DataFrame()"
   ]
  },
  {
   "cell_type": "markdown",
   "metadata": {},
   "source": [
    "# LSTM Model"
   ]
  },
  {
   "cell_type": "code",
   "execution_count": 419,
   "metadata": {},
   "outputs": [],
   "source": [
    "class LstmModel:\n",
    "  model= Model()\n",
    "  X_test=[]\n",
    "  y_test=[]\n",
    "  embedding_matrix=[]\n",
    "\n",
    "  def wordTokenizer(self, dataframe):\n",
    "    tokenizer = Tokenizer(num_words=numWords,filters='!\"#$%&()*+,-./:;<=>?@[\\\\]^_`{|}~\\t\\n',lower=True,split=' ', char_level=False)\n",
    "    tokenizer.fit_on_texts(dataframe)\n",
    "    dataframe = tokenizer.texts_to_sequences(dataframe)\n",
    "    return tokenizer,dataframe\n",
    "  \n",
    "  def splitData(self,X,y):\n",
    "\n",
    "    print(\"Number of Samples:\", len(X))\n",
    "    print(\"Number of Labels: \", len(y))\n",
    "    X_train, self.X_test, y_train, self.y_test = train_test_split(X, y, test_size=0.2, random_state=10) \n",
    "    X_train, X_Val, y_train, y_Val = train_test_split(X, y, test_size=0.2, random_state=10)\n",
    "    print(\"Number of train Samples:\", len(X_train))\n",
    "    print(\"Number of val Samples:\", len(X_Val))\n",
    "\n",
    "    return X_train, self.X_test, y_train, self.y_test, X_Val, y_Val\n",
    "\n",
    "  def tokenizeAndEmbedding(self,dataframe):\n",
    "    \n",
    "    tokenizer,X = self.wordTokenizer(dataframe['cleaned_description'])\n",
    "    y = np.asarray(dataframe['Assignment group'])\n",
    "    X = pad_sequences(X, maxlen = maxlen)\n",
    "\n",
    "    self.embedding_matrix = np.zeros((numWords+1, 100))\n",
    "    for i,word in tokenizer.index_word.items():\n",
    "      if i<numWords+1:\n",
    "        embedding_vector = embeddings_index.get(word)\n",
    "        if embedding_vector is not None:\n",
    "            self.embedding_matrix[i] = embedding_vector\n",
    "    return X,y\n",
    "\n",
    "  def train(self, dataframe, batch_size, epochs):\n",
    "   \n",
    "    X,y = self.tokenizeAndEmbedding(dataframe)\n",
    "    X_train,_, y_train,_, X_Val, y_Val = self.splitData(X,y)\n",
    "    model_history = self.fitModel(X_train,y_train,X_Val,y_Val,batch_size, epochs)\n",
    "    return model_history\n",
    "\n",
    "  def fitModel(self,X_train,y_train,X_Val,y_Val,batch_size, epochs):\n",
    "    \n",
    "    input_layer = Input(shape=(maxlen,),dtype=tf.int64)\n",
    "    embed = Embedding(numWords+1,output_dim=100,input_length=maxlen,weights=[self.embedding_matrix], trainable=True)(input_layer)  #weights=[embedding_matrix]\n",
    "    lstm=Bidirectional(LSTM(128))(embed)\n",
    "    drop=Dropout(0.3)(lstm)\n",
    "    dense =Dense(100,activation='relu')(drop)\n",
    "    out=Dense(len((pd.Series(y_train)).unique()),activation='softmax')(dense)   \n",
    "\n",
    "    self.model = Model(input_layer,out)\n",
    "    self.model.compile(loss='sparse_categorical_crossentropy',optimizer=\"adam\",metrics=['accuracy'])\n",
    "\n",
    "    self.model.summary()\n",
    "    plot_model(self.model,to_file=\"LSTM_Model.jpg\")\n",
    "\n",
    "    checkpoint = ModelCheckpoint('model-{epoch:03d}-{val_accuracy:03f}.h5', verbose=1, monitor='val_accuracy',save_best_only=True, mode='auto') \n",
    "    reduceLoss = ReduceLROnPlateau(monitor='val_loss', factor=0.2,patience=2, min_lr=0.0001)\n",
    "    model_history = self.model.fit(X_train,y_train,batch_size=batch_size, epochs=epochs, callbacks=[checkpoint,reduceLoss], validation_data=(X_Val,y_Val))\n",
    "\n",
    "    return model_history,self.model\n",
    "\n",
    "  def prediction(self):\n",
    "      \n",
    "     pred = self.model.predict(self.X_test)\n",
    "     pred = [i.argmax() for i in pred]\n",
    "     accuracy = metrics.accuracy_score(self.y_test, pred)\n",
    "     print(\"Accuracy of the model :\",metrics.accuracy_score(self.y_test, pred))\n",
    "     return accuracy\n",
    "\n",
    "  def plotModelAccuracy(self, history, modelname):\n",
    "    plt.plot(history.history['accuracy'])\n",
    "    plt.plot(history.history['val_accuracy'])\n",
    "\n",
    "    plt.title(modelname+' model accuracy')\n",
    "    plt.ylabel('accuracy')\n",
    "    plt.xlabel('epoch')\n",
    "    plt.legend(['train','test'], loc='upper left')\n",
    "    plt.show()\n",
    "\n",
    "    plt.plot(history.history['loss'])\n",
    "    plt.plot(history.history['val_loss'])\n",
    "\n",
    "    plt.title(modelname+' model loss')\n",
    "    plt.ylabel('loss')\n",
    "    plt.xlabel('epoch')\n",
    "    plt.legend(['train','test'], loc='upper left')\n",
    "    plt.show()"
   ]
  },
  {
   "cell_type": "code",
   "execution_count": null,
   "metadata": {},
   "outputs": [
    {
     "name": "stdout",
     "output_type": "stream",
     "text": [
      "Number of Samples: 7354\n",
      "Number of Labels:  7354\n",
      "Number of train Samples: 5883\n",
      "Number of val Samples: 1471\n",
      "Model: \"model_9\"\n",
      "_________________________________________________________________\n",
      " Layer (type)                Output Shape              Param #   \n",
      "=================================================================\n",
      " input_5 (InputLayer)        [(None, 300)]             0         \n",
      "                                                                 \n",
      " embedding_5 (Embedding)     (None, 300, 100)          900100    \n",
      "                                                                 \n",
      " bidirectional_4 (Bidirectio  (None, 256)              234496    \n",
      " nal)                                                            \n",
      "                                                                 \n",
      " dropout_4 (Dropout)         (None, 256)               0         \n",
      "                                                                 \n",
      " dense_10 (Dense)            (None, 100)               25700     \n",
      "                                                                 \n",
      " dense_11 (Dense)            (None, 18)                1818      \n",
      "                                                                 \n",
      "=================================================================\n",
      "Total params: 1,162,114\n",
      "Trainable params: 1,162,114\n",
      "Non-trainable params: 0\n",
      "_________________________________________________________________\n",
      "You must install pydot (`pip install pydot`) and install graphviz (see instructions at https://graphviz.gitlab.io/download/) for plot_model/model_to_dot to work.\n",
      "Epoch 1/10\n",
      "59/59 [==============================] - ETA: 0s - loss: 2.8592 - accuracy: 0.5363\n",
      "Epoch 1: val_accuracy improved from -inf to 0.54861, saving model to model-001-0.548606.h5\n",
      "59/59 [==============================] - 132s 2s/step - loss: 2.8592 - accuracy: 0.5363 - val_loss: 2.8252 - val_accuracy: 0.5486 - lr: 0.0010\n",
      "Epoch 2/10\n",
      "59/59 [==============================] - ETA: 0s - loss: 2.7968 - accuracy: 0.5363\n",
      "Epoch 2: val_accuracy did not improve from 0.54861\n",
      "59/59 [==============================] - 130s 2s/step - loss: 2.7968 - accuracy: 0.5363 - val_loss: 2.7621 - val_accuracy: 0.5486 - lr: 0.0010\n",
      "Epoch 3/10\n",
      "16/59 [=======>......................] - ETA: 1:40 - loss: 2.7621 - accuracy: 0.5175"
     ]
    }
   ],
   "source": [
    "# Check how the LSTM Model perform with the cleansed data\n",
    "lstmModelRawData = LstmModel()\n",
    "lstmModelRawData_history, model = lstmModelRawData.train(df_text,100,epochs)\n",
    "rawData_accuracy = lstmModelRawData.prediction()"
   ]
  },
  {
   "cell_type": "code",
   "execution_count": null,
   "metadata": {},
   "outputs": [],
   "source": [
    "lstmModelRawData.plotModelAccuracy(lstmModelRawData_history, 'All Data Unsampled LSTM')"
   ]
  },
  {
   "cell_type": "markdown",
   "metadata": {},
   "source": [
    "# Ends Here"
   ]
  },
  {
   "cell_type": "code",
   "execution_count": null,
   "metadata": {},
   "outputs": [],
   "source": []
  },
  {
   "cell_type": "code",
   "execution_count": null,
   "metadata": {},
   "outputs": [],
   "source": []
  }
 ],
 "metadata": {
  "accelerator": "GPU",
  "colab": {
   "collapsed_sections": [],
   "name": "Capstone_final.ipynb",
   "provenance": []
  },
  "kernelspec": {
   "display_name": "Python 3 (ipykernel)",
   "language": "python",
   "name": "python3"
  },
  "language_info": {
   "codemirror_mode": {
    "name": "ipython",
    "version": 3
   },
   "file_extension": ".py",
   "mimetype": "text/x-python",
   "name": "python",
   "nbconvert_exporter": "python",
   "pygments_lexer": "ipython3",
   "version": "3.9.7"
  }
 },
 "nbformat": 4,
 "nbformat_minor": 1
}
